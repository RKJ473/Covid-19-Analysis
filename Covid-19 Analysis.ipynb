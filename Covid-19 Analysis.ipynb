{
 "cells": [
  {
   "cell_type": "code",
   "execution_count": null,
   "metadata": {},
   "outputs": [],
   "source": [
    "# import all libraries\n",
    "import pandas as pd\n",
    "import matplotlib.pyplot as plt\n",
    "from matplotlib import style\n",
    "style.use('ggplot')\n",
    "%matplotlib inline\n",
    "import plotly\n",
    "import plotly.express as px\n",
    "import plotly.graph_objects as go\n",
    "plt.rcParams['figure.figsize']=20,20\n",
    "import plotly.offline as pyo\n",
    "from plotly.offline import init_notebook_mode,plot,iplot\n",
    "import folium\n",
    "pyo.init_notebook_mode(connected=True)\n",
    "cf.go_offline()"
   ]
  },
  {
   "cell_type": "code",
   "execution_count": 2,
   "metadata": {},
   "outputs": [],
   "source": [
    "#import data using pandas\n",
    "Data = pd.read_csv(r'C:\\Users\\prateekj\\Desktop\\Covid_Data.csv')"
   ]
  },
  {
   "cell_type": "code",
   "execution_count": 3,
   "metadata": {},
   "outputs": [
    {
     "name": "stdout",
     "output_type": "stream",
     "text": [
      "         State  Confirmed  Recovered  Deaths  Active    Last_Updated_Time  \\\n",
      "0        Total    2091810    1429420   42623  619310  08/08/2020 16:44:33   \n",
      "1  Maharashtra     490262     327281   17092  145582  08/08/2020 12:43:37   \n",
      "2   Tamil Nadu     285024     227575    4690   52759  08/08/2020 12:43:40   \n",
      "3        Delhi     142723     128232    4082   10409  07/08/2020 18:17:30   \n",
      "4    Karnataka     164924      84232    2998   77685  07/08/2020 21:05:32   \n",
      "\n",
      "   Migrated_Other State_code  Delta_Confirmed  Delta_Recovered  Delta_Deaths  \\\n",
      "0             457         TT             4946             1649            48   \n",
      "1             307         MH                0                0             0   \n",
      "2               0         TN                0                0             0   \n",
      "3               0         DL                0                0             0   \n",
      "4               9         KA                0                0             0   \n",
      "\n",
      "                                         State_Notes  \n",
      "0                                                NaN  \n",
      "1  307 cases are marked as non-covid deaths in MH...  \n",
      "2  [July 22]: 444 backdated deceased entries adde...  \n",
      "3  [July 14]: Value for the total tests conducted...  \n",
      "4                                                NaN  \n"
     ]
    }
   ],
   "source": [
    "#Head - first five rows\n",
    "print(Data.head())"
   ]
  },
  {
   "cell_type": "code",
   "execution_count": 4,
   "metadata": {},
   "outputs": [
    {
     "name": "stdout",
     "output_type": "stream",
     "text": [
      "Index(['State', 'Confirmed', 'Recovered', 'Deaths', 'Active',\n",
      "       'Last_Updated_Time', 'Migrated_Other', 'State_code', 'Delta_Confirmed',\n",
      "       'Delta_Recovered', 'Delta_Deaths', 'State_Notes'],\n",
      "      dtype='object')\n"
     ]
    }
   ],
   "source": [
    "#Check out Columns\n",
    "print(Data.columns)"
   ]
  },
  {
   "cell_type": "code",
   "execution_count": 5,
   "metadata": {},
   "outputs": [],
   "source": [
    "#Remove unnecessary columns\n",
    "Data.drop(['Last_Updated_Time', 'Migrated_Other', 'State_code', 'Delta_Confirmed',\n",
    "       'Delta_Recovered', 'Delta_Deaths', 'State_Notes'], inplace =True,axis=1)"
   ]
  },
  {
   "cell_type": "code",
   "execution_count": 6,
   "metadata": {},
   "outputs": [
    {
     "name": "stdout",
     "output_type": "stream",
     "text": [
      "         State  Confirmed  Recovered  Deaths  Active\n",
      "0        Total    2091810    1429420   42623  619310\n",
      "1  Maharashtra     490262     327281   17092  145582\n",
      "2   Tamil Nadu     285024     227575    4690   52759\n",
      "3        Delhi     142723     128232    4082   10409\n",
      "4    Karnataka     164924      84232    2998   77685\n"
     ]
    }
   ],
   "source": [
    "#Head - first five rows\n",
    "print(Data.head())"
   ]
  },
  {
   "cell_type": "code",
   "execution_count": 7,
   "metadata": {},
   "outputs": [
    {
     "name": "stdout",
     "output_type": "stream",
     "text": [
      "                          State  Confirmed  Recovered  Deaths  Active\n",
      "33                       Sikkim        854        406       1     447\n",
      "34                      Mizoram        567        289       0     277\n",
      "35  Andaman and Nicobar Islands       1222        425      19     778\n",
      "36             State Unassigned          0          0       0       0\n",
      "37                  Lakshadweep          0          0       0       0\n"
     ]
    }
   ],
   "source": [
    "#Tail - Last five rows\n",
    "print(Data.tail())"
   ]
  },
  {
   "cell_type": "code",
   "execution_count": 8,
   "metadata": {},
   "outputs": [],
   "source": [
    "#Remove Total & State Unassigned\n",
    "Data.drop([0,36],axis=0,inplace=True)"
   ]
  },
  {
   "cell_type": "code",
   "execution_count": 9,
   "metadata": {},
   "outputs": [
    {
     "name": "stdout",
     "output_type": "stream",
     "text": [
      "            State  Confirmed  Recovered  Deaths  Active\n",
      "1     Maharashtra     490262     327281   17092  145582\n",
      "2      Tamil Nadu     285024     227575    4690   52759\n",
      "3           Delhi     142723     128232    4082   10409\n",
      "4       Karnataka     164924      84232    2998   77685\n",
      "5  Andhra Pradesh     206960     120464    1842   84654\n"
     ]
    }
   ],
   "source": [
    "#Check out again\n",
    "print(Data.head())"
   ]
  },
  {
   "cell_type": "code",
   "execution_count": 10,
   "metadata": {},
   "outputs": [
    {
     "name": "stdout",
     "output_type": "stream",
     "text": [
      "                          State  Confirmed  Recovered  Deaths  Active\n",
      "32                    Meghalaya       1023        423       6     594\n",
      "33                       Sikkim        854        406       1     447\n",
      "34                      Mizoram        567        289       0     277\n",
      "35  Andaman and Nicobar Islands       1222        425      19     778\n",
      "37                  Lakshadweep          0          0       0       0\n"
     ]
    }
   ],
   "source": [
    "print(Data.tail())"
   ]
  },
  {
   "cell_type": "code",
   "execution_count": 11,
   "metadata": {},
   "outputs": [],
   "source": [
    "#Sum of all the columns\n",
    "Total_Confirmed = Data['Confirmed'].sum()\n",
    "Total_Recovered = Data['Recovered'].sum()\n",
    "Total_Deaths = Data['Deaths'].sum()\n",
    "Total_Active = Data['Active'].sum()"
   ]
  },
  {
   "cell_type": "code",
   "execution_count": 12,
   "metadata": {},
   "outputs": [
    {
     "name": "stdout",
     "output_type": "stream",
     "text": [
      "Total Number of Confirmed Covid-19 Cases in India (till 08/08/2020): 2091810\n"
     ]
    }
   ],
   "source": [
    "print('Total Number of Confirmed Covid-19 Cases in India (till 08/08/2020):',Total_Confirmed)"
   ]
  },
  {
   "cell_type": "code",
   "execution_count": 13,
   "metadata": {},
   "outputs": [
    {
     "name": "stdout",
     "output_type": "stream",
     "text": [
      "Total Number of Recovered Covid-19 Cases in India (till 08/08/2020): 1429420\n"
     ]
    }
   ],
   "source": [
    "print('Total Number of Recovered Covid-19 Cases in India (till 08/08/2020):',Total_Recovered)"
   ]
  },
  {
   "cell_type": "code",
   "execution_count": 14,
   "metadata": {},
   "outputs": [
    {
     "name": "stdout",
     "output_type": "stream",
     "text": [
      "Total Number of Deaths due to Covid-19 in India (till 08/08/2020): 42623\n"
     ]
    }
   ],
   "source": [
    "print('Total Number of Deaths due to Covid-19 in India (till 08/08/2020):',Total_Deaths)"
   ]
  },
  {
   "cell_type": "code",
   "execution_count": 15,
   "metadata": {},
   "outputs": [
    {
     "name": "stdout",
     "output_type": "stream",
     "text": [
      "Total Number of Active Cases in India (till 08/08/2020): 619310\n"
     ]
    }
   ],
   "source": [
    "print('Total Number of Active Cases in India (till 08/08/2020):',Total_Active)"
   ]
  },
  {
   "cell_type": "code",
   "execution_count": 16,
   "metadata": {},
   "outputs": [],
   "source": [
    "#Infection Fatality Ratio \n",
    "IFR = (Total_Deaths / Total_Confirmed) * 100 "
   ]
  },
  {
   "cell_type": "code",
   "execution_count": 17,
   "metadata": {},
   "outputs": [
    {
     "name": "stdout",
     "output_type": "stream",
     "text": [
      "Infection Fatality Ratio for Covid-19 in India : 2.0376133587658534 %\n"
     ]
    }
   ],
   "source": [
    "print('Infection Fatality Ratio for Covid-19 in India :',IFR,'%')"
   ]
  },
  {
   "cell_type": "code",
   "execution_count": 18,
   "metadata": {},
   "outputs": [],
   "source": [
    "#Grouping Confirmed Cases with States\n",
    "Total_conf= Data.groupby('State')['Confirmed'].sum().sort_values(ascending=False).to_frame()"
   ]
  },
  {
   "cell_type": "code",
   "execution_count": 19,
   "metadata": {},
   "outputs": [],
   "source": [
    "#Grouping Recovery with States\n",
    "Total_Reco= Data.groupby('State')['Recovered'].sum().sort_values(ascending=False).to_frame()"
   ]
  },
  {
   "cell_type": "code",
   "execution_count": 20,
   "metadata": {},
   "outputs": [],
   "source": [
    "#Grouping Deaths with States\n",
    "Total_Dea= Data.groupby('State')['Deaths'].sum().sort_values(ascending=False).to_frame()"
   ]
  },
  {
   "cell_type": "code",
   "execution_count": 21,
   "metadata": {},
   "outputs": [],
   "source": [
    "#Grouping Active Cases with States\n",
    "Total_act= Data.groupby('State')['Active'].sum().sort_values(ascending=False).to_frame()"
   ]
  },
  {
   "cell_type": "code",
   "execution_count": 22,
   "metadata": {},
   "outputs": [
    {
     "name": "stdout",
     "output_type": "stream",
     "text": [
      "                                          Confirmed\n",
      "State                                              \n",
      "Maharashtra                                  490262\n",
      "Tamil Nadu                                   285024\n",
      "Andhra Pradesh                               206960\n",
      "Karnataka                                    164924\n",
      "Delhi                                        142723\n",
      "Uttar Pradesh                                113378\n",
      "West Bengal                                   89666\n",
      "Telangana                                     77513\n",
      "Bihar                                         71794\n",
      "Gujarat                                       68885\n",
      "Assam                                         55497\n",
      "Rajasthan                                     50656\n",
      "Odisha                                        44193\n",
      "Haryana                                       40054\n",
      "Madhya Pradesh                                37298\n",
      "Kerala                                        31700\n",
      "Jammu and Kashmir                             23927\n",
      "Punjab                                        21930\n",
      "Jharkhand                                     16542\n",
      "Chhattisgarh                                  11408\n",
      "Uttarakhand                                    8901\n",
      "Goa                                            7947\n",
      "Tripura                                        6014\n",
      "Puducherry                                     5123\n",
      "Manipur                                        3466\n",
      "Himachal Pradesh                               3206\n",
      "Nagaland                                       2657\n",
      "Arunachal Pradesh                              2049\n",
      "Ladakh                                         1614\n",
      "Dadra and Nagar Haveli and Daman and Diu       1459\n",
      "Chandigarh                                     1374\n",
      "Andaman and Nicobar Islands                    1222\n",
      "Meghalaya                                      1023\n",
      "Sikkim                                          854\n",
      "Mizoram                                         567\n",
      "Lakshadweep                                       0\n"
     ]
    }
   ],
   "source": [
    "#Checking out Confirmed cases by states\n",
    "print(Total_conf)"
   ]
  },
  {
   "cell_type": "code",
   "execution_count": 23,
   "metadata": {},
   "outputs": [
    {
     "name": "stdout",
     "output_type": "stream",
     "text": [
      "                                          Recovered\n",
      "State                                              \n",
      "Maharashtra                                  327281\n",
      "Tamil Nadu                                   227575\n",
      "Delhi                                        128232\n",
      "Andhra Pradesh                               120464\n",
      "Karnataka                                     84232\n",
      "Uttar Pradesh                                 66834\n",
      "West Bengal                                   63060\n",
      "Telangana                                     54330\n",
      "Gujarat                                       51894\n",
      "Bihar                                         46265\n",
      "Assam                                         38810\n",
      "Rajasthan                                     36310\n",
      "Haryana                                       33444\n",
      "Odisha                                        28698\n",
      "Madhya Pradesh                                27621\n",
      "Kerala                                        19147\n",
      "Jammu and Kashmir                             16218\n",
      "Punjab                                        14040\n",
      "Chhattisgarh                                   8319\n",
      "Jharkhand                                      7503\n",
      "Uttarakhand                                    5731\n",
      "Goa                                            5595\n",
      "Tripura                                        4084\n",
      "Puducherry                                     3054\n",
      "Himachal Pradesh                               2008\n",
      "Manipur                                        1926\n",
      "Arunachal Pradesh                              1326\n",
      "Ladakh                                         1194\n",
      "Dadra and Nagar Haveli and Daman and Diu       1038\n",
      "Nagaland                                        824\n",
      "Chandigarh                                      820\n",
      "Andaman and Nicobar Islands                     425\n",
      "Meghalaya                                       423\n",
      "Sikkim                                          406\n",
      "Mizoram                                         289\n",
      "Lakshadweep                                       0\n"
     ]
    }
   ],
   "source": [
    "#Checking out Recovery by States \n",
    "print(Total_Reco)"
   ]
  },
  {
   "cell_type": "code",
   "execution_count": 24,
   "metadata": {},
   "outputs": [
    {
     "name": "stdout",
     "output_type": "stream",
     "text": [
      "                                          Deaths\n",
      "State                                           \n",
      "Maharashtra                                17092\n",
      "Tamil Nadu                                  4690\n",
      "Delhi                                       4082\n",
      "Karnataka                                   2998\n",
      "Gujarat                                     2601\n",
      "Uttar Pradesh                               1981\n",
      "West Bengal                                 1954\n",
      "Andhra Pradesh                              1842\n",
      "Madhya Pradesh                               962\n",
      "Rajasthan                                    776\n",
      "Telangana                                    615\n",
      "Punjab                                       539\n",
      "Haryana                                      467\n",
      "Jammu and Kashmir                            449\n",
      "Bihar                                        400\n",
      "Odisha                                       307\n",
      "Jharkhand                                    154\n",
      "Assam                                        132\n",
      "Uttarakhand                                  112\n",
      "Kerala                                       103\n",
      "Chhattisgarh                                  87\n",
      "Puducherry                                    80\n",
      "Goa                                           70\n",
      "Tripura                                       37\n",
      "Chandigarh                                    23\n",
      "Andaman and Nicobar Islands                   19\n",
      "Himachal Pradesh                              13\n",
      "Manipur                                       10\n",
      "Ladakh                                         9\n",
      "Nagaland                                       7\n",
      "Meghalaya                                      6\n",
      "Arunachal Pradesh                              3\n",
      "Dadra and Nagar Haveli and Daman and Diu       2\n",
      "Sikkim                                         1\n",
      "Lakshadweep                                    0\n",
      "Mizoram                                        0\n"
     ]
    }
   ],
   "source": [
    "#Checking out Deaths by state \n",
    "print(Total_Dea)"
   ]
  },
  {
   "cell_type": "code",
   "execution_count": 25,
   "metadata": {},
   "outputs": [
    {
     "name": "stdout",
     "output_type": "stream",
     "text": [
      "                                          Active\n",
      "State                                           \n",
      "Maharashtra                               145582\n",
      "Andhra Pradesh                             84654\n",
      "Karnataka                                  77685\n",
      "Tamil Nadu                                 52759\n",
      "Uttar Pradesh                              44563\n",
      "Bihar                                      25128\n",
      "West Bengal                                24652\n",
      "Telangana                                  22568\n",
      "Assam                                      16552\n",
      "Odisha                                     15188\n",
      "Gujarat                                    14390\n",
      "Rajasthan                                  13570\n",
      "Kerala                                     12411\n",
      "Delhi                                      10409\n",
      "Jharkhand                                   8885\n",
      "Madhya Pradesh                              8715\n",
      "Punjab                                      7351\n",
      "Jammu and Kashmir                           7260\n",
      "Haryana                                     6143\n",
      "Uttarakhand                                 3020\n",
      "Chhattisgarh                                3002\n",
      "Goa                                         2282\n",
      "Puducherry                                  1989\n",
      "Tripura                                     1875\n",
      "Nagaland                                    1824\n",
      "Manipur                                     1530\n",
      "Himachal Pradesh                            1157\n",
      "Andaman and Nicobar Islands                  778\n",
      "Arunachal Pradesh                            720\n",
      "Meghalaya                                    594\n",
      "Chandigarh                                   530\n",
      "Sikkim                                       447\n",
      "Ladakh                                       411\n",
      "Dadra and Nagar Haveli and Daman and Diu     409\n",
      "Mizoram                                      277\n",
      "Lakshadweep                                    0\n"
     ]
    }
   ],
   "source": [
    "#Checking out active cases by states\n",
    "print(Total_act)"
   ]
  },
  {
   "cell_type": "code",
   "execution_count": 26,
   "metadata": {},
   "outputs": [
    {
     "data": {
      "text/html": [
       "<style  type=\"text/css\" >\n",
       "    #T_d34ee8b0_e09c_11ea_829c_705a0fd47084row0_col0 {\n",
       "            background-color:  #67000d;\n",
       "            color:  #f1f1f1;\n",
       "        }    #T_d34ee8b0_e09c_11ea_829c_705a0fd47084row1_col0 {\n",
       "            background-color:  #f34c37;\n",
       "            color:  #000000;\n",
       "        }    #T_d34ee8b0_e09c_11ea_829c_705a0fd47084row2_col0 {\n",
       "            background-color:  #fc8262;\n",
       "            color:  #000000;\n",
       "        }    #T_d34ee8b0_e09c_11ea_829c_705a0fd47084row3_col0 {\n",
       "            background-color:  #fc9e80;\n",
       "            color:  #000000;\n",
       "        }    #T_d34ee8b0_e09c_11ea_829c_705a0fd47084row4_col0 {\n",
       "            background-color:  #fcae92;\n",
       "            color:  #000000;\n",
       "        }    #T_d34ee8b0_e09c_11ea_829c_705a0fd47084row5_col0 {\n",
       "            background-color:  #fcc1a8;\n",
       "            color:  #000000;\n",
       "        }    #T_d34ee8b0_e09c_11ea_829c_705a0fd47084row6_col0 {\n",
       "            background-color:  #fdd0bc;\n",
       "            color:  #000000;\n",
       "        }    #T_d34ee8b0_e09c_11ea_829c_705a0fd47084row7_col0 {\n",
       "            background-color:  #fdd7c6;\n",
       "            color:  #000000;\n",
       "        }    #T_d34ee8b0_e09c_11ea_829c_705a0fd47084row8_col0 {\n",
       "            background-color:  #fedaca;\n",
       "            color:  #000000;\n",
       "        }    #T_d34ee8b0_e09c_11ea_829c_705a0fd47084row9_col0 {\n",
       "            background-color:  #fedccd;\n",
       "            color:  #000000;\n",
       "        }    #T_d34ee8b0_e09c_11ea_829c_705a0fd47084row10_col0 {\n",
       "            background-color:  #fee3d6;\n",
       "            color:  #000000;\n",
       "        }    #T_d34ee8b0_e09c_11ea_829c_705a0fd47084row11_col0 {\n",
       "            background-color:  #fee4d8;\n",
       "            color:  #000000;\n",
       "        }    #T_d34ee8b0_e09c_11ea_829c_705a0fd47084row12_col0 {\n",
       "            background-color:  #fee6da;\n",
       "            color:  #000000;\n",
       "        }    #T_d34ee8b0_e09c_11ea_829c_705a0fd47084row13_col0 {\n",
       "            background-color:  #fee8dd;\n",
       "            color:  #000000;\n",
       "        }    #T_d34ee8b0_e09c_11ea_829c_705a0fd47084row14_col0 {\n",
       "            background-color:  #fee8de;\n",
       "            color:  #000000;\n",
       "        }    #T_d34ee8b0_e09c_11ea_829c_705a0fd47084row15_col0 {\n",
       "            background-color:  #feeae1;\n",
       "            color:  #000000;\n",
       "        }    #T_d34ee8b0_e09c_11ea_829c_705a0fd47084row16_col0 {\n",
       "            background-color:  #ffede5;\n",
       "            color:  #000000;\n",
       "        }    #T_d34ee8b0_e09c_11ea_829c_705a0fd47084row17_col0 {\n",
       "            background-color:  #ffeee6;\n",
       "            color:  #000000;\n",
       "        }    #T_d34ee8b0_e09c_11ea_829c_705a0fd47084row18_col0 {\n",
       "            background-color:  #fff0e8;\n",
       "            color:  #000000;\n",
       "        }    #T_d34ee8b0_e09c_11ea_829c_705a0fd47084row19_col0 {\n",
       "            background-color:  #fff2eb;\n",
       "            color:  #000000;\n",
       "        }    #T_d34ee8b0_e09c_11ea_829c_705a0fd47084row20_col0 {\n",
       "            background-color:  #fff2ec;\n",
       "            color:  #000000;\n",
       "        }    #T_d34ee8b0_e09c_11ea_829c_705a0fd47084row21_col0 {\n",
       "            background-color:  #fff2ec;\n",
       "            color:  #000000;\n",
       "        }    #T_d34ee8b0_e09c_11ea_829c_705a0fd47084row22_col0 {\n",
       "            background-color:  #fff3ed;\n",
       "            color:  #000000;\n",
       "        }    #T_d34ee8b0_e09c_11ea_829c_705a0fd47084row23_col0 {\n",
       "            background-color:  #fff4ee;\n",
       "            color:  #000000;\n",
       "        }    #T_d34ee8b0_e09c_11ea_829c_705a0fd47084row24_col0 {\n",
       "            background-color:  #fff4ef;\n",
       "            color:  #000000;\n",
       "        }    #T_d34ee8b0_e09c_11ea_829c_705a0fd47084row25_col0 {\n",
       "            background-color:  #fff4ef;\n",
       "            color:  #000000;\n",
       "        }    #T_d34ee8b0_e09c_11ea_829c_705a0fd47084row26_col0 {\n",
       "            background-color:  #fff4ef;\n",
       "            color:  #000000;\n",
       "        }    #T_d34ee8b0_e09c_11ea_829c_705a0fd47084row27_col0 {\n",
       "            background-color:  #fff4ef;\n",
       "            color:  #000000;\n",
       "        }    #T_d34ee8b0_e09c_11ea_829c_705a0fd47084row28_col0 {\n",
       "            background-color:  #fff5f0;\n",
       "            color:  #000000;\n",
       "        }    #T_d34ee8b0_e09c_11ea_829c_705a0fd47084row29_col0 {\n",
       "            background-color:  #fff5f0;\n",
       "            color:  #000000;\n",
       "        }    #T_d34ee8b0_e09c_11ea_829c_705a0fd47084row30_col0 {\n",
       "            background-color:  #fff5f0;\n",
       "            color:  #000000;\n",
       "        }    #T_d34ee8b0_e09c_11ea_829c_705a0fd47084row31_col0 {\n",
       "            background-color:  #fff5f0;\n",
       "            color:  #000000;\n",
       "        }    #T_d34ee8b0_e09c_11ea_829c_705a0fd47084row32_col0 {\n",
       "            background-color:  #fff5f0;\n",
       "            color:  #000000;\n",
       "        }    #T_d34ee8b0_e09c_11ea_829c_705a0fd47084row33_col0 {\n",
       "            background-color:  #fff5f0;\n",
       "            color:  #000000;\n",
       "        }    #T_d34ee8b0_e09c_11ea_829c_705a0fd47084row34_col0 {\n",
       "            background-color:  #fff5f0;\n",
       "            color:  #000000;\n",
       "        }    #T_d34ee8b0_e09c_11ea_829c_705a0fd47084row35_col0 {\n",
       "            background-color:  #fff5f0;\n",
       "            color:  #000000;\n",
       "        }</style><table id=\"T_d34ee8b0_e09c_11ea_829c_705a0fd47084\" ><thead>    <tr>        <th class=\"blank level0\" ></th>        <th class=\"col_heading level0 col0\" >Confirmed</th>    </tr>    <tr>        <th class=\"index_name level0\" >State</th>        <th class=\"blank\" ></th>    </tr></thead><tbody>\n",
       "                <tr>\n",
       "                        <th id=\"T_d34ee8b0_e09c_11ea_829c_705a0fd47084level0_row0\" class=\"row_heading level0 row0\" >Maharashtra</th>\n",
       "                        <td id=\"T_d34ee8b0_e09c_11ea_829c_705a0fd47084row0_col0\" class=\"data row0 col0\" >490262</td>\n",
       "            </tr>\n",
       "            <tr>\n",
       "                        <th id=\"T_d34ee8b0_e09c_11ea_829c_705a0fd47084level0_row1\" class=\"row_heading level0 row1\" >Tamil Nadu</th>\n",
       "                        <td id=\"T_d34ee8b0_e09c_11ea_829c_705a0fd47084row1_col0\" class=\"data row1 col0\" >285024</td>\n",
       "            </tr>\n",
       "            <tr>\n",
       "                        <th id=\"T_d34ee8b0_e09c_11ea_829c_705a0fd47084level0_row2\" class=\"row_heading level0 row2\" >Andhra Pradesh</th>\n",
       "                        <td id=\"T_d34ee8b0_e09c_11ea_829c_705a0fd47084row2_col0\" class=\"data row2 col0\" >206960</td>\n",
       "            </tr>\n",
       "            <tr>\n",
       "                        <th id=\"T_d34ee8b0_e09c_11ea_829c_705a0fd47084level0_row3\" class=\"row_heading level0 row3\" >Karnataka</th>\n",
       "                        <td id=\"T_d34ee8b0_e09c_11ea_829c_705a0fd47084row3_col0\" class=\"data row3 col0\" >164924</td>\n",
       "            </tr>\n",
       "            <tr>\n",
       "                        <th id=\"T_d34ee8b0_e09c_11ea_829c_705a0fd47084level0_row4\" class=\"row_heading level0 row4\" >Delhi</th>\n",
       "                        <td id=\"T_d34ee8b0_e09c_11ea_829c_705a0fd47084row4_col0\" class=\"data row4 col0\" >142723</td>\n",
       "            </tr>\n",
       "            <tr>\n",
       "                        <th id=\"T_d34ee8b0_e09c_11ea_829c_705a0fd47084level0_row5\" class=\"row_heading level0 row5\" >Uttar Pradesh</th>\n",
       "                        <td id=\"T_d34ee8b0_e09c_11ea_829c_705a0fd47084row5_col0\" class=\"data row5 col0\" >113378</td>\n",
       "            </tr>\n",
       "            <tr>\n",
       "                        <th id=\"T_d34ee8b0_e09c_11ea_829c_705a0fd47084level0_row6\" class=\"row_heading level0 row6\" >West Bengal</th>\n",
       "                        <td id=\"T_d34ee8b0_e09c_11ea_829c_705a0fd47084row6_col0\" class=\"data row6 col0\" >89666</td>\n",
       "            </tr>\n",
       "            <tr>\n",
       "                        <th id=\"T_d34ee8b0_e09c_11ea_829c_705a0fd47084level0_row7\" class=\"row_heading level0 row7\" >Telangana</th>\n",
       "                        <td id=\"T_d34ee8b0_e09c_11ea_829c_705a0fd47084row7_col0\" class=\"data row7 col0\" >77513</td>\n",
       "            </tr>\n",
       "            <tr>\n",
       "                        <th id=\"T_d34ee8b0_e09c_11ea_829c_705a0fd47084level0_row8\" class=\"row_heading level0 row8\" >Bihar</th>\n",
       "                        <td id=\"T_d34ee8b0_e09c_11ea_829c_705a0fd47084row8_col0\" class=\"data row8 col0\" >71794</td>\n",
       "            </tr>\n",
       "            <tr>\n",
       "                        <th id=\"T_d34ee8b0_e09c_11ea_829c_705a0fd47084level0_row9\" class=\"row_heading level0 row9\" >Gujarat</th>\n",
       "                        <td id=\"T_d34ee8b0_e09c_11ea_829c_705a0fd47084row9_col0\" class=\"data row9 col0\" >68885</td>\n",
       "            </tr>\n",
       "            <tr>\n",
       "                        <th id=\"T_d34ee8b0_e09c_11ea_829c_705a0fd47084level0_row10\" class=\"row_heading level0 row10\" >Assam</th>\n",
       "                        <td id=\"T_d34ee8b0_e09c_11ea_829c_705a0fd47084row10_col0\" class=\"data row10 col0\" >55497</td>\n",
       "            </tr>\n",
       "            <tr>\n",
       "                        <th id=\"T_d34ee8b0_e09c_11ea_829c_705a0fd47084level0_row11\" class=\"row_heading level0 row11\" >Rajasthan</th>\n",
       "                        <td id=\"T_d34ee8b0_e09c_11ea_829c_705a0fd47084row11_col0\" class=\"data row11 col0\" >50656</td>\n",
       "            </tr>\n",
       "            <tr>\n",
       "                        <th id=\"T_d34ee8b0_e09c_11ea_829c_705a0fd47084level0_row12\" class=\"row_heading level0 row12\" >Odisha</th>\n",
       "                        <td id=\"T_d34ee8b0_e09c_11ea_829c_705a0fd47084row12_col0\" class=\"data row12 col0\" >44193</td>\n",
       "            </tr>\n",
       "            <tr>\n",
       "                        <th id=\"T_d34ee8b0_e09c_11ea_829c_705a0fd47084level0_row13\" class=\"row_heading level0 row13\" >Haryana</th>\n",
       "                        <td id=\"T_d34ee8b0_e09c_11ea_829c_705a0fd47084row13_col0\" class=\"data row13 col0\" >40054</td>\n",
       "            </tr>\n",
       "            <tr>\n",
       "                        <th id=\"T_d34ee8b0_e09c_11ea_829c_705a0fd47084level0_row14\" class=\"row_heading level0 row14\" >Madhya Pradesh</th>\n",
       "                        <td id=\"T_d34ee8b0_e09c_11ea_829c_705a0fd47084row14_col0\" class=\"data row14 col0\" >37298</td>\n",
       "            </tr>\n",
       "            <tr>\n",
       "                        <th id=\"T_d34ee8b0_e09c_11ea_829c_705a0fd47084level0_row15\" class=\"row_heading level0 row15\" >Kerala</th>\n",
       "                        <td id=\"T_d34ee8b0_e09c_11ea_829c_705a0fd47084row15_col0\" class=\"data row15 col0\" >31700</td>\n",
       "            </tr>\n",
       "            <tr>\n",
       "                        <th id=\"T_d34ee8b0_e09c_11ea_829c_705a0fd47084level0_row16\" class=\"row_heading level0 row16\" >Jammu and Kashmir</th>\n",
       "                        <td id=\"T_d34ee8b0_e09c_11ea_829c_705a0fd47084row16_col0\" class=\"data row16 col0\" >23927</td>\n",
       "            </tr>\n",
       "            <tr>\n",
       "                        <th id=\"T_d34ee8b0_e09c_11ea_829c_705a0fd47084level0_row17\" class=\"row_heading level0 row17\" >Punjab</th>\n",
       "                        <td id=\"T_d34ee8b0_e09c_11ea_829c_705a0fd47084row17_col0\" class=\"data row17 col0\" >21930</td>\n",
       "            </tr>\n",
       "            <tr>\n",
       "                        <th id=\"T_d34ee8b0_e09c_11ea_829c_705a0fd47084level0_row18\" class=\"row_heading level0 row18\" >Jharkhand</th>\n",
       "                        <td id=\"T_d34ee8b0_e09c_11ea_829c_705a0fd47084row18_col0\" class=\"data row18 col0\" >16542</td>\n",
       "            </tr>\n",
       "            <tr>\n",
       "                        <th id=\"T_d34ee8b0_e09c_11ea_829c_705a0fd47084level0_row19\" class=\"row_heading level0 row19\" >Chhattisgarh</th>\n",
       "                        <td id=\"T_d34ee8b0_e09c_11ea_829c_705a0fd47084row19_col0\" class=\"data row19 col0\" >11408</td>\n",
       "            </tr>\n",
       "            <tr>\n",
       "                        <th id=\"T_d34ee8b0_e09c_11ea_829c_705a0fd47084level0_row20\" class=\"row_heading level0 row20\" >Uttarakhand</th>\n",
       "                        <td id=\"T_d34ee8b0_e09c_11ea_829c_705a0fd47084row20_col0\" class=\"data row20 col0\" >8901</td>\n",
       "            </tr>\n",
       "            <tr>\n",
       "                        <th id=\"T_d34ee8b0_e09c_11ea_829c_705a0fd47084level0_row21\" class=\"row_heading level0 row21\" >Goa</th>\n",
       "                        <td id=\"T_d34ee8b0_e09c_11ea_829c_705a0fd47084row21_col0\" class=\"data row21 col0\" >7947</td>\n",
       "            </tr>\n",
       "            <tr>\n",
       "                        <th id=\"T_d34ee8b0_e09c_11ea_829c_705a0fd47084level0_row22\" class=\"row_heading level0 row22\" >Tripura</th>\n",
       "                        <td id=\"T_d34ee8b0_e09c_11ea_829c_705a0fd47084row22_col0\" class=\"data row22 col0\" >6014</td>\n",
       "            </tr>\n",
       "            <tr>\n",
       "                        <th id=\"T_d34ee8b0_e09c_11ea_829c_705a0fd47084level0_row23\" class=\"row_heading level0 row23\" >Puducherry</th>\n",
       "                        <td id=\"T_d34ee8b0_e09c_11ea_829c_705a0fd47084row23_col0\" class=\"data row23 col0\" >5123</td>\n",
       "            </tr>\n",
       "            <tr>\n",
       "                        <th id=\"T_d34ee8b0_e09c_11ea_829c_705a0fd47084level0_row24\" class=\"row_heading level0 row24\" >Manipur</th>\n",
       "                        <td id=\"T_d34ee8b0_e09c_11ea_829c_705a0fd47084row24_col0\" class=\"data row24 col0\" >3466</td>\n",
       "            </tr>\n",
       "            <tr>\n",
       "                        <th id=\"T_d34ee8b0_e09c_11ea_829c_705a0fd47084level0_row25\" class=\"row_heading level0 row25\" >Himachal Pradesh</th>\n",
       "                        <td id=\"T_d34ee8b0_e09c_11ea_829c_705a0fd47084row25_col0\" class=\"data row25 col0\" >3206</td>\n",
       "            </tr>\n",
       "            <tr>\n",
       "                        <th id=\"T_d34ee8b0_e09c_11ea_829c_705a0fd47084level0_row26\" class=\"row_heading level0 row26\" >Nagaland</th>\n",
       "                        <td id=\"T_d34ee8b0_e09c_11ea_829c_705a0fd47084row26_col0\" class=\"data row26 col0\" >2657</td>\n",
       "            </tr>\n",
       "            <tr>\n",
       "                        <th id=\"T_d34ee8b0_e09c_11ea_829c_705a0fd47084level0_row27\" class=\"row_heading level0 row27\" >Arunachal Pradesh</th>\n",
       "                        <td id=\"T_d34ee8b0_e09c_11ea_829c_705a0fd47084row27_col0\" class=\"data row27 col0\" >2049</td>\n",
       "            </tr>\n",
       "            <tr>\n",
       "                        <th id=\"T_d34ee8b0_e09c_11ea_829c_705a0fd47084level0_row28\" class=\"row_heading level0 row28\" >Ladakh</th>\n",
       "                        <td id=\"T_d34ee8b0_e09c_11ea_829c_705a0fd47084row28_col0\" class=\"data row28 col0\" >1614</td>\n",
       "            </tr>\n",
       "            <tr>\n",
       "                        <th id=\"T_d34ee8b0_e09c_11ea_829c_705a0fd47084level0_row29\" class=\"row_heading level0 row29\" >Dadra and Nagar Haveli and Daman and Diu</th>\n",
       "                        <td id=\"T_d34ee8b0_e09c_11ea_829c_705a0fd47084row29_col0\" class=\"data row29 col0\" >1459</td>\n",
       "            </tr>\n",
       "            <tr>\n",
       "                        <th id=\"T_d34ee8b0_e09c_11ea_829c_705a0fd47084level0_row30\" class=\"row_heading level0 row30\" >Chandigarh</th>\n",
       "                        <td id=\"T_d34ee8b0_e09c_11ea_829c_705a0fd47084row30_col0\" class=\"data row30 col0\" >1374</td>\n",
       "            </tr>\n",
       "            <tr>\n",
       "                        <th id=\"T_d34ee8b0_e09c_11ea_829c_705a0fd47084level0_row31\" class=\"row_heading level0 row31\" >Andaman and Nicobar Islands</th>\n",
       "                        <td id=\"T_d34ee8b0_e09c_11ea_829c_705a0fd47084row31_col0\" class=\"data row31 col0\" >1222</td>\n",
       "            </tr>\n",
       "            <tr>\n",
       "                        <th id=\"T_d34ee8b0_e09c_11ea_829c_705a0fd47084level0_row32\" class=\"row_heading level0 row32\" >Meghalaya</th>\n",
       "                        <td id=\"T_d34ee8b0_e09c_11ea_829c_705a0fd47084row32_col0\" class=\"data row32 col0\" >1023</td>\n",
       "            </tr>\n",
       "            <tr>\n",
       "                        <th id=\"T_d34ee8b0_e09c_11ea_829c_705a0fd47084level0_row33\" class=\"row_heading level0 row33\" >Sikkim</th>\n",
       "                        <td id=\"T_d34ee8b0_e09c_11ea_829c_705a0fd47084row33_col0\" class=\"data row33 col0\" >854</td>\n",
       "            </tr>\n",
       "            <tr>\n",
       "                        <th id=\"T_d34ee8b0_e09c_11ea_829c_705a0fd47084level0_row34\" class=\"row_heading level0 row34\" >Mizoram</th>\n",
       "                        <td id=\"T_d34ee8b0_e09c_11ea_829c_705a0fd47084row34_col0\" class=\"data row34 col0\" >567</td>\n",
       "            </tr>\n",
       "            <tr>\n",
       "                        <th id=\"T_d34ee8b0_e09c_11ea_829c_705a0fd47084level0_row35\" class=\"row_heading level0 row35\" >Lakshadweep</th>\n",
       "                        <td id=\"T_d34ee8b0_e09c_11ea_829c_705a0fd47084row35_col0\" class=\"data row35 col0\" >0</td>\n",
       "            </tr>\n",
       "    </tbody></table>"
      ],
      "text/plain": [
       "<pandas.io.formats.style.Styler at 0x197922231d0>"
      ]
     },
     "execution_count": 26,
     "metadata": {},
     "output_type": "execute_result"
    }
   ],
   "source": [
    "#Visualization of confirmed cases\n",
    "Total_conf.style.background_gradient(cmap='Reds')"
   ]
  },
  {
   "cell_type": "code",
   "execution_count": 27,
   "metadata": {},
   "outputs": [
    {
     "data": {
      "text/html": [
       "<style  type=\"text/css\" >\n",
       "    #T_d3ef1b8a_e09c_11ea_ae5a_705a0fd47084row0_col0 {\n",
       "            background-color:  #7f2704;\n",
       "            color:  #f1f1f1;\n",
       "        }    #T_d3ef1b8a_e09c_11ea_ae5a_705a0fd47084row1_col0 {\n",
       "            background-color:  #f57622;\n",
       "            color:  #000000;\n",
       "        }    #T_d3ef1b8a_e09c_11ea_ae5a_705a0fd47084row2_col0 {\n",
       "            background-color:  #fa8331;\n",
       "            color:  #000000;\n",
       "        }    #T_d3ef1b8a_e09c_11ea_ae5a_705a0fd47084row3_col0 {\n",
       "            background-color:  #fdb271;\n",
       "            color:  #000000;\n",
       "        }    #T_d3ef1b8a_e09c_11ea_ae5a_705a0fd47084row4_col0 {\n",
       "            background-color:  #fdc189;\n",
       "            color:  #000000;\n",
       "        }    #T_d3ef1b8a_e09c_11ea_ae5a_705a0fd47084row5_col0 {\n",
       "            background-color:  #fedebd;\n",
       "            color:  #000000;\n",
       "        }    #T_d3ef1b8a_e09c_11ea_ae5a_705a0fd47084row6_col0 {\n",
       "            background-color:  #fedebf;\n",
       "            color:  #000000;\n",
       "        }    #T_d3ef1b8a_e09c_11ea_ae5a_705a0fd47084row7_col0 {\n",
       "            background-color:  #fee1c4;\n",
       "            color:  #000000;\n",
       "        }    #T_d3ef1b8a_e09c_11ea_ae5a_705a0fd47084row8_col0 {\n",
       "            background-color:  #fee7d1;\n",
       "            color:  #000000;\n",
       "        }    #T_d3ef1b8a_e09c_11ea_ae5a_705a0fd47084row9_col0 {\n",
       "            background-color:  #fee9d3;\n",
       "            color:  #000000;\n",
       "        }    #T_d3ef1b8a_e09c_11ea_ae5a_705a0fd47084row10_col0 {\n",
       "            background-color:  #fee9d4;\n",
       "            color:  #000000;\n",
       "        }    #T_d3ef1b8a_e09c_11ea_ae5a_705a0fd47084row11_col0 {\n",
       "            background-color:  #feead6;\n",
       "            color:  #000000;\n",
       "        }    #T_d3ef1b8a_e09c_11ea_ae5a_705a0fd47084row12_col0 {\n",
       "            background-color:  #feebd8;\n",
       "            color:  #000000;\n",
       "        }    #T_d3ef1b8a_e09c_11ea_ae5a_705a0fd47084row13_col0 {\n",
       "            background-color:  #feeddb;\n",
       "            color:  #000000;\n",
       "        }    #T_d3ef1b8a_e09c_11ea_ae5a_705a0fd47084row14_col0 {\n",
       "            background-color:  #ffeedd;\n",
       "            color:  #000000;\n",
       "        }    #T_d3ef1b8a_e09c_11ea_ae5a_705a0fd47084row15_col0 {\n",
       "            background-color:  #ffeedd;\n",
       "            color:  #000000;\n",
       "        }    #T_d3ef1b8a_e09c_11ea_ae5a_705a0fd47084row16_col0 {\n",
       "            background-color:  #ffefe0;\n",
       "            color:  #000000;\n",
       "        }    #T_d3ef1b8a_e09c_11ea_ae5a_705a0fd47084row17_col0 {\n",
       "            background-color:  #ffefe0;\n",
       "            color:  #000000;\n",
       "        }    #T_d3ef1b8a_e09c_11ea_ae5a_705a0fd47084row18_col0 {\n",
       "            background-color:  #fff0e2;\n",
       "            color:  #000000;\n",
       "        }    #T_d3ef1b8a_e09c_11ea_ae5a_705a0fd47084row19_col0 {\n",
       "            background-color:  #fff3e6;\n",
       "            color:  #000000;\n",
       "        }    #T_d3ef1b8a_e09c_11ea_ae5a_705a0fd47084row20_col0 {\n",
       "            background-color:  #fff3e6;\n",
       "            color:  #000000;\n",
       "        }    #T_d3ef1b8a_e09c_11ea_ae5a_705a0fd47084row21_col0 {\n",
       "            background-color:  #fff3e7;\n",
       "            color:  #000000;\n",
       "        }    #T_d3ef1b8a_e09c_11ea_ae5a_705a0fd47084row22_col0 {\n",
       "            background-color:  #fff4e8;\n",
       "            color:  #000000;\n",
       "        }    #T_d3ef1b8a_e09c_11ea_ae5a_705a0fd47084row23_col0 {\n",
       "            background-color:  #fff4e8;\n",
       "            color:  #000000;\n",
       "        }    #T_d3ef1b8a_e09c_11ea_ae5a_705a0fd47084row24_col0 {\n",
       "            background-color:  #fff4e8;\n",
       "            color:  #000000;\n",
       "        }    #T_d3ef1b8a_e09c_11ea_ae5a_705a0fd47084row25_col0 {\n",
       "            background-color:  #fff4e9;\n",
       "            color:  #000000;\n",
       "        }    #T_d3ef1b8a_e09c_11ea_ae5a_705a0fd47084row26_col0 {\n",
       "            background-color:  #fff4e9;\n",
       "            color:  #000000;\n",
       "        }    #T_d3ef1b8a_e09c_11ea_ae5a_705a0fd47084row27_col0 {\n",
       "            background-color:  #fff5ea;\n",
       "            color:  #000000;\n",
       "        }    #T_d3ef1b8a_e09c_11ea_ae5a_705a0fd47084row28_col0 {\n",
       "            background-color:  #fff5ea;\n",
       "            color:  #000000;\n",
       "        }    #T_d3ef1b8a_e09c_11ea_ae5a_705a0fd47084row29_col0 {\n",
       "            background-color:  #fff5ea;\n",
       "            color:  #000000;\n",
       "        }    #T_d3ef1b8a_e09c_11ea_ae5a_705a0fd47084row30_col0 {\n",
       "            background-color:  #fff5eb;\n",
       "            color:  #000000;\n",
       "        }    #T_d3ef1b8a_e09c_11ea_ae5a_705a0fd47084row31_col0 {\n",
       "            background-color:  #fff5eb;\n",
       "            color:  #000000;\n",
       "        }    #T_d3ef1b8a_e09c_11ea_ae5a_705a0fd47084row32_col0 {\n",
       "            background-color:  #fff5eb;\n",
       "            color:  #000000;\n",
       "        }    #T_d3ef1b8a_e09c_11ea_ae5a_705a0fd47084row33_col0 {\n",
       "            background-color:  #fff5eb;\n",
       "            color:  #000000;\n",
       "        }    #T_d3ef1b8a_e09c_11ea_ae5a_705a0fd47084row34_col0 {\n",
       "            background-color:  #fff5eb;\n",
       "            color:  #000000;\n",
       "        }    #T_d3ef1b8a_e09c_11ea_ae5a_705a0fd47084row35_col0 {\n",
       "            background-color:  #fff5eb;\n",
       "            color:  #000000;\n",
       "        }</style><table id=\"T_d3ef1b8a_e09c_11ea_ae5a_705a0fd47084\" ><thead>    <tr>        <th class=\"blank level0\" ></th>        <th class=\"col_heading level0 col0\" >Active</th>    </tr>    <tr>        <th class=\"index_name level0\" >State</th>        <th class=\"blank\" ></th>    </tr></thead><tbody>\n",
       "                <tr>\n",
       "                        <th id=\"T_d3ef1b8a_e09c_11ea_ae5a_705a0fd47084level0_row0\" class=\"row_heading level0 row0\" >Maharashtra</th>\n",
       "                        <td id=\"T_d3ef1b8a_e09c_11ea_ae5a_705a0fd47084row0_col0\" class=\"data row0 col0\" >145582</td>\n",
       "            </tr>\n",
       "            <tr>\n",
       "                        <th id=\"T_d3ef1b8a_e09c_11ea_ae5a_705a0fd47084level0_row1\" class=\"row_heading level0 row1\" >Andhra Pradesh</th>\n",
       "                        <td id=\"T_d3ef1b8a_e09c_11ea_ae5a_705a0fd47084row1_col0\" class=\"data row1 col0\" >84654</td>\n",
       "            </tr>\n",
       "            <tr>\n",
       "                        <th id=\"T_d3ef1b8a_e09c_11ea_ae5a_705a0fd47084level0_row2\" class=\"row_heading level0 row2\" >Karnataka</th>\n",
       "                        <td id=\"T_d3ef1b8a_e09c_11ea_ae5a_705a0fd47084row2_col0\" class=\"data row2 col0\" >77685</td>\n",
       "            </tr>\n",
       "            <tr>\n",
       "                        <th id=\"T_d3ef1b8a_e09c_11ea_ae5a_705a0fd47084level0_row3\" class=\"row_heading level0 row3\" >Tamil Nadu</th>\n",
       "                        <td id=\"T_d3ef1b8a_e09c_11ea_ae5a_705a0fd47084row3_col0\" class=\"data row3 col0\" >52759</td>\n",
       "            </tr>\n",
       "            <tr>\n",
       "                        <th id=\"T_d3ef1b8a_e09c_11ea_ae5a_705a0fd47084level0_row4\" class=\"row_heading level0 row4\" >Uttar Pradesh</th>\n",
       "                        <td id=\"T_d3ef1b8a_e09c_11ea_ae5a_705a0fd47084row4_col0\" class=\"data row4 col0\" >44563</td>\n",
       "            </tr>\n",
       "            <tr>\n",
       "                        <th id=\"T_d3ef1b8a_e09c_11ea_ae5a_705a0fd47084level0_row5\" class=\"row_heading level0 row5\" >Bihar</th>\n",
       "                        <td id=\"T_d3ef1b8a_e09c_11ea_ae5a_705a0fd47084row5_col0\" class=\"data row5 col0\" >25128</td>\n",
       "            </tr>\n",
       "            <tr>\n",
       "                        <th id=\"T_d3ef1b8a_e09c_11ea_ae5a_705a0fd47084level0_row6\" class=\"row_heading level0 row6\" >West Bengal</th>\n",
       "                        <td id=\"T_d3ef1b8a_e09c_11ea_ae5a_705a0fd47084row6_col0\" class=\"data row6 col0\" >24652</td>\n",
       "            </tr>\n",
       "            <tr>\n",
       "                        <th id=\"T_d3ef1b8a_e09c_11ea_ae5a_705a0fd47084level0_row7\" class=\"row_heading level0 row7\" >Telangana</th>\n",
       "                        <td id=\"T_d3ef1b8a_e09c_11ea_ae5a_705a0fd47084row7_col0\" class=\"data row7 col0\" >22568</td>\n",
       "            </tr>\n",
       "            <tr>\n",
       "                        <th id=\"T_d3ef1b8a_e09c_11ea_ae5a_705a0fd47084level0_row8\" class=\"row_heading level0 row8\" >Assam</th>\n",
       "                        <td id=\"T_d3ef1b8a_e09c_11ea_ae5a_705a0fd47084row8_col0\" class=\"data row8 col0\" >16552</td>\n",
       "            </tr>\n",
       "            <tr>\n",
       "                        <th id=\"T_d3ef1b8a_e09c_11ea_ae5a_705a0fd47084level0_row9\" class=\"row_heading level0 row9\" >Odisha</th>\n",
       "                        <td id=\"T_d3ef1b8a_e09c_11ea_ae5a_705a0fd47084row9_col0\" class=\"data row9 col0\" >15188</td>\n",
       "            </tr>\n",
       "            <tr>\n",
       "                        <th id=\"T_d3ef1b8a_e09c_11ea_ae5a_705a0fd47084level0_row10\" class=\"row_heading level0 row10\" >Gujarat</th>\n",
       "                        <td id=\"T_d3ef1b8a_e09c_11ea_ae5a_705a0fd47084row10_col0\" class=\"data row10 col0\" >14390</td>\n",
       "            </tr>\n",
       "            <tr>\n",
       "                        <th id=\"T_d3ef1b8a_e09c_11ea_ae5a_705a0fd47084level0_row11\" class=\"row_heading level0 row11\" >Rajasthan</th>\n",
       "                        <td id=\"T_d3ef1b8a_e09c_11ea_ae5a_705a0fd47084row11_col0\" class=\"data row11 col0\" >13570</td>\n",
       "            </tr>\n",
       "            <tr>\n",
       "                        <th id=\"T_d3ef1b8a_e09c_11ea_ae5a_705a0fd47084level0_row12\" class=\"row_heading level0 row12\" >Kerala</th>\n",
       "                        <td id=\"T_d3ef1b8a_e09c_11ea_ae5a_705a0fd47084row12_col0\" class=\"data row12 col0\" >12411</td>\n",
       "            </tr>\n",
       "            <tr>\n",
       "                        <th id=\"T_d3ef1b8a_e09c_11ea_ae5a_705a0fd47084level0_row13\" class=\"row_heading level0 row13\" >Delhi</th>\n",
       "                        <td id=\"T_d3ef1b8a_e09c_11ea_ae5a_705a0fd47084row13_col0\" class=\"data row13 col0\" >10409</td>\n",
       "            </tr>\n",
       "            <tr>\n",
       "                        <th id=\"T_d3ef1b8a_e09c_11ea_ae5a_705a0fd47084level0_row14\" class=\"row_heading level0 row14\" >Jharkhand</th>\n",
       "                        <td id=\"T_d3ef1b8a_e09c_11ea_ae5a_705a0fd47084row14_col0\" class=\"data row14 col0\" >8885</td>\n",
       "            </tr>\n",
       "            <tr>\n",
       "                        <th id=\"T_d3ef1b8a_e09c_11ea_ae5a_705a0fd47084level0_row15\" class=\"row_heading level0 row15\" >Madhya Pradesh</th>\n",
       "                        <td id=\"T_d3ef1b8a_e09c_11ea_ae5a_705a0fd47084row15_col0\" class=\"data row15 col0\" >8715</td>\n",
       "            </tr>\n",
       "            <tr>\n",
       "                        <th id=\"T_d3ef1b8a_e09c_11ea_ae5a_705a0fd47084level0_row16\" class=\"row_heading level0 row16\" >Punjab</th>\n",
       "                        <td id=\"T_d3ef1b8a_e09c_11ea_ae5a_705a0fd47084row16_col0\" class=\"data row16 col0\" >7351</td>\n",
       "            </tr>\n",
       "            <tr>\n",
       "                        <th id=\"T_d3ef1b8a_e09c_11ea_ae5a_705a0fd47084level0_row17\" class=\"row_heading level0 row17\" >Jammu and Kashmir</th>\n",
       "                        <td id=\"T_d3ef1b8a_e09c_11ea_ae5a_705a0fd47084row17_col0\" class=\"data row17 col0\" >7260</td>\n",
       "            </tr>\n",
       "            <tr>\n",
       "                        <th id=\"T_d3ef1b8a_e09c_11ea_ae5a_705a0fd47084level0_row18\" class=\"row_heading level0 row18\" >Haryana</th>\n",
       "                        <td id=\"T_d3ef1b8a_e09c_11ea_ae5a_705a0fd47084row18_col0\" class=\"data row18 col0\" >6143</td>\n",
       "            </tr>\n",
       "            <tr>\n",
       "                        <th id=\"T_d3ef1b8a_e09c_11ea_ae5a_705a0fd47084level0_row19\" class=\"row_heading level0 row19\" >Uttarakhand</th>\n",
       "                        <td id=\"T_d3ef1b8a_e09c_11ea_ae5a_705a0fd47084row19_col0\" class=\"data row19 col0\" >3020</td>\n",
       "            </tr>\n",
       "            <tr>\n",
       "                        <th id=\"T_d3ef1b8a_e09c_11ea_ae5a_705a0fd47084level0_row20\" class=\"row_heading level0 row20\" >Chhattisgarh</th>\n",
       "                        <td id=\"T_d3ef1b8a_e09c_11ea_ae5a_705a0fd47084row20_col0\" class=\"data row20 col0\" >3002</td>\n",
       "            </tr>\n",
       "            <tr>\n",
       "                        <th id=\"T_d3ef1b8a_e09c_11ea_ae5a_705a0fd47084level0_row21\" class=\"row_heading level0 row21\" >Goa</th>\n",
       "                        <td id=\"T_d3ef1b8a_e09c_11ea_ae5a_705a0fd47084row21_col0\" class=\"data row21 col0\" >2282</td>\n",
       "            </tr>\n",
       "            <tr>\n",
       "                        <th id=\"T_d3ef1b8a_e09c_11ea_ae5a_705a0fd47084level0_row22\" class=\"row_heading level0 row22\" >Puducherry</th>\n",
       "                        <td id=\"T_d3ef1b8a_e09c_11ea_ae5a_705a0fd47084row22_col0\" class=\"data row22 col0\" >1989</td>\n",
       "            </tr>\n",
       "            <tr>\n",
       "                        <th id=\"T_d3ef1b8a_e09c_11ea_ae5a_705a0fd47084level0_row23\" class=\"row_heading level0 row23\" >Tripura</th>\n",
       "                        <td id=\"T_d3ef1b8a_e09c_11ea_ae5a_705a0fd47084row23_col0\" class=\"data row23 col0\" >1875</td>\n",
       "            </tr>\n",
       "            <tr>\n",
       "                        <th id=\"T_d3ef1b8a_e09c_11ea_ae5a_705a0fd47084level0_row24\" class=\"row_heading level0 row24\" >Nagaland</th>\n",
       "                        <td id=\"T_d3ef1b8a_e09c_11ea_ae5a_705a0fd47084row24_col0\" class=\"data row24 col0\" >1824</td>\n",
       "            </tr>\n",
       "            <tr>\n",
       "                        <th id=\"T_d3ef1b8a_e09c_11ea_ae5a_705a0fd47084level0_row25\" class=\"row_heading level0 row25\" >Manipur</th>\n",
       "                        <td id=\"T_d3ef1b8a_e09c_11ea_ae5a_705a0fd47084row25_col0\" class=\"data row25 col0\" >1530</td>\n",
       "            </tr>\n",
       "            <tr>\n",
       "                        <th id=\"T_d3ef1b8a_e09c_11ea_ae5a_705a0fd47084level0_row26\" class=\"row_heading level0 row26\" >Himachal Pradesh</th>\n",
       "                        <td id=\"T_d3ef1b8a_e09c_11ea_ae5a_705a0fd47084row26_col0\" class=\"data row26 col0\" >1157</td>\n",
       "            </tr>\n",
       "            <tr>\n",
       "                        <th id=\"T_d3ef1b8a_e09c_11ea_ae5a_705a0fd47084level0_row27\" class=\"row_heading level0 row27\" >Andaman and Nicobar Islands</th>\n",
       "                        <td id=\"T_d3ef1b8a_e09c_11ea_ae5a_705a0fd47084row27_col0\" class=\"data row27 col0\" >778</td>\n",
       "            </tr>\n",
       "            <tr>\n",
       "                        <th id=\"T_d3ef1b8a_e09c_11ea_ae5a_705a0fd47084level0_row28\" class=\"row_heading level0 row28\" >Arunachal Pradesh</th>\n",
       "                        <td id=\"T_d3ef1b8a_e09c_11ea_ae5a_705a0fd47084row28_col0\" class=\"data row28 col0\" >720</td>\n",
       "            </tr>\n",
       "            <tr>\n",
       "                        <th id=\"T_d3ef1b8a_e09c_11ea_ae5a_705a0fd47084level0_row29\" class=\"row_heading level0 row29\" >Meghalaya</th>\n",
       "                        <td id=\"T_d3ef1b8a_e09c_11ea_ae5a_705a0fd47084row29_col0\" class=\"data row29 col0\" >594</td>\n",
       "            </tr>\n",
       "            <tr>\n",
       "                        <th id=\"T_d3ef1b8a_e09c_11ea_ae5a_705a0fd47084level0_row30\" class=\"row_heading level0 row30\" >Chandigarh</th>\n",
       "                        <td id=\"T_d3ef1b8a_e09c_11ea_ae5a_705a0fd47084row30_col0\" class=\"data row30 col0\" >530</td>\n",
       "            </tr>\n",
       "            <tr>\n",
       "                        <th id=\"T_d3ef1b8a_e09c_11ea_ae5a_705a0fd47084level0_row31\" class=\"row_heading level0 row31\" >Sikkim</th>\n",
       "                        <td id=\"T_d3ef1b8a_e09c_11ea_ae5a_705a0fd47084row31_col0\" class=\"data row31 col0\" >447</td>\n",
       "            </tr>\n",
       "            <tr>\n",
       "                        <th id=\"T_d3ef1b8a_e09c_11ea_ae5a_705a0fd47084level0_row32\" class=\"row_heading level0 row32\" >Ladakh</th>\n",
       "                        <td id=\"T_d3ef1b8a_e09c_11ea_ae5a_705a0fd47084row32_col0\" class=\"data row32 col0\" >411</td>\n",
       "            </tr>\n",
       "            <tr>\n",
       "                        <th id=\"T_d3ef1b8a_e09c_11ea_ae5a_705a0fd47084level0_row33\" class=\"row_heading level0 row33\" >Dadra and Nagar Haveli and Daman and Diu</th>\n",
       "                        <td id=\"T_d3ef1b8a_e09c_11ea_ae5a_705a0fd47084row33_col0\" class=\"data row33 col0\" >409</td>\n",
       "            </tr>\n",
       "            <tr>\n",
       "                        <th id=\"T_d3ef1b8a_e09c_11ea_ae5a_705a0fd47084level0_row34\" class=\"row_heading level0 row34\" >Mizoram</th>\n",
       "                        <td id=\"T_d3ef1b8a_e09c_11ea_ae5a_705a0fd47084row34_col0\" class=\"data row34 col0\" >277</td>\n",
       "            </tr>\n",
       "            <tr>\n",
       "                        <th id=\"T_d3ef1b8a_e09c_11ea_ae5a_705a0fd47084level0_row35\" class=\"row_heading level0 row35\" >Lakshadweep</th>\n",
       "                        <td id=\"T_d3ef1b8a_e09c_11ea_ae5a_705a0fd47084row35_col0\" class=\"data row35 col0\" >0</td>\n",
       "            </tr>\n",
       "    </tbody></table>"
      ],
      "text/plain": [
       "<pandas.io.formats.style.Styler at 0x19792230cc0>"
      ]
     },
     "execution_count": 27,
     "metadata": {},
     "output_type": "execute_result"
    }
   ],
   "source": [
    "#Visuaization of Active Cases\n",
    "Total_act.style.background_gradient(cmap='Oranges')"
   ]
  },
  {
   "cell_type": "code",
   "execution_count": 28,
   "metadata": {},
   "outputs": [
    {
     "data": {
      "text/html": [
       "<style  type=\"text/css\" >\n",
       "    #T_d4873626_e09c_11ea_b81a_705a0fd47084row0_col0 {\n",
       "            background-color:  #000000;\n",
       "            color:  #f1f1f1;\n",
       "        }    #T_d4873626_e09c_11ea_b81a_705a0fd47084row1_col0 {\n",
       "            background-color:  #b9b9b9;\n",
       "            color:  #000000;\n",
       "        }    #T_d4873626_e09c_11ea_b81a_705a0fd47084row2_col0 {\n",
       "            background-color:  #c2c2c2;\n",
       "            color:  #000000;\n",
       "        }    #T_d4873626_e09c_11ea_b81a_705a0fd47084row3_col0 {\n",
       "            background-color:  #d3d3d3;\n",
       "            color:  #000000;\n",
       "        }    #T_d4873626_e09c_11ea_b81a_705a0fd47084row4_col0 {\n",
       "            background-color:  #d9d9d9;\n",
       "            color:  #000000;\n",
       "        }    #T_d4873626_e09c_11ea_b81a_705a0fd47084row5_col0 {\n",
       "            background-color:  #e2e2e2;\n",
       "            color:  #000000;\n",
       "        }    #T_d4873626_e09c_11ea_b81a_705a0fd47084row6_col0 {\n",
       "            background-color:  #e2e2e2;\n",
       "            color:  #000000;\n",
       "        }    #T_d4873626_e09c_11ea_b81a_705a0fd47084row7_col0 {\n",
       "            background-color:  #e4e4e4;\n",
       "            color:  #000000;\n",
       "        }    #T_d4873626_e09c_11ea_b81a_705a0fd47084row8_col0 {\n",
       "            background-color:  #f1f1f1;\n",
       "            color:  #000000;\n",
       "        }    #T_d4873626_e09c_11ea_b81a_705a0fd47084row9_col0 {\n",
       "            background-color:  #f4f4f4;\n",
       "            color:  #000000;\n",
       "        }    #T_d4873626_e09c_11ea_b81a_705a0fd47084row10_col0 {\n",
       "            background-color:  #f6f6f6;\n",
       "            color:  #000000;\n",
       "        }    #T_d4873626_e09c_11ea_b81a_705a0fd47084row11_col0 {\n",
       "            background-color:  #f7f7f7;\n",
       "            color:  #000000;\n",
       "        }    #T_d4873626_e09c_11ea_b81a_705a0fd47084row12_col0 {\n",
       "            background-color:  #f9f9f9;\n",
       "            color:  #000000;\n",
       "        }    #T_d4873626_e09c_11ea_b81a_705a0fd47084row13_col0 {\n",
       "            background-color:  #f9f9f9;\n",
       "            color:  #000000;\n",
       "        }    #T_d4873626_e09c_11ea_b81a_705a0fd47084row14_col0 {\n",
       "            background-color:  #fafafa;\n",
       "            color:  #000000;\n",
       "        }    #T_d4873626_e09c_11ea_b81a_705a0fd47084row15_col0 {\n",
       "            background-color:  #fbfbfb;\n",
       "            color:  #000000;\n",
       "        }    #T_d4873626_e09c_11ea_b81a_705a0fd47084row16_col0 {\n",
       "            background-color:  #fdfdfd;\n",
       "            color:  #000000;\n",
       "        }    #T_d4873626_e09c_11ea_b81a_705a0fd47084row17_col0 {\n",
       "            background-color:  #fefefe;\n",
       "            color:  #000000;\n",
       "        }    #T_d4873626_e09c_11ea_b81a_705a0fd47084row18_col0 {\n",
       "            background-color:  #fefefe;\n",
       "            color:  #000000;\n",
       "        }    #T_d4873626_e09c_11ea_b81a_705a0fd47084row19_col0 {\n",
       "            background-color:  #fefefe;\n",
       "            color:  #000000;\n",
       "        }    #T_d4873626_e09c_11ea_b81a_705a0fd47084row20_col0 {\n",
       "            background-color:  #fefefe;\n",
       "            color:  #000000;\n",
       "        }    #T_d4873626_e09c_11ea_b81a_705a0fd47084row21_col0 {\n",
       "            background-color:  #fefefe;\n",
       "            color:  #000000;\n",
       "        }    #T_d4873626_e09c_11ea_b81a_705a0fd47084row22_col0 {\n",
       "            background-color:  #fefefe;\n",
       "            color:  #000000;\n",
       "        }    #T_d4873626_e09c_11ea_b81a_705a0fd47084row23_col0 {\n",
       "            background-color:  #ffffff;\n",
       "            color:  #000000;\n",
       "        }    #T_d4873626_e09c_11ea_b81a_705a0fd47084row24_col0 {\n",
       "            background-color:  #ffffff;\n",
       "            color:  #000000;\n",
       "        }    #T_d4873626_e09c_11ea_b81a_705a0fd47084row25_col0 {\n",
       "            background-color:  #ffffff;\n",
       "            color:  #000000;\n",
       "        }    #T_d4873626_e09c_11ea_b81a_705a0fd47084row26_col0 {\n",
       "            background-color:  #ffffff;\n",
       "            color:  #000000;\n",
       "        }    #T_d4873626_e09c_11ea_b81a_705a0fd47084row27_col0 {\n",
       "            background-color:  #ffffff;\n",
       "            color:  #000000;\n",
       "        }    #T_d4873626_e09c_11ea_b81a_705a0fd47084row28_col0 {\n",
       "            background-color:  #ffffff;\n",
       "            color:  #000000;\n",
       "        }    #T_d4873626_e09c_11ea_b81a_705a0fd47084row29_col0 {\n",
       "            background-color:  #ffffff;\n",
       "            color:  #000000;\n",
       "        }    #T_d4873626_e09c_11ea_b81a_705a0fd47084row30_col0 {\n",
       "            background-color:  #ffffff;\n",
       "            color:  #000000;\n",
       "        }    #T_d4873626_e09c_11ea_b81a_705a0fd47084row31_col0 {\n",
       "            background-color:  #ffffff;\n",
       "            color:  #000000;\n",
       "        }    #T_d4873626_e09c_11ea_b81a_705a0fd47084row32_col0 {\n",
       "            background-color:  #ffffff;\n",
       "            color:  #000000;\n",
       "        }    #T_d4873626_e09c_11ea_b81a_705a0fd47084row33_col0 {\n",
       "            background-color:  #ffffff;\n",
       "            color:  #000000;\n",
       "        }    #T_d4873626_e09c_11ea_b81a_705a0fd47084row34_col0 {\n",
       "            background-color:  #ffffff;\n",
       "            color:  #000000;\n",
       "        }    #T_d4873626_e09c_11ea_b81a_705a0fd47084row35_col0 {\n",
       "            background-color:  #ffffff;\n",
       "            color:  #000000;\n",
       "        }</style><table id=\"T_d4873626_e09c_11ea_b81a_705a0fd47084\" ><thead>    <tr>        <th class=\"blank level0\" ></th>        <th class=\"col_heading level0 col0\" >Deaths</th>    </tr>    <tr>        <th class=\"index_name level0\" >State</th>        <th class=\"blank\" ></th>    </tr></thead><tbody>\n",
       "                <tr>\n",
       "                        <th id=\"T_d4873626_e09c_11ea_b81a_705a0fd47084level0_row0\" class=\"row_heading level0 row0\" >Maharashtra</th>\n",
       "                        <td id=\"T_d4873626_e09c_11ea_b81a_705a0fd47084row0_col0\" class=\"data row0 col0\" >17092</td>\n",
       "            </tr>\n",
       "            <tr>\n",
       "                        <th id=\"T_d4873626_e09c_11ea_b81a_705a0fd47084level0_row1\" class=\"row_heading level0 row1\" >Tamil Nadu</th>\n",
       "                        <td id=\"T_d4873626_e09c_11ea_b81a_705a0fd47084row1_col0\" class=\"data row1 col0\" >4690</td>\n",
       "            </tr>\n",
       "            <tr>\n",
       "                        <th id=\"T_d4873626_e09c_11ea_b81a_705a0fd47084level0_row2\" class=\"row_heading level0 row2\" >Delhi</th>\n",
       "                        <td id=\"T_d4873626_e09c_11ea_b81a_705a0fd47084row2_col0\" class=\"data row2 col0\" >4082</td>\n",
       "            </tr>\n",
       "            <tr>\n",
       "                        <th id=\"T_d4873626_e09c_11ea_b81a_705a0fd47084level0_row3\" class=\"row_heading level0 row3\" >Karnataka</th>\n",
       "                        <td id=\"T_d4873626_e09c_11ea_b81a_705a0fd47084row3_col0\" class=\"data row3 col0\" >2998</td>\n",
       "            </tr>\n",
       "            <tr>\n",
       "                        <th id=\"T_d4873626_e09c_11ea_b81a_705a0fd47084level0_row4\" class=\"row_heading level0 row4\" >Gujarat</th>\n",
       "                        <td id=\"T_d4873626_e09c_11ea_b81a_705a0fd47084row4_col0\" class=\"data row4 col0\" >2601</td>\n",
       "            </tr>\n",
       "            <tr>\n",
       "                        <th id=\"T_d4873626_e09c_11ea_b81a_705a0fd47084level0_row5\" class=\"row_heading level0 row5\" >Uttar Pradesh</th>\n",
       "                        <td id=\"T_d4873626_e09c_11ea_b81a_705a0fd47084row5_col0\" class=\"data row5 col0\" >1981</td>\n",
       "            </tr>\n",
       "            <tr>\n",
       "                        <th id=\"T_d4873626_e09c_11ea_b81a_705a0fd47084level0_row6\" class=\"row_heading level0 row6\" >West Bengal</th>\n",
       "                        <td id=\"T_d4873626_e09c_11ea_b81a_705a0fd47084row6_col0\" class=\"data row6 col0\" >1954</td>\n",
       "            </tr>\n",
       "            <tr>\n",
       "                        <th id=\"T_d4873626_e09c_11ea_b81a_705a0fd47084level0_row7\" class=\"row_heading level0 row7\" >Andhra Pradesh</th>\n",
       "                        <td id=\"T_d4873626_e09c_11ea_b81a_705a0fd47084row7_col0\" class=\"data row7 col0\" >1842</td>\n",
       "            </tr>\n",
       "            <tr>\n",
       "                        <th id=\"T_d4873626_e09c_11ea_b81a_705a0fd47084level0_row8\" class=\"row_heading level0 row8\" >Madhya Pradesh</th>\n",
       "                        <td id=\"T_d4873626_e09c_11ea_b81a_705a0fd47084row8_col0\" class=\"data row8 col0\" >962</td>\n",
       "            </tr>\n",
       "            <tr>\n",
       "                        <th id=\"T_d4873626_e09c_11ea_b81a_705a0fd47084level0_row9\" class=\"row_heading level0 row9\" >Rajasthan</th>\n",
       "                        <td id=\"T_d4873626_e09c_11ea_b81a_705a0fd47084row9_col0\" class=\"data row9 col0\" >776</td>\n",
       "            </tr>\n",
       "            <tr>\n",
       "                        <th id=\"T_d4873626_e09c_11ea_b81a_705a0fd47084level0_row10\" class=\"row_heading level0 row10\" >Telangana</th>\n",
       "                        <td id=\"T_d4873626_e09c_11ea_b81a_705a0fd47084row10_col0\" class=\"data row10 col0\" >615</td>\n",
       "            </tr>\n",
       "            <tr>\n",
       "                        <th id=\"T_d4873626_e09c_11ea_b81a_705a0fd47084level0_row11\" class=\"row_heading level0 row11\" >Punjab</th>\n",
       "                        <td id=\"T_d4873626_e09c_11ea_b81a_705a0fd47084row11_col0\" class=\"data row11 col0\" >539</td>\n",
       "            </tr>\n",
       "            <tr>\n",
       "                        <th id=\"T_d4873626_e09c_11ea_b81a_705a0fd47084level0_row12\" class=\"row_heading level0 row12\" >Haryana</th>\n",
       "                        <td id=\"T_d4873626_e09c_11ea_b81a_705a0fd47084row12_col0\" class=\"data row12 col0\" >467</td>\n",
       "            </tr>\n",
       "            <tr>\n",
       "                        <th id=\"T_d4873626_e09c_11ea_b81a_705a0fd47084level0_row13\" class=\"row_heading level0 row13\" >Jammu and Kashmir</th>\n",
       "                        <td id=\"T_d4873626_e09c_11ea_b81a_705a0fd47084row13_col0\" class=\"data row13 col0\" >449</td>\n",
       "            </tr>\n",
       "            <tr>\n",
       "                        <th id=\"T_d4873626_e09c_11ea_b81a_705a0fd47084level0_row14\" class=\"row_heading level0 row14\" >Bihar</th>\n",
       "                        <td id=\"T_d4873626_e09c_11ea_b81a_705a0fd47084row14_col0\" class=\"data row14 col0\" >400</td>\n",
       "            </tr>\n",
       "            <tr>\n",
       "                        <th id=\"T_d4873626_e09c_11ea_b81a_705a0fd47084level0_row15\" class=\"row_heading level0 row15\" >Odisha</th>\n",
       "                        <td id=\"T_d4873626_e09c_11ea_b81a_705a0fd47084row15_col0\" class=\"data row15 col0\" >307</td>\n",
       "            </tr>\n",
       "            <tr>\n",
       "                        <th id=\"T_d4873626_e09c_11ea_b81a_705a0fd47084level0_row16\" class=\"row_heading level0 row16\" >Jharkhand</th>\n",
       "                        <td id=\"T_d4873626_e09c_11ea_b81a_705a0fd47084row16_col0\" class=\"data row16 col0\" >154</td>\n",
       "            </tr>\n",
       "            <tr>\n",
       "                        <th id=\"T_d4873626_e09c_11ea_b81a_705a0fd47084level0_row17\" class=\"row_heading level0 row17\" >Assam</th>\n",
       "                        <td id=\"T_d4873626_e09c_11ea_b81a_705a0fd47084row17_col0\" class=\"data row17 col0\" >132</td>\n",
       "            </tr>\n",
       "            <tr>\n",
       "                        <th id=\"T_d4873626_e09c_11ea_b81a_705a0fd47084level0_row18\" class=\"row_heading level0 row18\" >Uttarakhand</th>\n",
       "                        <td id=\"T_d4873626_e09c_11ea_b81a_705a0fd47084row18_col0\" class=\"data row18 col0\" >112</td>\n",
       "            </tr>\n",
       "            <tr>\n",
       "                        <th id=\"T_d4873626_e09c_11ea_b81a_705a0fd47084level0_row19\" class=\"row_heading level0 row19\" >Kerala</th>\n",
       "                        <td id=\"T_d4873626_e09c_11ea_b81a_705a0fd47084row19_col0\" class=\"data row19 col0\" >103</td>\n",
       "            </tr>\n",
       "            <tr>\n",
       "                        <th id=\"T_d4873626_e09c_11ea_b81a_705a0fd47084level0_row20\" class=\"row_heading level0 row20\" >Chhattisgarh</th>\n",
       "                        <td id=\"T_d4873626_e09c_11ea_b81a_705a0fd47084row20_col0\" class=\"data row20 col0\" >87</td>\n",
       "            </tr>\n",
       "            <tr>\n",
       "                        <th id=\"T_d4873626_e09c_11ea_b81a_705a0fd47084level0_row21\" class=\"row_heading level0 row21\" >Puducherry</th>\n",
       "                        <td id=\"T_d4873626_e09c_11ea_b81a_705a0fd47084row21_col0\" class=\"data row21 col0\" >80</td>\n",
       "            </tr>\n",
       "            <tr>\n",
       "                        <th id=\"T_d4873626_e09c_11ea_b81a_705a0fd47084level0_row22\" class=\"row_heading level0 row22\" >Goa</th>\n",
       "                        <td id=\"T_d4873626_e09c_11ea_b81a_705a0fd47084row22_col0\" class=\"data row22 col0\" >70</td>\n",
       "            </tr>\n",
       "            <tr>\n",
       "                        <th id=\"T_d4873626_e09c_11ea_b81a_705a0fd47084level0_row23\" class=\"row_heading level0 row23\" >Tripura</th>\n",
       "                        <td id=\"T_d4873626_e09c_11ea_b81a_705a0fd47084row23_col0\" class=\"data row23 col0\" >37</td>\n",
       "            </tr>\n",
       "            <tr>\n",
       "                        <th id=\"T_d4873626_e09c_11ea_b81a_705a0fd47084level0_row24\" class=\"row_heading level0 row24\" >Chandigarh</th>\n",
       "                        <td id=\"T_d4873626_e09c_11ea_b81a_705a0fd47084row24_col0\" class=\"data row24 col0\" >23</td>\n",
       "            </tr>\n",
       "            <tr>\n",
       "                        <th id=\"T_d4873626_e09c_11ea_b81a_705a0fd47084level0_row25\" class=\"row_heading level0 row25\" >Andaman and Nicobar Islands</th>\n",
       "                        <td id=\"T_d4873626_e09c_11ea_b81a_705a0fd47084row25_col0\" class=\"data row25 col0\" >19</td>\n",
       "            </tr>\n",
       "            <tr>\n",
       "                        <th id=\"T_d4873626_e09c_11ea_b81a_705a0fd47084level0_row26\" class=\"row_heading level0 row26\" >Himachal Pradesh</th>\n",
       "                        <td id=\"T_d4873626_e09c_11ea_b81a_705a0fd47084row26_col0\" class=\"data row26 col0\" >13</td>\n",
       "            </tr>\n",
       "            <tr>\n",
       "                        <th id=\"T_d4873626_e09c_11ea_b81a_705a0fd47084level0_row27\" class=\"row_heading level0 row27\" >Manipur</th>\n",
       "                        <td id=\"T_d4873626_e09c_11ea_b81a_705a0fd47084row27_col0\" class=\"data row27 col0\" >10</td>\n",
       "            </tr>\n",
       "            <tr>\n",
       "                        <th id=\"T_d4873626_e09c_11ea_b81a_705a0fd47084level0_row28\" class=\"row_heading level0 row28\" >Ladakh</th>\n",
       "                        <td id=\"T_d4873626_e09c_11ea_b81a_705a0fd47084row28_col0\" class=\"data row28 col0\" >9</td>\n",
       "            </tr>\n",
       "            <tr>\n",
       "                        <th id=\"T_d4873626_e09c_11ea_b81a_705a0fd47084level0_row29\" class=\"row_heading level0 row29\" >Nagaland</th>\n",
       "                        <td id=\"T_d4873626_e09c_11ea_b81a_705a0fd47084row29_col0\" class=\"data row29 col0\" >7</td>\n",
       "            </tr>\n",
       "            <tr>\n",
       "                        <th id=\"T_d4873626_e09c_11ea_b81a_705a0fd47084level0_row30\" class=\"row_heading level0 row30\" >Meghalaya</th>\n",
       "                        <td id=\"T_d4873626_e09c_11ea_b81a_705a0fd47084row30_col0\" class=\"data row30 col0\" >6</td>\n",
       "            </tr>\n",
       "            <tr>\n",
       "                        <th id=\"T_d4873626_e09c_11ea_b81a_705a0fd47084level0_row31\" class=\"row_heading level0 row31\" >Arunachal Pradesh</th>\n",
       "                        <td id=\"T_d4873626_e09c_11ea_b81a_705a0fd47084row31_col0\" class=\"data row31 col0\" >3</td>\n",
       "            </tr>\n",
       "            <tr>\n",
       "                        <th id=\"T_d4873626_e09c_11ea_b81a_705a0fd47084level0_row32\" class=\"row_heading level0 row32\" >Dadra and Nagar Haveli and Daman and Diu</th>\n",
       "                        <td id=\"T_d4873626_e09c_11ea_b81a_705a0fd47084row32_col0\" class=\"data row32 col0\" >2</td>\n",
       "            </tr>\n",
       "            <tr>\n",
       "                        <th id=\"T_d4873626_e09c_11ea_b81a_705a0fd47084level0_row33\" class=\"row_heading level0 row33\" >Sikkim</th>\n",
       "                        <td id=\"T_d4873626_e09c_11ea_b81a_705a0fd47084row33_col0\" class=\"data row33 col0\" >1</td>\n",
       "            </tr>\n",
       "            <tr>\n",
       "                        <th id=\"T_d4873626_e09c_11ea_b81a_705a0fd47084level0_row34\" class=\"row_heading level0 row34\" >Lakshadweep</th>\n",
       "                        <td id=\"T_d4873626_e09c_11ea_b81a_705a0fd47084row34_col0\" class=\"data row34 col0\" >0</td>\n",
       "            </tr>\n",
       "            <tr>\n",
       "                        <th id=\"T_d4873626_e09c_11ea_b81a_705a0fd47084level0_row35\" class=\"row_heading level0 row35\" >Mizoram</th>\n",
       "                        <td id=\"T_d4873626_e09c_11ea_b81a_705a0fd47084row35_col0\" class=\"data row35 col0\" >0</td>\n",
       "            </tr>\n",
       "    </tbody></table>"
      ],
      "text/plain": [
       "<pandas.io.formats.style.Styler at 0x1979220b080>"
      ]
     },
     "execution_count": 28,
     "metadata": {},
     "output_type": "execute_result"
    }
   ],
   "source": [
    "#Visualization of Deaths\n",
    "Total_Dea.style.background_gradient(cmap='gray_r')"
   ]
  },
  {
   "cell_type": "code",
   "execution_count": 29,
   "metadata": {},
   "outputs": [
    {
     "data": {
      "text/html": [
       "<style  type=\"text/css\" >\n",
       "    #T_d5280534_e09c_11ea_bb6d_705a0fd47084row0_col0 {\n",
       "            background-color:  #00441b;\n",
       "            color:  #f1f1f1;\n",
       "        }    #T_d5280534_e09c_11ea_bb6d_705a0fd47084row1_col0 {\n",
       "            background-color:  #2f984f;\n",
       "            color:  #000000;\n",
       "        }    #T_d5280534_e09c_11ea_bb6d_705a0fd47084row2_col0 {\n",
       "            background-color:  #9bd696;\n",
       "            color:  #000000;\n",
       "        }    #T_d5280534_e09c_11ea_bb6d_705a0fd47084row3_col0 {\n",
       "            background-color:  #a3da9d;\n",
       "            color:  #000000;\n",
       "        }    #T_d5280534_e09c_11ea_bb6d_705a0fd47084row4_col0 {\n",
       "            background-color:  #c6e8bf;\n",
       "            color:  #000000;\n",
       "        }    #T_d5280534_e09c_11ea_bb6d_705a0fd47084row5_col0 {\n",
       "            background-color:  #d2edcc;\n",
       "            color:  #000000;\n",
       "        }    #T_d5280534_e09c_11ea_bb6d_705a0fd47084row6_col0 {\n",
       "            background-color:  #d5efcf;\n",
       "            color:  #000000;\n",
       "        }    #T_d5280534_e09c_11ea_bb6d_705a0fd47084row7_col0 {\n",
       "            background-color:  #dbf1d6;\n",
       "            color:  #000000;\n",
       "        }    #T_d5280534_e09c_11ea_bb6d_705a0fd47084row8_col0 {\n",
       "            background-color:  #ddf2d8;\n",
       "            color:  #000000;\n",
       "        }    #T_d5280534_e09c_11ea_bb6d_705a0fd47084row9_col0 {\n",
       "            background-color:  #e1f3dc;\n",
       "            color:  #000000;\n",
       "        }    #T_d5280534_e09c_11ea_bb6d_705a0fd47084row10_col0 {\n",
       "            background-color:  #e6f5e1;\n",
       "            color:  #000000;\n",
       "        }    #T_d5280534_e09c_11ea_bb6d_705a0fd47084row11_col0 {\n",
       "            background-color:  #e7f6e3;\n",
       "            color:  #000000;\n",
       "        }    #T_d5280534_e09c_11ea_bb6d_705a0fd47084row12_col0 {\n",
       "            background-color:  #e8f6e4;\n",
       "            color:  #000000;\n",
       "        }    #T_d5280534_e09c_11ea_bb6d_705a0fd47084row13_col0 {\n",
       "            background-color:  #ebf7e7;\n",
       "            color:  #000000;\n",
       "        }    #T_d5280534_e09c_11ea_bb6d_705a0fd47084row14_col0 {\n",
       "            background-color:  #ebf7e7;\n",
       "            color:  #000000;\n",
       "        }    #T_d5280534_e09c_11ea_bb6d_705a0fd47084row15_col0 {\n",
       "            background-color:  #eff9ec;\n",
       "            color:  #000000;\n",
       "        }    #T_d5280534_e09c_11ea_bb6d_705a0fd47084row16_col0 {\n",
       "            background-color:  #f0f9ed;\n",
       "            color:  #000000;\n",
       "        }    #T_d5280534_e09c_11ea_bb6d_705a0fd47084row17_col0 {\n",
       "            background-color:  #f1faee;\n",
       "            color:  #000000;\n",
       "        }    #T_d5280534_e09c_11ea_bb6d_705a0fd47084row18_col0 {\n",
       "            background-color:  #f4fbf1;\n",
       "            color:  #000000;\n",
       "        }    #T_d5280534_e09c_11ea_bb6d_705a0fd47084row19_col0 {\n",
       "            background-color:  #f4fbf2;\n",
       "            color:  #000000;\n",
       "        }    #T_d5280534_e09c_11ea_bb6d_705a0fd47084row20_col0 {\n",
       "            background-color:  #f5fbf2;\n",
       "            color:  #000000;\n",
       "        }    #T_d5280534_e09c_11ea_bb6d_705a0fd47084row21_col0 {\n",
       "            background-color:  #f5fbf2;\n",
       "            color:  #000000;\n",
       "        }    #T_d5280534_e09c_11ea_bb6d_705a0fd47084row22_col0 {\n",
       "            background-color:  #f5fbf3;\n",
       "            color:  #000000;\n",
       "        }    #T_d5280534_e09c_11ea_bb6d_705a0fd47084row23_col0 {\n",
       "            background-color:  #f6fcf4;\n",
       "            color:  #000000;\n",
       "        }    #T_d5280534_e09c_11ea_bb6d_705a0fd47084row24_col0 {\n",
       "            background-color:  #f6fcf4;\n",
       "            color:  #000000;\n",
       "        }    #T_d5280534_e09c_11ea_bb6d_705a0fd47084row25_col0 {\n",
       "            background-color:  #f6fcf4;\n",
       "            color:  #000000;\n",
       "        }    #T_d5280534_e09c_11ea_bb6d_705a0fd47084row26_col0 {\n",
       "            background-color:  #f6fcf4;\n",
       "            color:  #000000;\n",
       "        }    #T_d5280534_e09c_11ea_bb6d_705a0fd47084row27_col0 {\n",
       "            background-color:  #f7fcf5;\n",
       "            color:  #000000;\n",
       "        }    #T_d5280534_e09c_11ea_bb6d_705a0fd47084row28_col0 {\n",
       "            background-color:  #f7fcf5;\n",
       "            color:  #000000;\n",
       "        }    #T_d5280534_e09c_11ea_bb6d_705a0fd47084row29_col0 {\n",
       "            background-color:  #f7fcf5;\n",
       "            color:  #000000;\n",
       "        }    #T_d5280534_e09c_11ea_bb6d_705a0fd47084row30_col0 {\n",
       "            background-color:  #f7fcf5;\n",
       "            color:  #000000;\n",
       "        }    #T_d5280534_e09c_11ea_bb6d_705a0fd47084row31_col0 {\n",
       "            background-color:  #f7fcf5;\n",
       "            color:  #000000;\n",
       "        }    #T_d5280534_e09c_11ea_bb6d_705a0fd47084row32_col0 {\n",
       "            background-color:  #f7fcf5;\n",
       "            color:  #000000;\n",
       "        }    #T_d5280534_e09c_11ea_bb6d_705a0fd47084row33_col0 {\n",
       "            background-color:  #f7fcf5;\n",
       "            color:  #000000;\n",
       "        }    #T_d5280534_e09c_11ea_bb6d_705a0fd47084row34_col0 {\n",
       "            background-color:  #f7fcf5;\n",
       "            color:  #000000;\n",
       "        }    #T_d5280534_e09c_11ea_bb6d_705a0fd47084row35_col0 {\n",
       "            background-color:  #f7fcf5;\n",
       "            color:  #000000;\n",
       "        }</style><table id=\"T_d5280534_e09c_11ea_bb6d_705a0fd47084\" ><thead>    <tr>        <th class=\"blank level0\" ></th>        <th class=\"col_heading level0 col0\" >Recovered</th>    </tr>    <tr>        <th class=\"index_name level0\" >State</th>        <th class=\"blank\" ></th>    </tr></thead><tbody>\n",
       "                <tr>\n",
       "                        <th id=\"T_d5280534_e09c_11ea_bb6d_705a0fd47084level0_row0\" class=\"row_heading level0 row0\" >Maharashtra</th>\n",
       "                        <td id=\"T_d5280534_e09c_11ea_bb6d_705a0fd47084row0_col0\" class=\"data row0 col0\" >327281</td>\n",
       "            </tr>\n",
       "            <tr>\n",
       "                        <th id=\"T_d5280534_e09c_11ea_bb6d_705a0fd47084level0_row1\" class=\"row_heading level0 row1\" >Tamil Nadu</th>\n",
       "                        <td id=\"T_d5280534_e09c_11ea_bb6d_705a0fd47084row1_col0\" class=\"data row1 col0\" >227575</td>\n",
       "            </tr>\n",
       "            <tr>\n",
       "                        <th id=\"T_d5280534_e09c_11ea_bb6d_705a0fd47084level0_row2\" class=\"row_heading level0 row2\" >Delhi</th>\n",
       "                        <td id=\"T_d5280534_e09c_11ea_bb6d_705a0fd47084row2_col0\" class=\"data row2 col0\" >128232</td>\n",
       "            </tr>\n",
       "            <tr>\n",
       "                        <th id=\"T_d5280534_e09c_11ea_bb6d_705a0fd47084level0_row3\" class=\"row_heading level0 row3\" >Andhra Pradesh</th>\n",
       "                        <td id=\"T_d5280534_e09c_11ea_bb6d_705a0fd47084row3_col0\" class=\"data row3 col0\" >120464</td>\n",
       "            </tr>\n",
       "            <tr>\n",
       "                        <th id=\"T_d5280534_e09c_11ea_bb6d_705a0fd47084level0_row4\" class=\"row_heading level0 row4\" >Karnataka</th>\n",
       "                        <td id=\"T_d5280534_e09c_11ea_bb6d_705a0fd47084row4_col0\" class=\"data row4 col0\" >84232</td>\n",
       "            </tr>\n",
       "            <tr>\n",
       "                        <th id=\"T_d5280534_e09c_11ea_bb6d_705a0fd47084level0_row5\" class=\"row_heading level0 row5\" >Uttar Pradesh</th>\n",
       "                        <td id=\"T_d5280534_e09c_11ea_bb6d_705a0fd47084row5_col0\" class=\"data row5 col0\" >66834</td>\n",
       "            </tr>\n",
       "            <tr>\n",
       "                        <th id=\"T_d5280534_e09c_11ea_bb6d_705a0fd47084level0_row6\" class=\"row_heading level0 row6\" >West Bengal</th>\n",
       "                        <td id=\"T_d5280534_e09c_11ea_bb6d_705a0fd47084row6_col0\" class=\"data row6 col0\" >63060</td>\n",
       "            </tr>\n",
       "            <tr>\n",
       "                        <th id=\"T_d5280534_e09c_11ea_bb6d_705a0fd47084level0_row7\" class=\"row_heading level0 row7\" >Telangana</th>\n",
       "                        <td id=\"T_d5280534_e09c_11ea_bb6d_705a0fd47084row7_col0\" class=\"data row7 col0\" >54330</td>\n",
       "            </tr>\n",
       "            <tr>\n",
       "                        <th id=\"T_d5280534_e09c_11ea_bb6d_705a0fd47084level0_row8\" class=\"row_heading level0 row8\" >Gujarat</th>\n",
       "                        <td id=\"T_d5280534_e09c_11ea_bb6d_705a0fd47084row8_col0\" class=\"data row8 col0\" >51894</td>\n",
       "            </tr>\n",
       "            <tr>\n",
       "                        <th id=\"T_d5280534_e09c_11ea_bb6d_705a0fd47084level0_row9\" class=\"row_heading level0 row9\" >Bihar</th>\n",
       "                        <td id=\"T_d5280534_e09c_11ea_bb6d_705a0fd47084row9_col0\" class=\"data row9 col0\" >46265</td>\n",
       "            </tr>\n",
       "            <tr>\n",
       "                        <th id=\"T_d5280534_e09c_11ea_bb6d_705a0fd47084level0_row10\" class=\"row_heading level0 row10\" >Assam</th>\n",
       "                        <td id=\"T_d5280534_e09c_11ea_bb6d_705a0fd47084row10_col0\" class=\"data row10 col0\" >38810</td>\n",
       "            </tr>\n",
       "            <tr>\n",
       "                        <th id=\"T_d5280534_e09c_11ea_bb6d_705a0fd47084level0_row11\" class=\"row_heading level0 row11\" >Rajasthan</th>\n",
       "                        <td id=\"T_d5280534_e09c_11ea_bb6d_705a0fd47084row11_col0\" class=\"data row11 col0\" >36310</td>\n",
       "            </tr>\n",
       "            <tr>\n",
       "                        <th id=\"T_d5280534_e09c_11ea_bb6d_705a0fd47084level0_row12\" class=\"row_heading level0 row12\" >Haryana</th>\n",
       "                        <td id=\"T_d5280534_e09c_11ea_bb6d_705a0fd47084row12_col0\" class=\"data row12 col0\" >33444</td>\n",
       "            </tr>\n",
       "            <tr>\n",
       "                        <th id=\"T_d5280534_e09c_11ea_bb6d_705a0fd47084level0_row13\" class=\"row_heading level0 row13\" >Odisha</th>\n",
       "                        <td id=\"T_d5280534_e09c_11ea_bb6d_705a0fd47084row13_col0\" class=\"data row13 col0\" >28698</td>\n",
       "            </tr>\n",
       "            <tr>\n",
       "                        <th id=\"T_d5280534_e09c_11ea_bb6d_705a0fd47084level0_row14\" class=\"row_heading level0 row14\" >Madhya Pradesh</th>\n",
       "                        <td id=\"T_d5280534_e09c_11ea_bb6d_705a0fd47084row14_col0\" class=\"data row14 col0\" >27621</td>\n",
       "            </tr>\n",
       "            <tr>\n",
       "                        <th id=\"T_d5280534_e09c_11ea_bb6d_705a0fd47084level0_row15\" class=\"row_heading level0 row15\" >Kerala</th>\n",
       "                        <td id=\"T_d5280534_e09c_11ea_bb6d_705a0fd47084row15_col0\" class=\"data row15 col0\" >19147</td>\n",
       "            </tr>\n",
       "            <tr>\n",
       "                        <th id=\"T_d5280534_e09c_11ea_bb6d_705a0fd47084level0_row16\" class=\"row_heading level0 row16\" >Jammu and Kashmir</th>\n",
       "                        <td id=\"T_d5280534_e09c_11ea_bb6d_705a0fd47084row16_col0\" class=\"data row16 col0\" >16218</td>\n",
       "            </tr>\n",
       "            <tr>\n",
       "                        <th id=\"T_d5280534_e09c_11ea_bb6d_705a0fd47084level0_row17\" class=\"row_heading level0 row17\" >Punjab</th>\n",
       "                        <td id=\"T_d5280534_e09c_11ea_bb6d_705a0fd47084row17_col0\" class=\"data row17 col0\" >14040</td>\n",
       "            </tr>\n",
       "            <tr>\n",
       "                        <th id=\"T_d5280534_e09c_11ea_bb6d_705a0fd47084level0_row18\" class=\"row_heading level0 row18\" >Chhattisgarh</th>\n",
       "                        <td id=\"T_d5280534_e09c_11ea_bb6d_705a0fd47084row18_col0\" class=\"data row18 col0\" >8319</td>\n",
       "            </tr>\n",
       "            <tr>\n",
       "                        <th id=\"T_d5280534_e09c_11ea_bb6d_705a0fd47084level0_row19\" class=\"row_heading level0 row19\" >Jharkhand</th>\n",
       "                        <td id=\"T_d5280534_e09c_11ea_bb6d_705a0fd47084row19_col0\" class=\"data row19 col0\" >7503</td>\n",
       "            </tr>\n",
       "            <tr>\n",
       "                        <th id=\"T_d5280534_e09c_11ea_bb6d_705a0fd47084level0_row20\" class=\"row_heading level0 row20\" >Uttarakhand</th>\n",
       "                        <td id=\"T_d5280534_e09c_11ea_bb6d_705a0fd47084row20_col0\" class=\"data row20 col0\" >5731</td>\n",
       "            </tr>\n",
       "            <tr>\n",
       "                        <th id=\"T_d5280534_e09c_11ea_bb6d_705a0fd47084level0_row21\" class=\"row_heading level0 row21\" >Goa</th>\n",
       "                        <td id=\"T_d5280534_e09c_11ea_bb6d_705a0fd47084row21_col0\" class=\"data row21 col0\" >5595</td>\n",
       "            </tr>\n",
       "            <tr>\n",
       "                        <th id=\"T_d5280534_e09c_11ea_bb6d_705a0fd47084level0_row22\" class=\"row_heading level0 row22\" >Tripura</th>\n",
       "                        <td id=\"T_d5280534_e09c_11ea_bb6d_705a0fd47084row22_col0\" class=\"data row22 col0\" >4084</td>\n",
       "            </tr>\n",
       "            <tr>\n",
       "                        <th id=\"T_d5280534_e09c_11ea_bb6d_705a0fd47084level0_row23\" class=\"row_heading level0 row23\" >Puducherry</th>\n",
       "                        <td id=\"T_d5280534_e09c_11ea_bb6d_705a0fd47084row23_col0\" class=\"data row23 col0\" >3054</td>\n",
       "            </tr>\n",
       "            <tr>\n",
       "                        <th id=\"T_d5280534_e09c_11ea_bb6d_705a0fd47084level0_row24\" class=\"row_heading level0 row24\" >Himachal Pradesh</th>\n",
       "                        <td id=\"T_d5280534_e09c_11ea_bb6d_705a0fd47084row24_col0\" class=\"data row24 col0\" >2008</td>\n",
       "            </tr>\n",
       "            <tr>\n",
       "                        <th id=\"T_d5280534_e09c_11ea_bb6d_705a0fd47084level0_row25\" class=\"row_heading level0 row25\" >Manipur</th>\n",
       "                        <td id=\"T_d5280534_e09c_11ea_bb6d_705a0fd47084row25_col0\" class=\"data row25 col0\" >1926</td>\n",
       "            </tr>\n",
       "            <tr>\n",
       "                        <th id=\"T_d5280534_e09c_11ea_bb6d_705a0fd47084level0_row26\" class=\"row_heading level0 row26\" >Arunachal Pradesh</th>\n",
       "                        <td id=\"T_d5280534_e09c_11ea_bb6d_705a0fd47084row26_col0\" class=\"data row26 col0\" >1326</td>\n",
       "            </tr>\n",
       "            <tr>\n",
       "                        <th id=\"T_d5280534_e09c_11ea_bb6d_705a0fd47084level0_row27\" class=\"row_heading level0 row27\" >Ladakh</th>\n",
       "                        <td id=\"T_d5280534_e09c_11ea_bb6d_705a0fd47084row27_col0\" class=\"data row27 col0\" >1194</td>\n",
       "            </tr>\n",
       "            <tr>\n",
       "                        <th id=\"T_d5280534_e09c_11ea_bb6d_705a0fd47084level0_row28\" class=\"row_heading level0 row28\" >Dadra and Nagar Haveli and Daman and Diu</th>\n",
       "                        <td id=\"T_d5280534_e09c_11ea_bb6d_705a0fd47084row28_col0\" class=\"data row28 col0\" >1038</td>\n",
       "            </tr>\n",
       "            <tr>\n",
       "                        <th id=\"T_d5280534_e09c_11ea_bb6d_705a0fd47084level0_row29\" class=\"row_heading level0 row29\" >Nagaland</th>\n",
       "                        <td id=\"T_d5280534_e09c_11ea_bb6d_705a0fd47084row29_col0\" class=\"data row29 col0\" >824</td>\n",
       "            </tr>\n",
       "            <tr>\n",
       "                        <th id=\"T_d5280534_e09c_11ea_bb6d_705a0fd47084level0_row30\" class=\"row_heading level0 row30\" >Chandigarh</th>\n",
       "                        <td id=\"T_d5280534_e09c_11ea_bb6d_705a0fd47084row30_col0\" class=\"data row30 col0\" >820</td>\n",
       "            </tr>\n",
       "            <tr>\n",
       "                        <th id=\"T_d5280534_e09c_11ea_bb6d_705a0fd47084level0_row31\" class=\"row_heading level0 row31\" >Andaman and Nicobar Islands</th>\n",
       "                        <td id=\"T_d5280534_e09c_11ea_bb6d_705a0fd47084row31_col0\" class=\"data row31 col0\" >425</td>\n",
       "            </tr>\n",
       "            <tr>\n",
       "                        <th id=\"T_d5280534_e09c_11ea_bb6d_705a0fd47084level0_row32\" class=\"row_heading level0 row32\" >Meghalaya</th>\n",
       "                        <td id=\"T_d5280534_e09c_11ea_bb6d_705a0fd47084row32_col0\" class=\"data row32 col0\" >423</td>\n",
       "            </tr>\n",
       "            <tr>\n",
       "                        <th id=\"T_d5280534_e09c_11ea_bb6d_705a0fd47084level0_row33\" class=\"row_heading level0 row33\" >Sikkim</th>\n",
       "                        <td id=\"T_d5280534_e09c_11ea_bb6d_705a0fd47084row33_col0\" class=\"data row33 col0\" >406</td>\n",
       "            </tr>\n",
       "            <tr>\n",
       "                        <th id=\"T_d5280534_e09c_11ea_bb6d_705a0fd47084level0_row34\" class=\"row_heading level0 row34\" >Mizoram</th>\n",
       "                        <td id=\"T_d5280534_e09c_11ea_bb6d_705a0fd47084row34_col0\" class=\"data row34 col0\" >289</td>\n",
       "            </tr>\n",
       "            <tr>\n",
       "                        <th id=\"T_d5280534_e09c_11ea_bb6d_705a0fd47084level0_row35\" class=\"row_heading level0 row35\" >Lakshadweep</th>\n",
       "                        <td id=\"T_d5280534_e09c_11ea_bb6d_705a0fd47084row35_col0\" class=\"data row35 col0\" >0</td>\n",
       "            </tr>\n",
       "    </tbody></table>"
      ],
      "text/plain": [
       "<pandas.io.formats.style.Styler at 0x19792264400>"
      ]
     },
     "execution_count": 29,
     "metadata": {},
     "output_type": "execute_result"
    }
   ],
   "source": [
    "#Visualization of Recovered Cases \n",
    "Total_Reco.style.background_gradient(cmap='Greens')"
   ]
  },
  {
   "cell_type": "code",
   "execution_count": 30,
   "metadata": {},
   "outputs": [
    {
     "data": {
      "application/vnd.plotly.v1+json": {
       "config": {
        "linkText": "Export to plot.ly",
        "plotlyServerURL": "https://plot.ly",
        "showLink": true
       },
       "data": [
        {
         "marker": {
          "color": "rgba(255, 153, 51, 0.6)",
          "line": {
           "color": "rgba(255, 153, 51, 1.0)",
           "width": 1
          }
         },
         "name": "Confirmed",
         "orientation": "v",
         "text": "",
         "type": "bar",
         "x": [
          "Maharashtra",
          "Tamil Nadu",
          "Delhi",
          "Karnataka",
          "Andhra Pradesh",
          "Uttar Pradesh",
          "Gujarat",
          "West Bengal",
          "Telangana",
          "Rajasthan",
          "Bihar",
          "Haryana",
          "Assam",
          "Madhya Pradesh",
          "Odisha",
          "Jammu and Kashmir",
          "Kerala",
          "Punjab",
          "Jharkhand",
          "Chhattisgarh",
          "Uttarakhand",
          "Goa",
          "Tripura",
          "Puducherry",
          "Manipur",
          "Himachal Pradesh",
          "Ladakh",
          "Nagaland",
          "Arunachal Pradesh",
          "Chandigarh",
          "Dadra and Nagar Haveli and Daman and Diu",
          "Meghalaya",
          "Sikkim",
          "Mizoram",
          "Andaman and Nicobar Islands",
          "Lakshadweep"
         ],
         "y": [
          490262,
          285024,
          142723,
          164924,
          206960,
          113378,
          68885,
          89666,
          77513,
          50656,
          71794,
          40054,
          55497,
          37298,
          44193,
          23927,
          31700,
          21930,
          16542,
          11408,
          8901,
          7947,
          6014,
          5123,
          3466,
          3206,
          1614,
          2657,
          2049,
          1374,
          1459,
          1023,
          854,
          567,
          1222,
          0
         ]
        }
       ],
       "layout": {
        "legend": {
         "bgcolor": "#F5F6F9",
         "font": {
          "color": "#4D5663"
         }
        },
        "paper_bgcolor": "#F5F6F9",
        "plot_bgcolor": "#F5F6F9",
        "template": {
         "data": {
          "bar": [
           {
            "error_x": {
             "color": "#2a3f5f"
            },
            "error_y": {
             "color": "#2a3f5f"
            },
            "marker": {
             "line": {
              "color": "#E5ECF6",
              "width": 0.5
             }
            },
            "type": "bar"
           }
          ],
          "barpolar": [
           {
            "marker": {
             "line": {
              "color": "#E5ECF6",
              "width": 0.5
             }
            },
            "type": "barpolar"
           }
          ],
          "carpet": [
           {
            "aaxis": {
             "endlinecolor": "#2a3f5f",
             "gridcolor": "white",
             "linecolor": "white",
             "minorgridcolor": "white",
             "startlinecolor": "#2a3f5f"
            },
            "baxis": {
             "endlinecolor": "#2a3f5f",
             "gridcolor": "white",
             "linecolor": "white",
             "minorgridcolor": "white",
             "startlinecolor": "#2a3f5f"
            },
            "type": "carpet"
           }
          ],
          "choropleth": [
           {
            "colorbar": {
             "outlinewidth": 0,
             "ticks": ""
            },
            "type": "choropleth"
           }
          ],
          "contour": [
           {
            "colorbar": {
             "outlinewidth": 0,
             "ticks": ""
            },
            "colorscale": [
             [
              0,
              "#0d0887"
             ],
             [
              0.1111111111111111,
              "#46039f"
             ],
             [
              0.2222222222222222,
              "#7201a8"
             ],
             [
              0.3333333333333333,
              "#9c179e"
             ],
             [
              0.4444444444444444,
              "#bd3786"
             ],
             [
              0.5555555555555556,
              "#d8576b"
             ],
             [
              0.6666666666666666,
              "#ed7953"
             ],
             [
              0.7777777777777778,
              "#fb9f3a"
             ],
             [
              0.8888888888888888,
              "#fdca26"
             ],
             [
              1,
              "#f0f921"
             ]
            ],
            "type": "contour"
           }
          ],
          "contourcarpet": [
           {
            "colorbar": {
             "outlinewidth": 0,
             "ticks": ""
            },
            "type": "contourcarpet"
           }
          ],
          "heatmap": [
           {
            "colorbar": {
             "outlinewidth": 0,
             "ticks": ""
            },
            "colorscale": [
             [
              0,
              "#0d0887"
             ],
             [
              0.1111111111111111,
              "#46039f"
             ],
             [
              0.2222222222222222,
              "#7201a8"
             ],
             [
              0.3333333333333333,
              "#9c179e"
             ],
             [
              0.4444444444444444,
              "#bd3786"
             ],
             [
              0.5555555555555556,
              "#d8576b"
             ],
             [
              0.6666666666666666,
              "#ed7953"
             ],
             [
              0.7777777777777778,
              "#fb9f3a"
             ],
             [
              0.8888888888888888,
              "#fdca26"
             ],
             [
              1,
              "#f0f921"
             ]
            ],
            "type": "heatmap"
           }
          ],
          "heatmapgl": [
           {
            "colorbar": {
             "outlinewidth": 0,
             "ticks": ""
            },
            "colorscale": [
             [
              0,
              "#0d0887"
             ],
             [
              0.1111111111111111,
              "#46039f"
             ],
             [
              0.2222222222222222,
              "#7201a8"
             ],
             [
              0.3333333333333333,
              "#9c179e"
             ],
             [
              0.4444444444444444,
              "#bd3786"
             ],
             [
              0.5555555555555556,
              "#d8576b"
             ],
             [
              0.6666666666666666,
              "#ed7953"
             ],
             [
              0.7777777777777778,
              "#fb9f3a"
             ],
             [
              0.8888888888888888,
              "#fdca26"
             ],
             [
              1,
              "#f0f921"
             ]
            ],
            "type": "heatmapgl"
           }
          ],
          "histogram": [
           {
            "marker": {
             "colorbar": {
              "outlinewidth": 0,
              "ticks": ""
             }
            },
            "type": "histogram"
           }
          ],
          "histogram2d": [
           {
            "colorbar": {
             "outlinewidth": 0,
             "ticks": ""
            },
            "colorscale": [
             [
              0,
              "#0d0887"
             ],
             [
              0.1111111111111111,
              "#46039f"
             ],
             [
              0.2222222222222222,
              "#7201a8"
             ],
             [
              0.3333333333333333,
              "#9c179e"
             ],
             [
              0.4444444444444444,
              "#bd3786"
             ],
             [
              0.5555555555555556,
              "#d8576b"
             ],
             [
              0.6666666666666666,
              "#ed7953"
             ],
             [
              0.7777777777777778,
              "#fb9f3a"
             ],
             [
              0.8888888888888888,
              "#fdca26"
             ],
             [
              1,
              "#f0f921"
             ]
            ],
            "type": "histogram2d"
           }
          ],
          "histogram2dcontour": [
           {
            "colorbar": {
             "outlinewidth": 0,
             "ticks": ""
            },
            "colorscale": [
             [
              0,
              "#0d0887"
             ],
             [
              0.1111111111111111,
              "#46039f"
             ],
             [
              0.2222222222222222,
              "#7201a8"
             ],
             [
              0.3333333333333333,
              "#9c179e"
             ],
             [
              0.4444444444444444,
              "#bd3786"
             ],
             [
              0.5555555555555556,
              "#d8576b"
             ],
             [
              0.6666666666666666,
              "#ed7953"
             ],
             [
              0.7777777777777778,
              "#fb9f3a"
             ],
             [
              0.8888888888888888,
              "#fdca26"
             ],
             [
              1,
              "#f0f921"
             ]
            ],
            "type": "histogram2dcontour"
           }
          ],
          "mesh3d": [
           {
            "colorbar": {
             "outlinewidth": 0,
             "ticks": ""
            },
            "type": "mesh3d"
           }
          ],
          "parcoords": [
           {
            "line": {
             "colorbar": {
              "outlinewidth": 0,
              "ticks": ""
             }
            },
            "type": "parcoords"
           }
          ],
          "pie": [
           {
            "automargin": true,
            "type": "pie"
           }
          ],
          "scatter": [
           {
            "marker": {
             "colorbar": {
              "outlinewidth": 0,
              "ticks": ""
             }
            },
            "type": "scatter"
           }
          ],
          "scatter3d": [
           {
            "line": {
             "colorbar": {
              "outlinewidth": 0,
              "ticks": ""
             }
            },
            "marker": {
             "colorbar": {
              "outlinewidth": 0,
              "ticks": ""
             }
            },
            "type": "scatter3d"
           }
          ],
          "scattercarpet": [
           {
            "marker": {
             "colorbar": {
              "outlinewidth": 0,
              "ticks": ""
             }
            },
            "type": "scattercarpet"
           }
          ],
          "scattergeo": [
           {
            "marker": {
             "colorbar": {
              "outlinewidth": 0,
              "ticks": ""
             }
            },
            "type": "scattergeo"
           }
          ],
          "scattergl": [
           {
            "marker": {
             "colorbar": {
              "outlinewidth": 0,
              "ticks": ""
             }
            },
            "type": "scattergl"
           }
          ],
          "scattermapbox": [
           {
            "marker": {
             "colorbar": {
              "outlinewidth": 0,
              "ticks": ""
             }
            },
            "type": "scattermapbox"
           }
          ],
          "scatterpolar": [
           {
            "marker": {
             "colorbar": {
              "outlinewidth": 0,
              "ticks": ""
             }
            },
            "type": "scatterpolar"
           }
          ],
          "scatterpolargl": [
           {
            "marker": {
             "colorbar": {
              "outlinewidth": 0,
              "ticks": ""
             }
            },
            "type": "scatterpolargl"
           }
          ],
          "scatterternary": [
           {
            "marker": {
             "colorbar": {
              "outlinewidth": 0,
              "ticks": ""
             }
            },
            "type": "scatterternary"
           }
          ],
          "surface": [
           {
            "colorbar": {
             "outlinewidth": 0,
             "ticks": ""
            },
            "colorscale": [
             [
              0,
              "#0d0887"
             ],
             [
              0.1111111111111111,
              "#46039f"
             ],
             [
              0.2222222222222222,
              "#7201a8"
             ],
             [
              0.3333333333333333,
              "#9c179e"
             ],
             [
              0.4444444444444444,
              "#bd3786"
             ],
             [
              0.5555555555555556,
              "#d8576b"
             ],
             [
              0.6666666666666666,
              "#ed7953"
             ],
             [
              0.7777777777777778,
              "#fb9f3a"
             ],
             [
              0.8888888888888888,
              "#fdca26"
             ],
             [
              1,
              "#f0f921"
             ]
            ],
            "type": "surface"
           }
          ],
          "table": [
           {
            "cells": {
             "fill": {
              "color": "#EBF0F8"
             },
             "line": {
              "color": "white"
             }
            },
            "header": {
             "fill": {
              "color": "#C8D4E3"
             },
             "line": {
              "color": "white"
             }
            },
            "type": "table"
           }
          ]
         },
         "layout": {
          "annotationdefaults": {
           "arrowcolor": "#2a3f5f",
           "arrowhead": 0,
           "arrowwidth": 1
          },
          "coloraxis": {
           "colorbar": {
            "outlinewidth": 0,
            "ticks": ""
           }
          },
          "colorscale": {
           "diverging": [
            [
             0,
             "#8e0152"
            ],
            [
             0.1,
             "#c51b7d"
            ],
            [
             0.2,
             "#de77ae"
            ],
            [
             0.3,
             "#f1b6da"
            ],
            [
             0.4,
             "#fde0ef"
            ],
            [
             0.5,
             "#f7f7f7"
            ],
            [
             0.6,
             "#e6f5d0"
            ],
            [
             0.7,
             "#b8e186"
            ],
            [
             0.8,
             "#7fbc41"
            ],
            [
             0.9,
             "#4d9221"
            ],
            [
             1,
             "#276419"
            ]
           ],
           "sequential": [
            [
             0,
             "#0d0887"
            ],
            [
             0.1111111111111111,
             "#46039f"
            ],
            [
             0.2222222222222222,
             "#7201a8"
            ],
            [
             0.3333333333333333,
             "#9c179e"
            ],
            [
             0.4444444444444444,
             "#bd3786"
            ],
            [
             0.5555555555555556,
             "#d8576b"
            ],
            [
             0.6666666666666666,
             "#ed7953"
            ],
            [
             0.7777777777777778,
             "#fb9f3a"
            ],
            [
             0.8888888888888888,
             "#fdca26"
            ],
            [
             1,
             "#f0f921"
            ]
           ],
           "sequentialminus": [
            [
             0,
             "#0d0887"
            ],
            [
             0.1111111111111111,
             "#46039f"
            ],
            [
             0.2222222222222222,
             "#7201a8"
            ],
            [
             0.3333333333333333,
             "#9c179e"
            ],
            [
             0.4444444444444444,
             "#bd3786"
            ],
            [
             0.5555555555555556,
             "#d8576b"
            ],
            [
             0.6666666666666666,
             "#ed7953"
            ],
            [
             0.7777777777777778,
             "#fb9f3a"
            ],
            [
             0.8888888888888888,
             "#fdca26"
            ],
            [
             1,
             "#f0f921"
            ]
           ]
          },
          "colorway": [
           "#636efa",
           "#EF553B",
           "#00cc96",
           "#ab63fa",
           "#FFA15A",
           "#19d3f3",
           "#FF6692",
           "#B6E880",
           "#FF97FF",
           "#FECB52"
          ],
          "font": {
           "color": "#2a3f5f"
          },
          "geo": {
           "bgcolor": "white",
           "lakecolor": "white",
           "landcolor": "#E5ECF6",
           "showlakes": true,
           "showland": true,
           "subunitcolor": "white"
          },
          "hoverlabel": {
           "align": "left"
          },
          "hovermode": "closest",
          "mapbox": {
           "style": "light"
          },
          "paper_bgcolor": "white",
          "plot_bgcolor": "#E5ECF6",
          "polar": {
           "angularaxis": {
            "gridcolor": "white",
            "linecolor": "white",
            "ticks": ""
           },
           "bgcolor": "#E5ECF6",
           "radialaxis": {
            "gridcolor": "white",
            "linecolor": "white",
            "ticks": ""
           }
          },
          "scene": {
           "xaxis": {
            "backgroundcolor": "#E5ECF6",
            "gridcolor": "white",
            "gridwidth": 2,
            "linecolor": "white",
            "showbackground": true,
            "ticks": "",
            "zerolinecolor": "white"
           },
           "yaxis": {
            "backgroundcolor": "#E5ECF6",
            "gridcolor": "white",
            "gridwidth": 2,
            "linecolor": "white",
            "showbackground": true,
            "ticks": "",
            "zerolinecolor": "white"
           },
           "zaxis": {
            "backgroundcolor": "#E5ECF6",
            "gridcolor": "white",
            "gridwidth": 2,
            "linecolor": "white",
            "showbackground": true,
            "ticks": "",
            "zerolinecolor": "white"
           }
          },
          "shapedefaults": {
           "line": {
            "color": "#2a3f5f"
           }
          },
          "ternary": {
           "aaxis": {
            "gridcolor": "white",
            "linecolor": "white",
            "ticks": ""
           },
           "baxis": {
            "gridcolor": "white",
            "linecolor": "white",
            "ticks": ""
           },
           "bgcolor": "#E5ECF6",
           "caxis": {
            "gridcolor": "white",
            "linecolor": "white",
            "ticks": ""
           }
          },
          "title": {
           "x": 0.05
          },
          "xaxis": {
           "automargin": true,
           "gridcolor": "white",
           "linecolor": "white",
           "ticks": "",
           "title": {
            "standoff": 15
           },
           "zerolinecolor": "white",
           "zerolinewidth": 2
          },
          "yaxis": {
           "automargin": true,
           "gridcolor": "white",
           "linecolor": "white",
           "ticks": "",
           "title": {
            "standoff": 15
           },
           "zerolinecolor": "white",
           "zerolinewidth": 2
          }
         }
        },
        "title": {
         "font": {
          "color": "#4D5663"
         }
        },
        "xaxis": {
         "gridcolor": "#E1E5ED",
         "showgrid": true,
         "tickfont": {
          "color": "#4D5663"
         },
         "title": {
          "font": {
           "color": "#4D5663"
          },
          "text": ""
         },
         "zerolinecolor": "#E1E5ED"
        },
        "yaxis": {
         "gridcolor": "#E1E5ED",
         "showgrid": true,
         "tickfont": {
          "color": "#4D5663"
         },
         "title": {
          "font": {
           "color": "#4D5663"
          },
          "text": ""
         },
         "zerolinecolor": "#E1E5ED"
        }
       }
      },
      "text/html": [
       "<div>\n",
       "        \n",
       "        \n",
       "            <div id=\"bbeadc8c-29a5-41ff-b4f8-3c159d645059\" class=\"plotly-graph-div\" style=\"height:525px; width:100%;\"></div>\n",
       "            <script type=\"text/javascript\">\n",
       "                require([\"plotly\"], function(Plotly) {\n",
       "                    window.PLOTLYENV=window.PLOTLYENV || {};\n",
       "                    window.PLOTLYENV.BASE_URL='https://plot.ly';\n",
       "                    \n",
       "                if (document.getElementById(\"bbeadc8c-29a5-41ff-b4f8-3c159d645059\")) {\n",
       "                    Plotly.newPlot(\n",
       "                        'bbeadc8c-29a5-41ff-b4f8-3c159d645059',\n",
       "                        [{\"marker\": {\"color\": \"rgba(255, 153, 51, 0.6)\", \"line\": {\"color\": \"rgba(255, 153, 51, 1.0)\", \"width\": 1}}, \"name\": \"Confirmed\", \"orientation\": \"v\", \"text\": \"\", \"type\": \"bar\", \"x\": [\"Maharashtra\", \"Tamil Nadu\", \"Delhi\", \"Karnataka\", \"Andhra Pradesh\", \"Uttar Pradesh\", \"Gujarat\", \"West Bengal\", \"Telangana\", \"Rajasthan\", \"Bihar\", \"Haryana\", \"Assam\", \"Madhya Pradesh\", \"Odisha\", \"Jammu and Kashmir\", \"Kerala\", \"Punjab\", \"Jharkhand\", \"Chhattisgarh\", \"Uttarakhand\", \"Goa\", \"Tripura\", \"Puducherry\", \"Manipur\", \"Himachal Pradesh\", \"Ladakh\", \"Nagaland\", \"Arunachal Pradesh\", \"Chandigarh\", \"Dadra and Nagar Haveli and Daman and Diu\", \"Meghalaya\", \"Sikkim\", \"Mizoram\", \"Andaman and Nicobar Islands\", \"Lakshadweep\"], \"y\": [490262, 285024, 142723, 164924, 206960, 113378, 68885, 89666, 77513, 50656, 71794, 40054, 55497, 37298, 44193, 23927, 31700, 21930, 16542, 11408, 8901, 7947, 6014, 5123, 3466, 3206, 1614, 2657, 2049, 1374, 1459, 1023, 854, 567, 1222, 0]}],\n",
       "                        {\"legend\": {\"bgcolor\": \"#F5F6F9\", \"font\": {\"color\": \"#4D5663\"}}, \"paper_bgcolor\": \"#F5F6F9\", \"plot_bgcolor\": \"#F5F6F9\", \"template\": {\"data\": {\"bar\": [{\"error_x\": {\"color\": \"#2a3f5f\"}, \"error_y\": {\"color\": \"#2a3f5f\"}, \"marker\": {\"line\": {\"color\": \"#E5ECF6\", \"width\": 0.5}}, \"type\": \"bar\"}], \"barpolar\": [{\"marker\": {\"line\": {\"color\": \"#E5ECF6\", \"width\": 0.5}}, \"type\": \"barpolar\"}], \"carpet\": [{\"aaxis\": {\"endlinecolor\": \"#2a3f5f\", \"gridcolor\": \"white\", \"linecolor\": \"white\", \"minorgridcolor\": \"white\", \"startlinecolor\": \"#2a3f5f\"}, \"baxis\": {\"endlinecolor\": \"#2a3f5f\", \"gridcolor\": \"white\", \"linecolor\": \"white\", \"minorgridcolor\": \"white\", \"startlinecolor\": \"#2a3f5f\"}, \"type\": \"carpet\"}], \"choropleth\": [{\"colorbar\": {\"outlinewidth\": 0, \"ticks\": \"\"}, \"type\": \"choropleth\"}], \"contour\": [{\"colorbar\": {\"outlinewidth\": 0, \"ticks\": \"\"}, \"colorscale\": [[0.0, \"#0d0887\"], [0.1111111111111111, \"#46039f\"], [0.2222222222222222, \"#7201a8\"], [0.3333333333333333, \"#9c179e\"], [0.4444444444444444, \"#bd3786\"], [0.5555555555555556, \"#d8576b\"], [0.6666666666666666, \"#ed7953\"], [0.7777777777777778, \"#fb9f3a\"], [0.8888888888888888, \"#fdca26\"], [1.0, \"#f0f921\"]], \"type\": \"contour\"}], \"contourcarpet\": [{\"colorbar\": {\"outlinewidth\": 0, \"ticks\": \"\"}, \"type\": \"contourcarpet\"}], \"heatmap\": [{\"colorbar\": {\"outlinewidth\": 0, \"ticks\": \"\"}, \"colorscale\": [[0.0, \"#0d0887\"], [0.1111111111111111, \"#46039f\"], [0.2222222222222222, \"#7201a8\"], [0.3333333333333333, \"#9c179e\"], [0.4444444444444444, \"#bd3786\"], [0.5555555555555556, \"#d8576b\"], [0.6666666666666666, \"#ed7953\"], [0.7777777777777778, \"#fb9f3a\"], [0.8888888888888888, \"#fdca26\"], [1.0, \"#f0f921\"]], \"type\": \"heatmap\"}], \"heatmapgl\": [{\"colorbar\": {\"outlinewidth\": 0, \"ticks\": \"\"}, \"colorscale\": [[0.0, \"#0d0887\"], [0.1111111111111111, \"#46039f\"], [0.2222222222222222, \"#7201a8\"], [0.3333333333333333, \"#9c179e\"], [0.4444444444444444, \"#bd3786\"], [0.5555555555555556, \"#d8576b\"], [0.6666666666666666, \"#ed7953\"], [0.7777777777777778, \"#fb9f3a\"], [0.8888888888888888, \"#fdca26\"], [1.0, \"#f0f921\"]], \"type\": \"heatmapgl\"}], \"histogram\": [{\"marker\": {\"colorbar\": {\"outlinewidth\": 0, \"ticks\": \"\"}}, \"type\": \"histogram\"}], \"histogram2d\": [{\"colorbar\": {\"outlinewidth\": 0, \"ticks\": \"\"}, \"colorscale\": [[0.0, \"#0d0887\"], [0.1111111111111111, \"#46039f\"], [0.2222222222222222, \"#7201a8\"], [0.3333333333333333, \"#9c179e\"], [0.4444444444444444, \"#bd3786\"], [0.5555555555555556, \"#d8576b\"], [0.6666666666666666, \"#ed7953\"], [0.7777777777777778, \"#fb9f3a\"], [0.8888888888888888, \"#fdca26\"], [1.0, \"#f0f921\"]], \"type\": \"histogram2d\"}], \"histogram2dcontour\": [{\"colorbar\": {\"outlinewidth\": 0, \"ticks\": \"\"}, \"colorscale\": [[0.0, \"#0d0887\"], [0.1111111111111111, \"#46039f\"], [0.2222222222222222, \"#7201a8\"], [0.3333333333333333, \"#9c179e\"], [0.4444444444444444, \"#bd3786\"], [0.5555555555555556, \"#d8576b\"], [0.6666666666666666, \"#ed7953\"], [0.7777777777777778, \"#fb9f3a\"], [0.8888888888888888, \"#fdca26\"], [1.0, \"#f0f921\"]], \"type\": \"histogram2dcontour\"}], \"mesh3d\": [{\"colorbar\": {\"outlinewidth\": 0, \"ticks\": \"\"}, \"type\": \"mesh3d\"}], \"parcoords\": [{\"line\": {\"colorbar\": {\"outlinewidth\": 0, \"ticks\": \"\"}}, \"type\": \"parcoords\"}], \"pie\": [{\"automargin\": true, \"type\": \"pie\"}], \"scatter\": [{\"marker\": {\"colorbar\": {\"outlinewidth\": 0, \"ticks\": \"\"}}, \"type\": \"scatter\"}], \"scatter3d\": [{\"line\": {\"colorbar\": {\"outlinewidth\": 0, \"ticks\": \"\"}}, \"marker\": {\"colorbar\": {\"outlinewidth\": 0, \"ticks\": \"\"}}, \"type\": \"scatter3d\"}], \"scattercarpet\": [{\"marker\": {\"colorbar\": {\"outlinewidth\": 0, \"ticks\": \"\"}}, \"type\": \"scattercarpet\"}], \"scattergeo\": [{\"marker\": {\"colorbar\": {\"outlinewidth\": 0, \"ticks\": \"\"}}, \"type\": \"scattergeo\"}], \"scattergl\": [{\"marker\": {\"colorbar\": {\"outlinewidth\": 0, \"ticks\": \"\"}}, \"type\": \"scattergl\"}], \"scattermapbox\": [{\"marker\": {\"colorbar\": {\"outlinewidth\": 0, \"ticks\": \"\"}}, \"type\": \"scattermapbox\"}], \"scatterpolar\": [{\"marker\": {\"colorbar\": {\"outlinewidth\": 0, \"ticks\": \"\"}}, \"type\": \"scatterpolar\"}], \"scatterpolargl\": [{\"marker\": {\"colorbar\": {\"outlinewidth\": 0, \"ticks\": \"\"}}, \"type\": \"scatterpolargl\"}], \"scatterternary\": [{\"marker\": {\"colorbar\": {\"outlinewidth\": 0, \"ticks\": \"\"}}, \"type\": \"scatterternary\"}], \"surface\": [{\"colorbar\": {\"outlinewidth\": 0, \"ticks\": \"\"}, \"colorscale\": [[0.0, \"#0d0887\"], [0.1111111111111111, \"#46039f\"], [0.2222222222222222, \"#7201a8\"], [0.3333333333333333, \"#9c179e\"], [0.4444444444444444, \"#bd3786\"], [0.5555555555555556, \"#d8576b\"], [0.6666666666666666, \"#ed7953\"], [0.7777777777777778, \"#fb9f3a\"], [0.8888888888888888, \"#fdca26\"], [1.0, \"#f0f921\"]], \"type\": \"surface\"}], \"table\": [{\"cells\": {\"fill\": {\"color\": \"#EBF0F8\"}, \"line\": {\"color\": \"white\"}}, \"header\": {\"fill\": {\"color\": \"#C8D4E3\"}, \"line\": {\"color\": \"white\"}}, \"type\": \"table\"}]}, \"layout\": {\"annotationdefaults\": {\"arrowcolor\": \"#2a3f5f\", \"arrowhead\": 0, \"arrowwidth\": 1}, \"coloraxis\": {\"colorbar\": {\"outlinewidth\": 0, \"ticks\": \"\"}}, \"colorscale\": {\"diverging\": [[0, \"#8e0152\"], [0.1, \"#c51b7d\"], [0.2, \"#de77ae\"], [0.3, \"#f1b6da\"], [0.4, \"#fde0ef\"], [0.5, \"#f7f7f7\"], [0.6, \"#e6f5d0\"], [0.7, \"#b8e186\"], [0.8, \"#7fbc41\"], [0.9, \"#4d9221\"], [1, \"#276419\"]], \"sequential\": [[0.0, \"#0d0887\"], [0.1111111111111111, \"#46039f\"], [0.2222222222222222, \"#7201a8\"], [0.3333333333333333, \"#9c179e\"], [0.4444444444444444, \"#bd3786\"], [0.5555555555555556, \"#d8576b\"], [0.6666666666666666, \"#ed7953\"], [0.7777777777777778, \"#fb9f3a\"], [0.8888888888888888, \"#fdca26\"], [1.0, \"#f0f921\"]], \"sequentialminus\": [[0.0, \"#0d0887\"], [0.1111111111111111, \"#46039f\"], [0.2222222222222222, \"#7201a8\"], [0.3333333333333333, \"#9c179e\"], [0.4444444444444444, \"#bd3786\"], [0.5555555555555556, \"#d8576b\"], [0.6666666666666666, \"#ed7953\"], [0.7777777777777778, \"#fb9f3a\"], [0.8888888888888888, \"#fdca26\"], [1.0, \"#f0f921\"]]}, \"colorway\": [\"#636efa\", \"#EF553B\", \"#00cc96\", \"#ab63fa\", \"#FFA15A\", \"#19d3f3\", \"#FF6692\", \"#B6E880\", \"#FF97FF\", \"#FECB52\"], \"font\": {\"color\": \"#2a3f5f\"}, \"geo\": {\"bgcolor\": \"white\", \"lakecolor\": \"white\", \"landcolor\": \"#E5ECF6\", \"showlakes\": true, \"showland\": true, \"subunitcolor\": \"white\"}, \"hoverlabel\": {\"align\": \"left\"}, \"hovermode\": \"closest\", \"mapbox\": {\"style\": \"light\"}, \"paper_bgcolor\": \"white\", \"plot_bgcolor\": \"#E5ECF6\", \"polar\": {\"angularaxis\": {\"gridcolor\": \"white\", \"linecolor\": \"white\", \"ticks\": \"\"}, \"bgcolor\": \"#E5ECF6\", \"radialaxis\": {\"gridcolor\": \"white\", \"linecolor\": \"white\", \"ticks\": \"\"}}, \"scene\": {\"xaxis\": {\"backgroundcolor\": \"#E5ECF6\", \"gridcolor\": \"white\", \"gridwidth\": 2, \"linecolor\": \"white\", \"showbackground\": true, \"ticks\": \"\", \"zerolinecolor\": \"white\"}, \"yaxis\": {\"backgroundcolor\": \"#E5ECF6\", \"gridcolor\": \"white\", \"gridwidth\": 2, \"linecolor\": \"white\", \"showbackground\": true, \"ticks\": \"\", \"zerolinecolor\": \"white\"}, \"zaxis\": {\"backgroundcolor\": \"#E5ECF6\", \"gridcolor\": \"white\", \"gridwidth\": 2, \"linecolor\": \"white\", \"showbackground\": true, \"ticks\": \"\", \"zerolinecolor\": \"white\"}}, \"shapedefaults\": {\"line\": {\"color\": \"#2a3f5f\"}}, \"ternary\": {\"aaxis\": {\"gridcolor\": \"white\", \"linecolor\": \"white\", \"ticks\": \"\"}, \"baxis\": {\"gridcolor\": \"white\", \"linecolor\": \"white\", \"ticks\": \"\"}, \"bgcolor\": \"#E5ECF6\", \"caxis\": {\"gridcolor\": \"white\", \"linecolor\": \"white\", \"ticks\": \"\"}}, \"title\": {\"x\": 0.05}, \"xaxis\": {\"automargin\": true, \"gridcolor\": \"white\", \"linecolor\": \"white\", \"ticks\": \"\", \"title\": {\"standoff\": 15}, \"zerolinecolor\": \"white\", \"zerolinewidth\": 2}, \"yaxis\": {\"automargin\": true, \"gridcolor\": \"white\", \"linecolor\": \"white\", \"ticks\": \"\", \"title\": {\"standoff\": 15}, \"zerolinecolor\": \"white\", \"zerolinewidth\": 2}}}, \"title\": {\"font\": {\"color\": \"#4D5663\"}}, \"xaxis\": {\"gridcolor\": \"#E1E5ED\", \"showgrid\": true, \"tickfont\": {\"color\": \"#4D5663\"}, \"title\": {\"font\": {\"color\": \"#4D5663\"}, \"text\": \"\"}, \"zerolinecolor\": \"#E1E5ED\"}, \"yaxis\": {\"gridcolor\": \"#E1E5ED\", \"showgrid\": true, \"tickfont\": {\"color\": \"#4D5663\"}, \"title\": {\"font\": {\"color\": \"#4D5663\"}, \"text\": \"\"}, \"zerolinecolor\": \"#E1E5ED\"}},\n",
       "                        {\"showLink\": true, \"linkText\": \"Export to plot.ly\", \"plotlyServerURL\": \"https://plot.ly\", \"responsive\": true}\n",
       "                    ).then(function(){\n",
       "                            \n",
       "var gd = document.getElementById('bbeadc8c-29a5-41ff-b4f8-3c159d645059');\n",
       "var x = new MutationObserver(function (mutations, observer) {{\n",
       "        var display = window.getComputedStyle(gd).display;\n",
       "        if (!display || display === 'none') {{\n",
       "            console.log([gd, 'removed!']);\n",
       "            Plotly.purge(gd);\n",
       "            observer.disconnect();\n",
       "        }}\n",
       "}});\n",
       "\n",
       "// Listen for the removal of the full notebook cells\n",
       "var notebookContainer = gd.closest('#notebook-container');\n",
       "if (notebookContainer) {{\n",
       "    x.observe(notebookContainer, {childList: true});\n",
       "}}\n",
       "\n",
       "// Listen for the clearing of the current output cell\n",
       "var outputEl = gd.closest('.output');\n",
       "if (outputEl) {{\n",
       "    x.observe(outputEl, {childList: true});\n",
       "}}\n",
       "\n",
       "                        })\n",
       "                };\n",
       "                });\n",
       "            </script>\n",
       "        </div>"
      ]
     },
     "metadata": {},
     "output_type": "display_data"
    }
   ],
   "source": [
    "#Bar plot for Confirmed Cases\n",
    "Data.iplot(kind='bar',x='State',y='Confirmed')"
   ]
  },
  {
   "cell_type": "code",
   "execution_count": 31,
   "metadata": {},
   "outputs": [
    {
     "data": {
      "application/vnd.plotly.v1+json": {
       "config": {
        "plotlyServerURL": "https://plot.ly"
       },
       "data": [
        {
         "alignmentgroup": "True",
         "hovertemplate": "State=%{x}<br>Active=%{y}<extra></extra>",
         "legendgroup": "",
         "marker": {
          "color": "#636efa"
         },
         "name": "",
         "offsetgroup": "",
         "orientation": "v",
         "showlegend": false,
         "textposition": "auto",
         "type": "bar",
         "x": [
          "Maharashtra",
          "Tamil Nadu",
          "Delhi",
          "Karnataka",
          "Andhra Pradesh",
          "Uttar Pradesh",
          "Gujarat",
          "West Bengal",
          "Telangana",
          "Rajasthan",
          "Bihar",
          "Haryana",
          "Assam",
          "Madhya Pradesh",
          "Odisha",
          "Jammu and Kashmir",
          "Kerala",
          "Punjab",
          "Jharkhand",
          "Chhattisgarh",
          "Uttarakhand",
          "Goa",
          "Tripura",
          "Puducherry",
          "Manipur",
          "Himachal Pradesh",
          "Ladakh",
          "Nagaland",
          "Arunachal Pradesh",
          "Chandigarh",
          "Dadra and Nagar Haveli and Daman and Diu",
          "Meghalaya",
          "Sikkim",
          "Mizoram",
          "Andaman and Nicobar Islands",
          "Lakshadweep"
         ],
         "xaxis": "x",
         "y": [
          145582,
          52759,
          10409,
          77685,
          84654,
          44563,
          14390,
          24652,
          22568,
          13570,
          25128,
          6143,
          16552,
          8715,
          15188,
          7260,
          12411,
          7351,
          8885,
          3002,
          3020,
          2282,
          1875,
          1989,
          1530,
          1157,
          411,
          1824,
          720,
          530,
          409,
          594,
          447,
          277,
          778,
          0
         ],
         "yaxis": "y"
        }
       ],
       "layout": {
        "barmode": "relative",
        "legend": {
         "tracegroupgap": 0
        },
        "margin": {
         "t": 60
        },
        "template": {
         "data": {
          "bar": [
           {
            "error_x": {
             "color": "#2a3f5f"
            },
            "error_y": {
             "color": "#2a3f5f"
            },
            "marker": {
             "line": {
              "color": "#E5ECF6",
              "width": 0.5
             }
            },
            "type": "bar"
           }
          ],
          "barpolar": [
           {
            "marker": {
             "line": {
              "color": "#E5ECF6",
              "width": 0.5
             }
            },
            "type": "barpolar"
           }
          ],
          "carpet": [
           {
            "aaxis": {
             "endlinecolor": "#2a3f5f",
             "gridcolor": "white",
             "linecolor": "white",
             "minorgridcolor": "white",
             "startlinecolor": "#2a3f5f"
            },
            "baxis": {
             "endlinecolor": "#2a3f5f",
             "gridcolor": "white",
             "linecolor": "white",
             "minorgridcolor": "white",
             "startlinecolor": "#2a3f5f"
            },
            "type": "carpet"
           }
          ],
          "choropleth": [
           {
            "colorbar": {
             "outlinewidth": 0,
             "ticks": ""
            },
            "type": "choropleth"
           }
          ],
          "contour": [
           {
            "colorbar": {
             "outlinewidth": 0,
             "ticks": ""
            },
            "colorscale": [
             [
              0,
              "#0d0887"
             ],
             [
              0.1111111111111111,
              "#46039f"
             ],
             [
              0.2222222222222222,
              "#7201a8"
             ],
             [
              0.3333333333333333,
              "#9c179e"
             ],
             [
              0.4444444444444444,
              "#bd3786"
             ],
             [
              0.5555555555555556,
              "#d8576b"
             ],
             [
              0.6666666666666666,
              "#ed7953"
             ],
             [
              0.7777777777777778,
              "#fb9f3a"
             ],
             [
              0.8888888888888888,
              "#fdca26"
             ],
             [
              1,
              "#f0f921"
             ]
            ],
            "type": "contour"
           }
          ],
          "contourcarpet": [
           {
            "colorbar": {
             "outlinewidth": 0,
             "ticks": ""
            },
            "type": "contourcarpet"
           }
          ],
          "heatmap": [
           {
            "colorbar": {
             "outlinewidth": 0,
             "ticks": ""
            },
            "colorscale": [
             [
              0,
              "#0d0887"
             ],
             [
              0.1111111111111111,
              "#46039f"
             ],
             [
              0.2222222222222222,
              "#7201a8"
             ],
             [
              0.3333333333333333,
              "#9c179e"
             ],
             [
              0.4444444444444444,
              "#bd3786"
             ],
             [
              0.5555555555555556,
              "#d8576b"
             ],
             [
              0.6666666666666666,
              "#ed7953"
             ],
             [
              0.7777777777777778,
              "#fb9f3a"
             ],
             [
              0.8888888888888888,
              "#fdca26"
             ],
             [
              1,
              "#f0f921"
             ]
            ],
            "type": "heatmap"
           }
          ],
          "heatmapgl": [
           {
            "colorbar": {
             "outlinewidth": 0,
             "ticks": ""
            },
            "colorscale": [
             [
              0,
              "#0d0887"
             ],
             [
              0.1111111111111111,
              "#46039f"
             ],
             [
              0.2222222222222222,
              "#7201a8"
             ],
             [
              0.3333333333333333,
              "#9c179e"
             ],
             [
              0.4444444444444444,
              "#bd3786"
             ],
             [
              0.5555555555555556,
              "#d8576b"
             ],
             [
              0.6666666666666666,
              "#ed7953"
             ],
             [
              0.7777777777777778,
              "#fb9f3a"
             ],
             [
              0.8888888888888888,
              "#fdca26"
             ],
             [
              1,
              "#f0f921"
             ]
            ],
            "type": "heatmapgl"
           }
          ],
          "histogram": [
           {
            "marker": {
             "colorbar": {
              "outlinewidth": 0,
              "ticks": ""
             }
            },
            "type": "histogram"
           }
          ],
          "histogram2d": [
           {
            "colorbar": {
             "outlinewidth": 0,
             "ticks": ""
            },
            "colorscale": [
             [
              0,
              "#0d0887"
             ],
             [
              0.1111111111111111,
              "#46039f"
             ],
             [
              0.2222222222222222,
              "#7201a8"
             ],
             [
              0.3333333333333333,
              "#9c179e"
             ],
             [
              0.4444444444444444,
              "#bd3786"
             ],
             [
              0.5555555555555556,
              "#d8576b"
             ],
             [
              0.6666666666666666,
              "#ed7953"
             ],
             [
              0.7777777777777778,
              "#fb9f3a"
             ],
             [
              0.8888888888888888,
              "#fdca26"
             ],
             [
              1,
              "#f0f921"
             ]
            ],
            "type": "histogram2d"
           }
          ],
          "histogram2dcontour": [
           {
            "colorbar": {
             "outlinewidth": 0,
             "ticks": ""
            },
            "colorscale": [
             [
              0,
              "#0d0887"
             ],
             [
              0.1111111111111111,
              "#46039f"
             ],
             [
              0.2222222222222222,
              "#7201a8"
             ],
             [
              0.3333333333333333,
              "#9c179e"
             ],
             [
              0.4444444444444444,
              "#bd3786"
             ],
             [
              0.5555555555555556,
              "#d8576b"
             ],
             [
              0.6666666666666666,
              "#ed7953"
             ],
             [
              0.7777777777777778,
              "#fb9f3a"
             ],
             [
              0.8888888888888888,
              "#fdca26"
             ],
             [
              1,
              "#f0f921"
             ]
            ],
            "type": "histogram2dcontour"
           }
          ],
          "mesh3d": [
           {
            "colorbar": {
             "outlinewidth": 0,
             "ticks": ""
            },
            "type": "mesh3d"
           }
          ],
          "parcoords": [
           {
            "line": {
             "colorbar": {
              "outlinewidth": 0,
              "ticks": ""
             }
            },
            "type": "parcoords"
           }
          ],
          "pie": [
           {
            "automargin": true,
            "type": "pie"
           }
          ],
          "scatter": [
           {
            "marker": {
             "colorbar": {
              "outlinewidth": 0,
              "ticks": ""
             }
            },
            "type": "scatter"
           }
          ],
          "scatter3d": [
           {
            "line": {
             "colorbar": {
              "outlinewidth": 0,
              "ticks": ""
             }
            },
            "marker": {
             "colorbar": {
              "outlinewidth": 0,
              "ticks": ""
             }
            },
            "type": "scatter3d"
           }
          ],
          "scattercarpet": [
           {
            "marker": {
             "colorbar": {
              "outlinewidth": 0,
              "ticks": ""
             }
            },
            "type": "scattercarpet"
           }
          ],
          "scattergeo": [
           {
            "marker": {
             "colorbar": {
              "outlinewidth": 0,
              "ticks": ""
             }
            },
            "type": "scattergeo"
           }
          ],
          "scattergl": [
           {
            "marker": {
             "colorbar": {
              "outlinewidth": 0,
              "ticks": ""
             }
            },
            "type": "scattergl"
           }
          ],
          "scattermapbox": [
           {
            "marker": {
             "colorbar": {
              "outlinewidth": 0,
              "ticks": ""
             }
            },
            "type": "scattermapbox"
           }
          ],
          "scatterpolar": [
           {
            "marker": {
             "colorbar": {
              "outlinewidth": 0,
              "ticks": ""
             }
            },
            "type": "scatterpolar"
           }
          ],
          "scatterpolargl": [
           {
            "marker": {
             "colorbar": {
              "outlinewidth": 0,
              "ticks": ""
             }
            },
            "type": "scatterpolargl"
           }
          ],
          "scatterternary": [
           {
            "marker": {
             "colorbar": {
              "outlinewidth": 0,
              "ticks": ""
             }
            },
            "type": "scatterternary"
           }
          ],
          "surface": [
           {
            "colorbar": {
             "outlinewidth": 0,
             "ticks": ""
            },
            "colorscale": [
             [
              0,
              "#0d0887"
             ],
             [
              0.1111111111111111,
              "#46039f"
             ],
             [
              0.2222222222222222,
              "#7201a8"
             ],
             [
              0.3333333333333333,
              "#9c179e"
             ],
             [
              0.4444444444444444,
              "#bd3786"
             ],
             [
              0.5555555555555556,
              "#d8576b"
             ],
             [
              0.6666666666666666,
              "#ed7953"
             ],
             [
              0.7777777777777778,
              "#fb9f3a"
             ],
             [
              0.8888888888888888,
              "#fdca26"
             ],
             [
              1,
              "#f0f921"
             ]
            ],
            "type": "surface"
           }
          ],
          "table": [
           {
            "cells": {
             "fill": {
              "color": "#EBF0F8"
             },
             "line": {
              "color": "white"
             }
            },
            "header": {
             "fill": {
              "color": "#C8D4E3"
             },
             "line": {
              "color": "white"
             }
            },
            "type": "table"
           }
          ]
         },
         "layout": {
          "annotationdefaults": {
           "arrowcolor": "#2a3f5f",
           "arrowhead": 0,
           "arrowwidth": 1
          },
          "coloraxis": {
           "colorbar": {
            "outlinewidth": 0,
            "ticks": ""
           }
          },
          "colorscale": {
           "diverging": [
            [
             0,
             "#8e0152"
            ],
            [
             0.1,
             "#c51b7d"
            ],
            [
             0.2,
             "#de77ae"
            ],
            [
             0.3,
             "#f1b6da"
            ],
            [
             0.4,
             "#fde0ef"
            ],
            [
             0.5,
             "#f7f7f7"
            ],
            [
             0.6,
             "#e6f5d0"
            ],
            [
             0.7,
             "#b8e186"
            ],
            [
             0.8,
             "#7fbc41"
            ],
            [
             0.9,
             "#4d9221"
            ],
            [
             1,
             "#276419"
            ]
           ],
           "sequential": [
            [
             0,
             "#0d0887"
            ],
            [
             0.1111111111111111,
             "#46039f"
            ],
            [
             0.2222222222222222,
             "#7201a8"
            ],
            [
             0.3333333333333333,
             "#9c179e"
            ],
            [
             0.4444444444444444,
             "#bd3786"
            ],
            [
             0.5555555555555556,
             "#d8576b"
            ],
            [
             0.6666666666666666,
             "#ed7953"
            ],
            [
             0.7777777777777778,
             "#fb9f3a"
            ],
            [
             0.8888888888888888,
             "#fdca26"
            ],
            [
             1,
             "#f0f921"
            ]
           ],
           "sequentialminus": [
            [
             0,
             "#0d0887"
            ],
            [
             0.1111111111111111,
             "#46039f"
            ],
            [
             0.2222222222222222,
             "#7201a8"
            ],
            [
             0.3333333333333333,
             "#9c179e"
            ],
            [
             0.4444444444444444,
             "#bd3786"
            ],
            [
             0.5555555555555556,
             "#d8576b"
            ],
            [
             0.6666666666666666,
             "#ed7953"
            ],
            [
             0.7777777777777778,
             "#fb9f3a"
            ],
            [
             0.8888888888888888,
             "#fdca26"
            ],
            [
             1,
             "#f0f921"
            ]
           ]
          },
          "colorway": [
           "#636efa",
           "#EF553B",
           "#00cc96",
           "#ab63fa",
           "#FFA15A",
           "#19d3f3",
           "#FF6692",
           "#B6E880",
           "#FF97FF",
           "#FECB52"
          ],
          "font": {
           "color": "#2a3f5f"
          },
          "geo": {
           "bgcolor": "white",
           "lakecolor": "white",
           "landcolor": "#E5ECF6",
           "showlakes": true,
           "showland": true,
           "subunitcolor": "white"
          },
          "hoverlabel": {
           "align": "left"
          },
          "hovermode": "closest",
          "mapbox": {
           "style": "light"
          },
          "paper_bgcolor": "white",
          "plot_bgcolor": "#E5ECF6",
          "polar": {
           "angularaxis": {
            "gridcolor": "white",
            "linecolor": "white",
            "ticks": ""
           },
           "bgcolor": "#E5ECF6",
           "radialaxis": {
            "gridcolor": "white",
            "linecolor": "white",
            "ticks": ""
           }
          },
          "scene": {
           "xaxis": {
            "backgroundcolor": "#E5ECF6",
            "gridcolor": "white",
            "gridwidth": 2,
            "linecolor": "white",
            "showbackground": true,
            "ticks": "",
            "zerolinecolor": "white"
           },
           "yaxis": {
            "backgroundcolor": "#E5ECF6",
            "gridcolor": "white",
            "gridwidth": 2,
            "linecolor": "white",
            "showbackground": true,
            "ticks": "",
            "zerolinecolor": "white"
           },
           "zaxis": {
            "backgroundcolor": "#E5ECF6",
            "gridcolor": "white",
            "gridwidth": 2,
            "linecolor": "white",
            "showbackground": true,
            "ticks": "",
            "zerolinecolor": "white"
           }
          },
          "shapedefaults": {
           "line": {
            "color": "#2a3f5f"
           }
          },
          "ternary": {
           "aaxis": {
            "gridcolor": "white",
            "linecolor": "white",
            "ticks": ""
           },
           "baxis": {
            "gridcolor": "white",
            "linecolor": "white",
            "ticks": ""
           },
           "bgcolor": "#E5ECF6",
           "caxis": {
            "gridcolor": "white",
            "linecolor": "white",
            "ticks": ""
           }
          },
          "title": {
           "x": 0.05
          },
          "xaxis": {
           "automargin": true,
           "gridcolor": "white",
           "linecolor": "white",
           "ticks": "",
           "title": {
            "standoff": 15
           },
           "zerolinecolor": "white",
           "zerolinewidth": 2
          },
          "yaxis": {
           "automargin": true,
           "gridcolor": "white",
           "linecolor": "white",
           "ticks": "",
           "title": {
            "standoff": 15
           },
           "zerolinecolor": "white",
           "zerolinewidth": 2
          }
         }
        },
        "xaxis": {
         "anchor": "y",
         "domain": [
          0,
          1
         ],
         "title": {
          "text": "State"
         }
        },
        "yaxis": {
         "anchor": "x",
         "domain": [
          0,
          1
         ],
         "title": {
          "text": "Active"
         }
        }
       }
      },
      "text/html": [
       "<div>\n",
       "        \n",
       "        \n",
       "            <div id=\"20e63e15-3401-4a0c-a95b-3e71ae5d479e\" class=\"plotly-graph-div\" style=\"height:525px; width:100%;\"></div>\n",
       "            <script type=\"text/javascript\">\n",
       "                require([\"plotly\"], function(Plotly) {\n",
       "                    window.PLOTLYENV=window.PLOTLYENV || {};\n",
       "                    \n",
       "                if (document.getElementById(\"20e63e15-3401-4a0c-a95b-3e71ae5d479e\")) {\n",
       "                    Plotly.newPlot(\n",
       "                        '20e63e15-3401-4a0c-a95b-3e71ae5d479e',\n",
       "                        [{\"alignmentgroup\": \"True\", \"hovertemplate\": \"State=%{x}<br>Active=%{y}<extra></extra>\", \"legendgroup\": \"\", \"marker\": {\"color\": \"#636efa\"}, \"name\": \"\", \"offsetgroup\": \"\", \"orientation\": \"v\", \"showlegend\": false, \"textposition\": \"auto\", \"type\": \"bar\", \"x\": [\"Maharashtra\", \"Tamil Nadu\", \"Delhi\", \"Karnataka\", \"Andhra Pradesh\", \"Uttar Pradesh\", \"Gujarat\", \"West Bengal\", \"Telangana\", \"Rajasthan\", \"Bihar\", \"Haryana\", \"Assam\", \"Madhya Pradesh\", \"Odisha\", \"Jammu and Kashmir\", \"Kerala\", \"Punjab\", \"Jharkhand\", \"Chhattisgarh\", \"Uttarakhand\", \"Goa\", \"Tripura\", \"Puducherry\", \"Manipur\", \"Himachal Pradesh\", \"Ladakh\", \"Nagaland\", \"Arunachal Pradesh\", \"Chandigarh\", \"Dadra and Nagar Haveli and Daman and Diu\", \"Meghalaya\", \"Sikkim\", \"Mizoram\", \"Andaman and Nicobar Islands\", \"Lakshadweep\"], \"xaxis\": \"x\", \"y\": [145582, 52759, 10409, 77685, 84654, 44563, 14390, 24652, 22568, 13570, 25128, 6143, 16552, 8715, 15188, 7260, 12411, 7351, 8885, 3002, 3020, 2282, 1875, 1989, 1530, 1157, 411, 1824, 720, 530, 409, 594, 447, 277, 778, 0], \"yaxis\": \"y\"}],\n",
       "                        {\"barmode\": \"relative\", \"legend\": {\"tracegroupgap\": 0}, \"margin\": {\"t\": 60}, \"template\": {\"data\": {\"bar\": [{\"error_x\": {\"color\": \"#2a3f5f\"}, \"error_y\": {\"color\": \"#2a3f5f\"}, \"marker\": {\"line\": {\"color\": \"#E5ECF6\", \"width\": 0.5}}, \"type\": \"bar\"}], \"barpolar\": [{\"marker\": {\"line\": {\"color\": \"#E5ECF6\", \"width\": 0.5}}, \"type\": \"barpolar\"}], \"carpet\": [{\"aaxis\": {\"endlinecolor\": \"#2a3f5f\", \"gridcolor\": \"white\", \"linecolor\": \"white\", \"minorgridcolor\": \"white\", \"startlinecolor\": \"#2a3f5f\"}, \"baxis\": {\"endlinecolor\": \"#2a3f5f\", \"gridcolor\": \"white\", \"linecolor\": \"white\", \"minorgridcolor\": \"white\", \"startlinecolor\": \"#2a3f5f\"}, \"type\": \"carpet\"}], \"choropleth\": [{\"colorbar\": {\"outlinewidth\": 0, \"ticks\": \"\"}, \"type\": \"choropleth\"}], \"contour\": [{\"colorbar\": {\"outlinewidth\": 0, \"ticks\": \"\"}, \"colorscale\": [[0.0, \"#0d0887\"], [0.1111111111111111, \"#46039f\"], [0.2222222222222222, \"#7201a8\"], [0.3333333333333333, \"#9c179e\"], [0.4444444444444444, \"#bd3786\"], [0.5555555555555556, \"#d8576b\"], [0.6666666666666666, \"#ed7953\"], [0.7777777777777778, \"#fb9f3a\"], [0.8888888888888888, \"#fdca26\"], [1.0, \"#f0f921\"]], \"type\": \"contour\"}], \"contourcarpet\": [{\"colorbar\": {\"outlinewidth\": 0, \"ticks\": \"\"}, \"type\": \"contourcarpet\"}], \"heatmap\": [{\"colorbar\": {\"outlinewidth\": 0, \"ticks\": \"\"}, \"colorscale\": [[0.0, \"#0d0887\"], [0.1111111111111111, \"#46039f\"], [0.2222222222222222, \"#7201a8\"], [0.3333333333333333, \"#9c179e\"], [0.4444444444444444, \"#bd3786\"], [0.5555555555555556, \"#d8576b\"], [0.6666666666666666, \"#ed7953\"], [0.7777777777777778, \"#fb9f3a\"], [0.8888888888888888, \"#fdca26\"], [1.0, \"#f0f921\"]], \"type\": \"heatmap\"}], \"heatmapgl\": [{\"colorbar\": {\"outlinewidth\": 0, \"ticks\": \"\"}, \"colorscale\": [[0.0, \"#0d0887\"], [0.1111111111111111, \"#46039f\"], [0.2222222222222222, \"#7201a8\"], [0.3333333333333333, \"#9c179e\"], [0.4444444444444444, \"#bd3786\"], [0.5555555555555556, \"#d8576b\"], [0.6666666666666666, \"#ed7953\"], [0.7777777777777778, \"#fb9f3a\"], [0.8888888888888888, \"#fdca26\"], [1.0, \"#f0f921\"]], \"type\": \"heatmapgl\"}], \"histogram\": [{\"marker\": {\"colorbar\": {\"outlinewidth\": 0, \"ticks\": \"\"}}, \"type\": \"histogram\"}], \"histogram2d\": [{\"colorbar\": {\"outlinewidth\": 0, \"ticks\": \"\"}, \"colorscale\": [[0.0, \"#0d0887\"], [0.1111111111111111, \"#46039f\"], [0.2222222222222222, \"#7201a8\"], [0.3333333333333333, \"#9c179e\"], [0.4444444444444444, \"#bd3786\"], [0.5555555555555556, \"#d8576b\"], [0.6666666666666666, \"#ed7953\"], [0.7777777777777778, \"#fb9f3a\"], [0.8888888888888888, \"#fdca26\"], [1.0, \"#f0f921\"]], \"type\": \"histogram2d\"}], \"histogram2dcontour\": [{\"colorbar\": {\"outlinewidth\": 0, \"ticks\": \"\"}, \"colorscale\": [[0.0, \"#0d0887\"], [0.1111111111111111, \"#46039f\"], [0.2222222222222222, \"#7201a8\"], [0.3333333333333333, \"#9c179e\"], [0.4444444444444444, \"#bd3786\"], [0.5555555555555556, \"#d8576b\"], [0.6666666666666666, \"#ed7953\"], [0.7777777777777778, \"#fb9f3a\"], [0.8888888888888888, \"#fdca26\"], [1.0, \"#f0f921\"]], \"type\": \"histogram2dcontour\"}], \"mesh3d\": [{\"colorbar\": {\"outlinewidth\": 0, \"ticks\": \"\"}, \"type\": \"mesh3d\"}], \"parcoords\": [{\"line\": {\"colorbar\": {\"outlinewidth\": 0, \"ticks\": \"\"}}, \"type\": \"parcoords\"}], \"pie\": [{\"automargin\": true, \"type\": \"pie\"}], \"scatter\": [{\"marker\": {\"colorbar\": {\"outlinewidth\": 0, \"ticks\": \"\"}}, \"type\": \"scatter\"}], \"scatter3d\": [{\"line\": {\"colorbar\": {\"outlinewidth\": 0, \"ticks\": \"\"}}, \"marker\": {\"colorbar\": {\"outlinewidth\": 0, \"ticks\": \"\"}}, \"type\": \"scatter3d\"}], \"scattercarpet\": [{\"marker\": {\"colorbar\": {\"outlinewidth\": 0, \"ticks\": \"\"}}, \"type\": \"scattercarpet\"}], \"scattergeo\": [{\"marker\": {\"colorbar\": {\"outlinewidth\": 0, \"ticks\": \"\"}}, \"type\": \"scattergeo\"}], \"scattergl\": [{\"marker\": {\"colorbar\": {\"outlinewidth\": 0, \"ticks\": \"\"}}, \"type\": \"scattergl\"}], \"scattermapbox\": [{\"marker\": {\"colorbar\": {\"outlinewidth\": 0, \"ticks\": \"\"}}, \"type\": \"scattermapbox\"}], \"scatterpolar\": [{\"marker\": {\"colorbar\": {\"outlinewidth\": 0, \"ticks\": \"\"}}, \"type\": \"scatterpolar\"}], \"scatterpolargl\": [{\"marker\": {\"colorbar\": {\"outlinewidth\": 0, \"ticks\": \"\"}}, \"type\": \"scatterpolargl\"}], \"scatterternary\": [{\"marker\": {\"colorbar\": {\"outlinewidth\": 0, \"ticks\": \"\"}}, \"type\": \"scatterternary\"}], \"surface\": [{\"colorbar\": {\"outlinewidth\": 0, \"ticks\": \"\"}, \"colorscale\": [[0.0, \"#0d0887\"], [0.1111111111111111, \"#46039f\"], [0.2222222222222222, \"#7201a8\"], [0.3333333333333333, \"#9c179e\"], [0.4444444444444444, \"#bd3786\"], [0.5555555555555556, \"#d8576b\"], [0.6666666666666666, \"#ed7953\"], [0.7777777777777778, \"#fb9f3a\"], [0.8888888888888888, \"#fdca26\"], [1.0, \"#f0f921\"]], \"type\": \"surface\"}], \"table\": [{\"cells\": {\"fill\": {\"color\": \"#EBF0F8\"}, \"line\": {\"color\": \"white\"}}, \"header\": {\"fill\": {\"color\": \"#C8D4E3\"}, \"line\": {\"color\": \"white\"}}, \"type\": \"table\"}]}, \"layout\": {\"annotationdefaults\": {\"arrowcolor\": \"#2a3f5f\", \"arrowhead\": 0, \"arrowwidth\": 1}, \"coloraxis\": {\"colorbar\": {\"outlinewidth\": 0, \"ticks\": \"\"}}, \"colorscale\": {\"diverging\": [[0, \"#8e0152\"], [0.1, \"#c51b7d\"], [0.2, \"#de77ae\"], [0.3, \"#f1b6da\"], [0.4, \"#fde0ef\"], [0.5, \"#f7f7f7\"], [0.6, \"#e6f5d0\"], [0.7, \"#b8e186\"], [0.8, \"#7fbc41\"], [0.9, \"#4d9221\"], [1, \"#276419\"]], \"sequential\": [[0.0, \"#0d0887\"], [0.1111111111111111, \"#46039f\"], [0.2222222222222222, \"#7201a8\"], [0.3333333333333333, \"#9c179e\"], [0.4444444444444444, \"#bd3786\"], [0.5555555555555556, \"#d8576b\"], [0.6666666666666666, \"#ed7953\"], [0.7777777777777778, \"#fb9f3a\"], [0.8888888888888888, \"#fdca26\"], [1.0, \"#f0f921\"]], \"sequentialminus\": [[0.0, \"#0d0887\"], [0.1111111111111111, \"#46039f\"], [0.2222222222222222, \"#7201a8\"], [0.3333333333333333, \"#9c179e\"], [0.4444444444444444, \"#bd3786\"], [0.5555555555555556, \"#d8576b\"], [0.6666666666666666, \"#ed7953\"], [0.7777777777777778, \"#fb9f3a\"], [0.8888888888888888, \"#fdca26\"], [1.0, \"#f0f921\"]]}, \"colorway\": [\"#636efa\", \"#EF553B\", \"#00cc96\", \"#ab63fa\", \"#FFA15A\", \"#19d3f3\", \"#FF6692\", \"#B6E880\", \"#FF97FF\", \"#FECB52\"], \"font\": {\"color\": \"#2a3f5f\"}, \"geo\": {\"bgcolor\": \"white\", \"lakecolor\": \"white\", \"landcolor\": \"#E5ECF6\", \"showlakes\": true, \"showland\": true, \"subunitcolor\": \"white\"}, \"hoverlabel\": {\"align\": \"left\"}, \"hovermode\": \"closest\", \"mapbox\": {\"style\": \"light\"}, \"paper_bgcolor\": \"white\", \"plot_bgcolor\": \"#E5ECF6\", \"polar\": {\"angularaxis\": {\"gridcolor\": \"white\", \"linecolor\": \"white\", \"ticks\": \"\"}, \"bgcolor\": \"#E5ECF6\", \"radialaxis\": {\"gridcolor\": \"white\", \"linecolor\": \"white\", \"ticks\": \"\"}}, \"scene\": {\"xaxis\": {\"backgroundcolor\": \"#E5ECF6\", \"gridcolor\": \"white\", \"gridwidth\": 2, \"linecolor\": \"white\", \"showbackground\": true, \"ticks\": \"\", \"zerolinecolor\": \"white\"}, \"yaxis\": {\"backgroundcolor\": \"#E5ECF6\", \"gridcolor\": \"white\", \"gridwidth\": 2, \"linecolor\": \"white\", \"showbackground\": true, \"ticks\": \"\", \"zerolinecolor\": \"white\"}, \"zaxis\": {\"backgroundcolor\": \"#E5ECF6\", \"gridcolor\": \"white\", \"gridwidth\": 2, \"linecolor\": \"white\", \"showbackground\": true, \"ticks\": \"\", \"zerolinecolor\": \"white\"}}, \"shapedefaults\": {\"line\": {\"color\": \"#2a3f5f\"}}, \"ternary\": {\"aaxis\": {\"gridcolor\": \"white\", \"linecolor\": \"white\", \"ticks\": \"\"}, \"baxis\": {\"gridcolor\": \"white\", \"linecolor\": \"white\", \"ticks\": \"\"}, \"bgcolor\": \"#E5ECF6\", \"caxis\": {\"gridcolor\": \"white\", \"linecolor\": \"white\", \"ticks\": \"\"}}, \"title\": {\"x\": 0.05}, \"xaxis\": {\"automargin\": true, \"gridcolor\": \"white\", \"linecolor\": \"white\", \"ticks\": \"\", \"title\": {\"standoff\": 15}, \"zerolinecolor\": \"white\", \"zerolinewidth\": 2}, \"yaxis\": {\"automargin\": true, \"gridcolor\": \"white\", \"linecolor\": \"white\", \"ticks\": \"\", \"title\": {\"standoff\": 15}, \"zerolinecolor\": \"white\", \"zerolinewidth\": 2}}}, \"xaxis\": {\"anchor\": \"y\", \"domain\": [0.0, 1.0], \"title\": {\"text\": \"State\"}}, \"yaxis\": {\"anchor\": \"x\", \"domain\": [0.0, 1.0], \"title\": {\"text\": \"Active\"}}},\n",
       "                        {\"responsive\": true}\n",
       "                    ).then(function(){\n",
       "                            \n",
       "var gd = document.getElementById('20e63e15-3401-4a0c-a95b-3e71ae5d479e');\n",
       "var x = new MutationObserver(function (mutations, observer) {{\n",
       "        var display = window.getComputedStyle(gd).display;\n",
       "        if (!display || display === 'none') {{\n",
       "            console.log([gd, 'removed!']);\n",
       "            Plotly.purge(gd);\n",
       "            observer.disconnect();\n",
       "        }}\n",
       "}});\n",
       "\n",
       "// Listen for the removal of the full notebook cells\n",
       "var notebookContainer = gd.closest('#notebook-container');\n",
       "if (notebookContainer) {{\n",
       "    x.observe(notebookContainer, {childList: true});\n",
       "}}\n",
       "\n",
       "// Listen for the clearing of the current output cell\n",
       "var outputEl = gd.closest('.output');\n",
       "if (outputEl) {{\n",
       "    x.observe(outputEl, {childList: true});\n",
       "}}\n",
       "\n",
       "                        })\n",
       "                };\n",
       "                });\n",
       "            </script>\n",
       "        </div>"
      ]
     },
     "metadata": {},
     "output_type": "display_data"
    }
   ],
   "source": [
    "#Bar plot for Active Cases\n",
    "px.bar(Data,x='State',y='Active')"
   ]
  },
  {
   "cell_type": "code",
   "execution_count": 32,
   "metadata": {},
   "outputs": [
    {
     "data": {
      "application/vnd.plotly.v1+json": {
       "config": {
        "linkText": "Export to plot.ly",
        "plotlyServerURL": "https://plot.ly",
        "showLink": true
       },
       "data": [
        {
         "marker": {
          "color": "rgba(255, 153, 51, 0.6)",
          "line": {
           "color": "rgba(255, 153, 51, 1.0)",
           "width": 1
          }
         },
         "name": "Deaths",
         "orientation": "v",
         "text": "",
         "type": "bar",
         "x": [
          "Maharashtra",
          "Tamil Nadu",
          "Delhi",
          "Karnataka",
          "Andhra Pradesh",
          "Uttar Pradesh",
          "Gujarat",
          "West Bengal",
          "Telangana",
          "Rajasthan",
          "Bihar",
          "Haryana",
          "Assam",
          "Madhya Pradesh",
          "Odisha",
          "Jammu and Kashmir",
          "Kerala",
          "Punjab",
          "Jharkhand",
          "Chhattisgarh",
          "Uttarakhand",
          "Goa",
          "Tripura",
          "Puducherry",
          "Manipur",
          "Himachal Pradesh",
          "Ladakh",
          "Nagaland",
          "Arunachal Pradesh",
          "Chandigarh",
          "Dadra and Nagar Haveli and Daman and Diu",
          "Meghalaya",
          "Sikkim",
          "Mizoram",
          "Andaman and Nicobar Islands",
          "Lakshadweep"
         ],
         "y": [
          17092,
          4690,
          4082,
          2998,
          1842,
          1981,
          2601,
          1954,
          615,
          776,
          400,
          467,
          132,
          962,
          307,
          449,
          103,
          539,
          154,
          87,
          112,
          70,
          37,
          80,
          10,
          13,
          9,
          7,
          3,
          23,
          2,
          6,
          1,
          0,
          19,
          0
         ]
        }
       ],
       "layout": {
        "legend": {
         "bgcolor": "#F5F6F9",
         "font": {
          "color": "#4D5663"
         }
        },
        "paper_bgcolor": "#F5F6F9",
        "plot_bgcolor": "#F5F6F9",
        "template": {
         "data": {
          "bar": [
           {
            "error_x": {
             "color": "#2a3f5f"
            },
            "error_y": {
             "color": "#2a3f5f"
            },
            "marker": {
             "line": {
              "color": "#E5ECF6",
              "width": 0.5
             }
            },
            "type": "bar"
           }
          ],
          "barpolar": [
           {
            "marker": {
             "line": {
              "color": "#E5ECF6",
              "width": 0.5
             }
            },
            "type": "barpolar"
           }
          ],
          "carpet": [
           {
            "aaxis": {
             "endlinecolor": "#2a3f5f",
             "gridcolor": "white",
             "linecolor": "white",
             "minorgridcolor": "white",
             "startlinecolor": "#2a3f5f"
            },
            "baxis": {
             "endlinecolor": "#2a3f5f",
             "gridcolor": "white",
             "linecolor": "white",
             "minorgridcolor": "white",
             "startlinecolor": "#2a3f5f"
            },
            "type": "carpet"
           }
          ],
          "choropleth": [
           {
            "colorbar": {
             "outlinewidth": 0,
             "ticks": ""
            },
            "type": "choropleth"
           }
          ],
          "contour": [
           {
            "colorbar": {
             "outlinewidth": 0,
             "ticks": ""
            },
            "colorscale": [
             [
              0,
              "#0d0887"
             ],
             [
              0.1111111111111111,
              "#46039f"
             ],
             [
              0.2222222222222222,
              "#7201a8"
             ],
             [
              0.3333333333333333,
              "#9c179e"
             ],
             [
              0.4444444444444444,
              "#bd3786"
             ],
             [
              0.5555555555555556,
              "#d8576b"
             ],
             [
              0.6666666666666666,
              "#ed7953"
             ],
             [
              0.7777777777777778,
              "#fb9f3a"
             ],
             [
              0.8888888888888888,
              "#fdca26"
             ],
             [
              1,
              "#f0f921"
             ]
            ],
            "type": "contour"
           }
          ],
          "contourcarpet": [
           {
            "colorbar": {
             "outlinewidth": 0,
             "ticks": ""
            },
            "type": "contourcarpet"
           }
          ],
          "heatmap": [
           {
            "colorbar": {
             "outlinewidth": 0,
             "ticks": ""
            },
            "colorscale": [
             [
              0,
              "#0d0887"
             ],
             [
              0.1111111111111111,
              "#46039f"
             ],
             [
              0.2222222222222222,
              "#7201a8"
             ],
             [
              0.3333333333333333,
              "#9c179e"
             ],
             [
              0.4444444444444444,
              "#bd3786"
             ],
             [
              0.5555555555555556,
              "#d8576b"
             ],
             [
              0.6666666666666666,
              "#ed7953"
             ],
             [
              0.7777777777777778,
              "#fb9f3a"
             ],
             [
              0.8888888888888888,
              "#fdca26"
             ],
             [
              1,
              "#f0f921"
             ]
            ],
            "type": "heatmap"
           }
          ],
          "heatmapgl": [
           {
            "colorbar": {
             "outlinewidth": 0,
             "ticks": ""
            },
            "colorscale": [
             [
              0,
              "#0d0887"
             ],
             [
              0.1111111111111111,
              "#46039f"
             ],
             [
              0.2222222222222222,
              "#7201a8"
             ],
             [
              0.3333333333333333,
              "#9c179e"
             ],
             [
              0.4444444444444444,
              "#bd3786"
             ],
             [
              0.5555555555555556,
              "#d8576b"
             ],
             [
              0.6666666666666666,
              "#ed7953"
             ],
             [
              0.7777777777777778,
              "#fb9f3a"
             ],
             [
              0.8888888888888888,
              "#fdca26"
             ],
             [
              1,
              "#f0f921"
             ]
            ],
            "type": "heatmapgl"
           }
          ],
          "histogram": [
           {
            "marker": {
             "colorbar": {
              "outlinewidth": 0,
              "ticks": ""
             }
            },
            "type": "histogram"
           }
          ],
          "histogram2d": [
           {
            "colorbar": {
             "outlinewidth": 0,
             "ticks": ""
            },
            "colorscale": [
             [
              0,
              "#0d0887"
             ],
             [
              0.1111111111111111,
              "#46039f"
             ],
             [
              0.2222222222222222,
              "#7201a8"
             ],
             [
              0.3333333333333333,
              "#9c179e"
             ],
             [
              0.4444444444444444,
              "#bd3786"
             ],
             [
              0.5555555555555556,
              "#d8576b"
             ],
             [
              0.6666666666666666,
              "#ed7953"
             ],
             [
              0.7777777777777778,
              "#fb9f3a"
             ],
             [
              0.8888888888888888,
              "#fdca26"
             ],
             [
              1,
              "#f0f921"
             ]
            ],
            "type": "histogram2d"
           }
          ],
          "histogram2dcontour": [
           {
            "colorbar": {
             "outlinewidth": 0,
             "ticks": ""
            },
            "colorscale": [
             [
              0,
              "#0d0887"
             ],
             [
              0.1111111111111111,
              "#46039f"
             ],
             [
              0.2222222222222222,
              "#7201a8"
             ],
             [
              0.3333333333333333,
              "#9c179e"
             ],
             [
              0.4444444444444444,
              "#bd3786"
             ],
             [
              0.5555555555555556,
              "#d8576b"
             ],
             [
              0.6666666666666666,
              "#ed7953"
             ],
             [
              0.7777777777777778,
              "#fb9f3a"
             ],
             [
              0.8888888888888888,
              "#fdca26"
             ],
             [
              1,
              "#f0f921"
             ]
            ],
            "type": "histogram2dcontour"
           }
          ],
          "mesh3d": [
           {
            "colorbar": {
             "outlinewidth": 0,
             "ticks": ""
            },
            "type": "mesh3d"
           }
          ],
          "parcoords": [
           {
            "line": {
             "colorbar": {
              "outlinewidth": 0,
              "ticks": ""
             }
            },
            "type": "parcoords"
           }
          ],
          "pie": [
           {
            "automargin": true,
            "type": "pie"
           }
          ],
          "scatter": [
           {
            "marker": {
             "colorbar": {
              "outlinewidth": 0,
              "ticks": ""
             }
            },
            "type": "scatter"
           }
          ],
          "scatter3d": [
           {
            "line": {
             "colorbar": {
              "outlinewidth": 0,
              "ticks": ""
             }
            },
            "marker": {
             "colorbar": {
              "outlinewidth": 0,
              "ticks": ""
             }
            },
            "type": "scatter3d"
           }
          ],
          "scattercarpet": [
           {
            "marker": {
             "colorbar": {
              "outlinewidth": 0,
              "ticks": ""
             }
            },
            "type": "scattercarpet"
           }
          ],
          "scattergeo": [
           {
            "marker": {
             "colorbar": {
              "outlinewidth": 0,
              "ticks": ""
             }
            },
            "type": "scattergeo"
           }
          ],
          "scattergl": [
           {
            "marker": {
             "colorbar": {
              "outlinewidth": 0,
              "ticks": ""
             }
            },
            "type": "scattergl"
           }
          ],
          "scattermapbox": [
           {
            "marker": {
             "colorbar": {
              "outlinewidth": 0,
              "ticks": ""
             }
            },
            "type": "scattermapbox"
           }
          ],
          "scatterpolar": [
           {
            "marker": {
             "colorbar": {
              "outlinewidth": 0,
              "ticks": ""
             }
            },
            "type": "scatterpolar"
           }
          ],
          "scatterpolargl": [
           {
            "marker": {
             "colorbar": {
              "outlinewidth": 0,
              "ticks": ""
             }
            },
            "type": "scatterpolargl"
           }
          ],
          "scatterternary": [
           {
            "marker": {
             "colorbar": {
              "outlinewidth": 0,
              "ticks": ""
             }
            },
            "type": "scatterternary"
           }
          ],
          "surface": [
           {
            "colorbar": {
             "outlinewidth": 0,
             "ticks": ""
            },
            "colorscale": [
             [
              0,
              "#0d0887"
             ],
             [
              0.1111111111111111,
              "#46039f"
             ],
             [
              0.2222222222222222,
              "#7201a8"
             ],
             [
              0.3333333333333333,
              "#9c179e"
             ],
             [
              0.4444444444444444,
              "#bd3786"
             ],
             [
              0.5555555555555556,
              "#d8576b"
             ],
             [
              0.6666666666666666,
              "#ed7953"
             ],
             [
              0.7777777777777778,
              "#fb9f3a"
             ],
             [
              0.8888888888888888,
              "#fdca26"
             ],
             [
              1,
              "#f0f921"
             ]
            ],
            "type": "surface"
           }
          ],
          "table": [
           {
            "cells": {
             "fill": {
              "color": "#EBF0F8"
             },
             "line": {
              "color": "white"
             }
            },
            "header": {
             "fill": {
              "color": "#C8D4E3"
             },
             "line": {
              "color": "white"
             }
            },
            "type": "table"
           }
          ]
         },
         "layout": {
          "annotationdefaults": {
           "arrowcolor": "#2a3f5f",
           "arrowhead": 0,
           "arrowwidth": 1
          },
          "coloraxis": {
           "colorbar": {
            "outlinewidth": 0,
            "ticks": ""
           }
          },
          "colorscale": {
           "diverging": [
            [
             0,
             "#8e0152"
            ],
            [
             0.1,
             "#c51b7d"
            ],
            [
             0.2,
             "#de77ae"
            ],
            [
             0.3,
             "#f1b6da"
            ],
            [
             0.4,
             "#fde0ef"
            ],
            [
             0.5,
             "#f7f7f7"
            ],
            [
             0.6,
             "#e6f5d0"
            ],
            [
             0.7,
             "#b8e186"
            ],
            [
             0.8,
             "#7fbc41"
            ],
            [
             0.9,
             "#4d9221"
            ],
            [
             1,
             "#276419"
            ]
           ],
           "sequential": [
            [
             0,
             "#0d0887"
            ],
            [
             0.1111111111111111,
             "#46039f"
            ],
            [
             0.2222222222222222,
             "#7201a8"
            ],
            [
             0.3333333333333333,
             "#9c179e"
            ],
            [
             0.4444444444444444,
             "#bd3786"
            ],
            [
             0.5555555555555556,
             "#d8576b"
            ],
            [
             0.6666666666666666,
             "#ed7953"
            ],
            [
             0.7777777777777778,
             "#fb9f3a"
            ],
            [
             0.8888888888888888,
             "#fdca26"
            ],
            [
             1,
             "#f0f921"
            ]
           ],
           "sequentialminus": [
            [
             0,
             "#0d0887"
            ],
            [
             0.1111111111111111,
             "#46039f"
            ],
            [
             0.2222222222222222,
             "#7201a8"
            ],
            [
             0.3333333333333333,
             "#9c179e"
            ],
            [
             0.4444444444444444,
             "#bd3786"
            ],
            [
             0.5555555555555556,
             "#d8576b"
            ],
            [
             0.6666666666666666,
             "#ed7953"
            ],
            [
             0.7777777777777778,
             "#fb9f3a"
            ],
            [
             0.8888888888888888,
             "#fdca26"
            ],
            [
             1,
             "#f0f921"
            ]
           ]
          },
          "colorway": [
           "#636efa",
           "#EF553B",
           "#00cc96",
           "#ab63fa",
           "#FFA15A",
           "#19d3f3",
           "#FF6692",
           "#B6E880",
           "#FF97FF",
           "#FECB52"
          ],
          "font": {
           "color": "#2a3f5f"
          },
          "geo": {
           "bgcolor": "white",
           "lakecolor": "white",
           "landcolor": "#E5ECF6",
           "showlakes": true,
           "showland": true,
           "subunitcolor": "white"
          },
          "hoverlabel": {
           "align": "left"
          },
          "hovermode": "closest",
          "mapbox": {
           "style": "light"
          },
          "paper_bgcolor": "white",
          "plot_bgcolor": "#E5ECF6",
          "polar": {
           "angularaxis": {
            "gridcolor": "white",
            "linecolor": "white",
            "ticks": ""
           },
           "bgcolor": "#E5ECF6",
           "radialaxis": {
            "gridcolor": "white",
            "linecolor": "white",
            "ticks": ""
           }
          },
          "scene": {
           "xaxis": {
            "backgroundcolor": "#E5ECF6",
            "gridcolor": "white",
            "gridwidth": 2,
            "linecolor": "white",
            "showbackground": true,
            "ticks": "",
            "zerolinecolor": "white"
           },
           "yaxis": {
            "backgroundcolor": "#E5ECF6",
            "gridcolor": "white",
            "gridwidth": 2,
            "linecolor": "white",
            "showbackground": true,
            "ticks": "",
            "zerolinecolor": "white"
           },
           "zaxis": {
            "backgroundcolor": "#E5ECF6",
            "gridcolor": "white",
            "gridwidth": 2,
            "linecolor": "white",
            "showbackground": true,
            "ticks": "",
            "zerolinecolor": "white"
           }
          },
          "shapedefaults": {
           "line": {
            "color": "#2a3f5f"
           }
          },
          "ternary": {
           "aaxis": {
            "gridcolor": "white",
            "linecolor": "white",
            "ticks": ""
           },
           "baxis": {
            "gridcolor": "white",
            "linecolor": "white",
            "ticks": ""
           },
           "bgcolor": "#E5ECF6",
           "caxis": {
            "gridcolor": "white",
            "linecolor": "white",
            "ticks": ""
           }
          },
          "title": {
           "x": 0.05
          },
          "xaxis": {
           "automargin": true,
           "gridcolor": "white",
           "linecolor": "white",
           "ticks": "",
           "title": {
            "standoff": 15
           },
           "zerolinecolor": "white",
           "zerolinewidth": 2
          },
          "yaxis": {
           "automargin": true,
           "gridcolor": "white",
           "linecolor": "white",
           "ticks": "",
           "title": {
            "standoff": 15
           },
           "zerolinecolor": "white",
           "zerolinewidth": 2
          }
         }
        },
        "title": {
         "font": {
          "color": "#4D5663"
         }
        },
        "xaxis": {
         "gridcolor": "#E1E5ED",
         "showgrid": true,
         "tickfont": {
          "color": "#4D5663"
         },
         "title": {
          "font": {
           "color": "#4D5663"
          },
          "text": ""
         },
         "zerolinecolor": "#E1E5ED"
        },
        "yaxis": {
         "gridcolor": "#E1E5ED",
         "showgrid": true,
         "tickfont": {
          "color": "#4D5663"
         },
         "title": {
          "font": {
           "color": "#4D5663"
          },
          "text": ""
         },
         "zerolinecolor": "#E1E5ED"
        }
       }
      },
      "text/html": [
       "<div>\n",
       "        \n",
       "        \n",
       "            <div id=\"4caf974f-73cb-4e78-a633-8f1bdec7e0c0\" class=\"plotly-graph-div\" style=\"height:525px; width:100%;\"></div>\n",
       "            <script type=\"text/javascript\">\n",
       "                require([\"plotly\"], function(Plotly) {\n",
       "                    window.PLOTLYENV=window.PLOTLYENV || {};\n",
       "                    window.PLOTLYENV.BASE_URL='https://plot.ly';\n",
       "                    \n",
       "                if (document.getElementById(\"4caf974f-73cb-4e78-a633-8f1bdec7e0c0\")) {\n",
       "                    Plotly.newPlot(\n",
       "                        '4caf974f-73cb-4e78-a633-8f1bdec7e0c0',\n",
       "                        [{\"marker\": {\"color\": \"rgba(255, 153, 51, 0.6)\", \"line\": {\"color\": \"rgba(255, 153, 51, 1.0)\", \"width\": 1}}, \"name\": \"Deaths\", \"orientation\": \"v\", \"text\": \"\", \"type\": \"bar\", \"x\": [\"Maharashtra\", \"Tamil Nadu\", \"Delhi\", \"Karnataka\", \"Andhra Pradesh\", \"Uttar Pradesh\", \"Gujarat\", \"West Bengal\", \"Telangana\", \"Rajasthan\", \"Bihar\", \"Haryana\", \"Assam\", \"Madhya Pradesh\", \"Odisha\", \"Jammu and Kashmir\", \"Kerala\", \"Punjab\", \"Jharkhand\", \"Chhattisgarh\", \"Uttarakhand\", \"Goa\", \"Tripura\", \"Puducherry\", \"Manipur\", \"Himachal Pradesh\", \"Ladakh\", \"Nagaland\", \"Arunachal Pradesh\", \"Chandigarh\", \"Dadra and Nagar Haveli and Daman and Diu\", \"Meghalaya\", \"Sikkim\", \"Mizoram\", \"Andaman and Nicobar Islands\", \"Lakshadweep\"], \"y\": [17092, 4690, 4082, 2998, 1842, 1981, 2601, 1954, 615, 776, 400, 467, 132, 962, 307, 449, 103, 539, 154, 87, 112, 70, 37, 80, 10, 13, 9, 7, 3, 23, 2, 6, 1, 0, 19, 0]}],\n",
       "                        {\"legend\": {\"bgcolor\": \"#F5F6F9\", \"font\": {\"color\": \"#4D5663\"}}, \"paper_bgcolor\": \"#F5F6F9\", \"plot_bgcolor\": \"#F5F6F9\", \"template\": {\"data\": {\"bar\": [{\"error_x\": {\"color\": \"#2a3f5f\"}, \"error_y\": {\"color\": \"#2a3f5f\"}, \"marker\": {\"line\": {\"color\": \"#E5ECF6\", \"width\": 0.5}}, \"type\": \"bar\"}], \"barpolar\": [{\"marker\": {\"line\": {\"color\": \"#E5ECF6\", \"width\": 0.5}}, \"type\": \"barpolar\"}], \"carpet\": [{\"aaxis\": {\"endlinecolor\": \"#2a3f5f\", \"gridcolor\": \"white\", \"linecolor\": \"white\", \"minorgridcolor\": \"white\", \"startlinecolor\": \"#2a3f5f\"}, \"baxis\": {\"endlinecolor\": \"#2a3f5f\", \"gridcolor\": \"white\", \"linecolor\": \"white\", \"minorgridcolor\": \"white\", \"startlinecolor\": \"#2a3f5f\"}, \"type\": \"carpet\"}], \"choropleth\": [{\"colorbar\": {\"outlinewidth\": 0, \"ticks\": \"\"}, \"type\": \"choropleth\"}], \"contour\": [{\"colorbar\": {\"outlinewidth\": 0, \"ticks\": \"\"}, \"colorscale\": [[0.0, \"#0d0887\"], [0.1111111111111111, \"#46039f\"], [0.2222222222222222, \"#7201a8\"], [0.3333333333333333, \"#9c179e\"], [0.4444444444444444, \"#bd3786\"], [0.5555555555555556, \"#d8576b\"], [0.6666666666666666, \"#ed7953\"], [0.7777777777777778, \"#fb9f3a\"], [0.8888888888888888, \"#fdca26\"], [1.0, \"#f0f921\"]], \"type\": \"contour\"}], \"contourcarpet\": [{\"colorbar\": {\"outlinewidth\": 0, \"ticks\": \"\"}, \"type\": \"contourcarpet\"}], \"heatmap\": [{\"colorbar\": {\"outlinewidth\": 0, \"ticks\": \"\"}, \"colorscale\": [[0.0, \"#0d0887\"], [0.1111111111111111, \"#46039f\"], [0.2222222222222222, \"#7201a8\"], [0.3333333333333333, \"#9c179e\"], [0.4444444444444444, \"#bd3786\"], [0.5555555555555556, \"#d8576b\"], [0.6666666666666666, \"#ed7953\"], [0.7777777777777778, \"#fb9f3a\"], [0.8888888888888888, \"#fdca26\"], [1.0, \"#f0f921\"]], \"type\": \"heatmap\"}], \"heatmapgl\": [{\"colorbar\": {\"outlinewidth\": 0, \"ticks\": \"\"}, \"colorscale\": [[0.0, \"#0d0887\"], [0.1111111111111111, \"#46039f\"], [0.2222222222222222, \"#7201a8\"], [0.3333333333333333, \"#9c179e\"], [0.4444444444444444, \"#bd3786\"], [0.5555555555555556, \"#d8576b\"], [0.6666666666666666, \"#ed7953\"], [0.7777777777777778, \"#fb9f3a\"], [0.8888888888888888, \"#fdca26\"], [1.0, \"#f0f921\"]], \"type\": \"heatmapgl\"}], \"histogram\": [{\"marker\": {\"colorbar\": {\"outlinewidth\": 0, \"ticks\": \"\"}}, \"type\": \"histogram\"}], \"histogram2d\": [{\"colorbar\": {\"outlinewidth\": 0, \"ticks\": \"\"}, \"colorscale\": [[0.0, \"#0d0887\"], [0.1111111111111111, \"#46039f\"], [0.2222222222222222, \"#7201a8\"], [0.3333333333333333, \"#9c179e\"], [0.4444444444444444, \"#bd3786\"], [0.5555555555555556, \"#d8576b\"], [0.6666666666666666, \"#ed7953\"], [0.7777777777777778, \"#fb9f3a\"], [0.8888888888888888, \"#fdca26\"], [1.0, \"#f0f921\"]], \"type\": \"histogram2d\"}], \"histogram2dcontour\": [{\"colorbar\": {\"outlinewidth\": 0, \"ticks\": \"\"}, \"colorscale\": [[0.0, \"#0d0887\"], [0.1111111111111111, \"#46039f\"], [0.2222222222222222, \"#7201a8\"], [0.3333333333333333, \"#9c179e\"], [0.4444444444444444, \"#bd3786\"], [0.5555555555555556, \"#d8576b\"], [0.6666666666666666, \"#ed7953\"], [0.7777777777777778, \"#fb9f3a\"], [0.8888888888888888, \"#fdca26\"], [1.0, \"#f0f921\"]], \"type\": \"histogram2dcontour\"}], \"mesh3d\": [{\"colorbar\": {\"outlinewidth\": 0, \"ticks\": \"\"}, \"type\": \"mesh3d\"}], \"parcoords\": [{\"line\": {\"colorbar\": {\"outlinewidth\": 0, \"ticks\": \"\"}}, \"type\": \"parcoords\"}], \"pie\": [{\"automargin\": true, \"type\": \"pie\"}], \"scatter\": [{\"marker\": {\"colorbar\": {\"outlinewidth\": 0, \"ticks\": \"\"}}, \"type\": \"scatter\"}], \"scatter3d\": [{\"line\": {\"colorbar\": {\"outlinewidth\": 0, \"ticks\": \"\"}}, \"marker\": {\"colorbar\": {\"outlinewidth\": 0, \"ticks\": \"\"}}, \"type\": \"scatter3d\"}], \"scattercarpet\": [{\"marker\": {\"colorbar\": {\"outlinewidth\": 0, \"ticks\": \"\"}}, \"type\": \"scattercarpet\"}], \"scattergeo\": [{\"marker\": {\"colorbar\": {\"outlinewidth\": 0, \"ticks\": \"\"}}, \"type\": \"scattergeo\"}], \"scattergl\": [{\"marker\": {\"colorbar\": {\"outlinewidth\": 0, \"ticks\": \"\"}}, \"type\": \"scattergl\"}], \"scattermapbox\": [{\"marker\": {\"colorbar\": {\"outlinewidth\": 0, \"ticks\": \"\"}}, \"type\": \"scattermapbox\"}], \"scatterpolar\": [{\"marker\": {\"colorbar\": {\"outlinewidth\": 0, \"ticks\": \"\"}}, \"type\": \"scatterpolar\"}], \"scatterpolargl\": [{\"marker\": {\"colorbar\": {\"outlinewidth\": 0, \"ticks\": \"\"}}, \"type\": \"scatterpolargl\"}], \"scatterternary\": [{\"marker\": {\"colorbar\": {\"outlinewidth\": 0, \"ticks\": \"\"}}, \"type\": \"scatterternary\"}], \"surface\": [{\"colorbar\": {\"outlinewidth\": 0, \"ticks\": \"\"}, \"colorscale\": [[0.0, \"#0d0887\"], [0.1111111111111111, \"#46039f\"], [0.2222222222222222, \"#7201a8\"], [0.3333333333333333, \"#9c179e\"], [0.4444444444444444, \"#bd3786\"], [0.5555555555555556, \"#d8576b\"], [0.6666666666666666, \"#ed7953\"], [0.7777777777777778, \"#fb9f3a\"], [0.8888888888888888, \"#fdca26\"], [1.0, \"#f0f921\"]], \"type\": \"surface\"}], \"table\": [{\"cells\": {\"fill\": {\"color\": \"#EBF0F8\"}, \"line\": {\"color\": \"white\"}}, \"header\": {\"fill\": {\"color\": \"#C8D4E3\"}, \"line\": {\"color\": \"white\"}}, \"type\": \"table\"}]}, \"layout\": {\"annotationdefaults\": {\"arrowcolor\": \"#2a3f5f\", \"arrowhead\": 0, \"arrowwidth\": 1}, \"coloraxis\": {\"colorbar\": {\"outlinewidth\": 0, \"ticks\": \"\"}}, \"colorscale\": {\"diverging\": [[0, \"#8e0152\"], [0.1, \"#c51b7d\"], [0.2, \"#de77ae\"], [0.3, \"#f1b6da\"], [0.4, \"#fde0ef\"], [0.5, \"#f7f7f7\"], [0.6, \"#e6f5d0\"], [0.7, \"#b8e186\"], [0.8, \"#7fbc41\"], [0.9, \"#4d9221\"], [1, \"#276419\"]], \"sequential\": [[0.0, \"#0d0887\"], [0.1111111111111111, \"#46039f\"], [0.2222222222222222, \"#7201a8\"], [0.3333333333333333, \"#9c179e\"], [0.4444444444444444, \"#bd3786\"], [0.5555555555555556, \"#d8576b\"], [0.6666666666666666, \"#ed7953\"], [0.7777777777777778, \"#fb9f3a\"], [0.8888888888888888, \"#fdca26\"], [1.0, \"#f0f921\"]], \"sequentialminus\": [[0.0, \"#0d0887\"], [0.1111111111111111, \"#46039f\"], [0.2222222222222222, \"#7201a8\"], [0.3333333333333333, \"#9c179e\"], [0.4444444444444444, \"#bd3786\"], [0.5555555555555556, \"#d8576b\"], [0.6666666666666666, \"#ed7953\"], [0.7777777777777778, \"#fb9f3a\"], [0.8888888888888888, \"#fdca26\"], [1.0, \"#f0f921\"]]}, \"colorway\": [\"#636efa\", \"#EF553B\", \"#00cc96\", \"#ab63fa\", \"#FFA15A\", \"#19d3f3\", \"#FF6692\", \"#B6E880\", \"#FF97FF\", \"#FECB52\"], \"font\": {\"color\": \"#2a3f5f\"}, \"geo\": {\"bgcolor\": \"white\", \"lakecolor\": \"white\", \"landcolor\": \"#E5ECF6\", \"showlakes\": true, \"showland\": true, \"subunitcolor\": \"white\"}, \"hoverlabel\": {\"align\": \"left\"}, \"hovermode\": \"closest\", \"mapbox\": {\"style\": \"light\"}, \"paper_bgcolor\": \"white\", \"plot_bgcolor\": \"#E5ECF6\", \"polar\": {\"angularaxis\": {\"gridcolor\": \"white\", \"linecolor\": \"white\", \"ticks\": \"\"}, \"bgcolor\": \"#E5ECF6\", \"radialaxis\": {\"gridcolor\": \"white\", \"linecolor\": \"white\", \"ticks\": \"\"}}, \"scene\": {\"xaxis\": {\"backgroundcolor\": \"#E5ECF6\", \"gridcolor\": \"white\", \"gridwidth\": 2, \"linecolor\": \"white\", \"showbackground\": true, \"ticks\": \"\", \"zerolinecolor\": \"white\"}, \"yaxis\": {\"backgroundcolor\": \"#E5ECF6\", \"gridcolor\": \"white\", \"gridwidth\": 2, \"linecolor\": \"white\", \"showbackground\": true, \"ticks\": \"\", \"zerolinecolor\": \"white\"}, \"zaxis\": {\"backgroundcolor\": \"#E5ECF6\", \"gridcolor\": \"white\", \"gridwidth\": 2, \"linecolor\": \"white\", \"showbackground\": true, \"ticks\": \"\", \"zerolinecolor\": \"white\"}}, \"shapedefaults\": {\"line\": {\"color\": \"#2a3f5f\"}}, \"ternary\": {\"aaxis\": {\"gridcolor\": \"white\", \"linecolor\": \"white\", \"ticks\": \"\"}, \"baxis\": {\"gridcolor\": \"white\", \"linecolor\": \"white\", \"ticks\": \"\"}, \"bgcolor\": \"#E5ECF6\", \"caxis\": {\"gridcolor\": \"white\", \"linecolor\": \"white\", \"ticks\": \"\"}}, \"title\": {\"x\": 0.05}, \"xaxis\": {\"automargin\": true, \"gridcolor\": \"white\", \"linecolor\": \"white\", \"ticks\": \"\", \"title\": {\"standoff\": 15}, \"zerolinecolor\": \"white\", \"zerolinewidth\": 2}, \"yaxis\": {\"automargin\": true, \"gridcolor\": \"white\", \"linecolor\": \"white\", \"ticks\": \"\", \"title\": {\"standoff\": 15}, \"zerolinecolor\": \"white\", \"zerolinewidth\": 2}}}, \"title\": {\"font\": {\"color\": \"#4D5663\"}}, \"xaxis\": {\"gridcolor\": \"#E1E5ED\", \"showgrid\": true, \"tickfont\": {\"color\": \"#4D5663\"}, \"title\": {\"font\": {\"color\": \"#4D5663\"}, \"text\": \"\"}, \"zerolinecolor\": \"#E1E5ED\"}, \"yaxis\": {\"gridcolor\": \"#E1E5ED\", \"showgrid\": true, \"tickfont\": {\"color\": \"#4D5663\"}, \"title\": {\"font\": {\"color\": \"#4D5663\"}, \"text\": \"\"}, \"zerolinecolor\": \"#E1E5ED\"}},\n",
       "                        {\"showLink\": true, \"linkText\": \"Export to plot.ly\", \"plotlyServerURL\": \"https://plot.ly\", \"responsive\": true}\n",
       "                    ).then(function(){\n",
       "                            \n",
       "var gd = document.getElementById('4caf974f-73cb-4e78-a633-8f1bdec7e0c0');\n",
       "var x = new MutationObserver(function (mutations, observer) {{\n",
       "        var display = window.getComputedStyle(gd).display;\n",
       "        if (!display || display === 'none') {{\n",
       "            console.log([gd, 'removed!']);\n",
       "            Plotly.purge(gd);\n",
       "            observer.disconnect();\n",
       "        }}\n",
       "}});\n",
       "\n",
       "// Listen for the removal of the full notebook cells\n",
       "var notebookContainer = gd.closest('#notebook-container');\n",
       "if (notebookContainer) {{\n",
       "    x.observe(notebookContainer, {childList: true});\n",
       "}}\n",
       "\n",
       "// Listen for the clearing of the current output cell\n",
       "var outputEl = gd.closest('.output');\n",
       "if (outputEl) {{\n",
       "    x.observe(outputEl, {childList: true});\n",
       "}}\n",
       "\n",
       "                        })\n",
       "                };\n",
       "                });\n",
       "            </script>\n",
       "        </div>"
      ]
     },
     "metadata": {},
     "output_type": "display_data"
    }
   ],
   "source": [
    "#Bar plot for Deaths\n",
    "Data.iplot(kind='bar',x='State',y='Deaths')"
   ]
  },
  {
   "cell_type": "code",
   "execution_count": 33,
   "metadata": {},
   "outputs": [
    {
     "data": {
      "application/vnd.plotly.v1+json": {
       "config": {
        "plotlyServerURL": "https://plot.ly"
       },
       "data": [
        {
         "alignmentgroup": "True",
         "hovertemplate": "State=%{x}<br>Recovered=%{y}<extra></extra>",
         "legendgroup": "",
         "marker": {
          "color": "#636efa"
         },
         "name": "",
         "offsetgroup": "",
         "orientation": "v",
         "showlegend": false,
         "textposition": "auto",
         "type": "bar",
         "x": [
          "Maharashtra",
          "Tamil Nadu",
          "Delhi",
          "Karnataka",
          "Andhra Pradesh",
          "Uttar Pradesh",
          "Gujarat",
          "West Bengal",
          "Telangana",
          "Rajasthan",
          "Bihar",
          "Haryana",
          "Assam",
          "Madhya Pradesh",
          "Odisha",
          "Jammu and Kashmir",
          "Kerala",
          "Punjab",
          "Jharkhand",
          "Chhattisgarh",
          "Uttarakhand",
          "Goa",
          "Tripura",
          "Puducherry",
          "Manipur",
          "Himachal Pradesh",
          "Ladakh",
          "Nagaland",
          "Arunachal Pradesh",
          "Chandigarh",
          "Dadra and Nagar Haveli and Daman and Diu",
          "Meghalaya",
          "Sikkim",
          "Mizoram",
          "Andaman and Nicobar Islands",
          "Lakshadweep"
         ],
         "xaxis": "x",
         "y": [
          327281,
          227575,
          128232,
          84232,
          120464,
          66834,
          51894,
          63060,
          54330,
          36310,
          46265,
          33444,
          38810,
          27621,
          28698,
          16218,
          19147,
          14040,
          7503,
          8319,
          5731,
          5595,
          4084,
          3054,
          1926,
          2008,
          1194,
          824,
          1326,
          820,
          1038,
          423,
          406,
          289,
          425,
          0
         ],
         "yaxis": "y"
        }
       ],
       "layout": {
        "barmode": "relative",
        "legend": {
         "tracegroupgap": 0
        },
        "margin": {
         "t": 60
        },
        "template": {
         "data": {
          "bar": [
           {
            "error_x": {
             "color": "#2a3f5f"
            },
            "error_y": {
             "color": "#2a3f5f"
            },
            "marker": {
             "line": {
              "color": "#E5ECF6",
              "width": 0.5
             }
            },
            "type": "bar"
           }
          ],
          "barpolar": [
           {
            "marker": {
             "line": {
              "color": "#E5ECF6",
              "width": 0.5
             }
            },
            "type": "barpolar"
           }
          ],
          "carpet": [
           {
            "aaxis": {
             "endlinecolor": "#2a3f5f",
             "gridcolor": "white",
             "linecolor": "white",
             "minorgridcolor": "white",
             "startlinecolor": "#2a3f5f"
            },
            "baxis": {
             "endlinecolor": "#2a3f5f",
             "gridcolor": "white",
             "linecolor": "white",
             "minorgridcolor": "white",
             "startlinecolor": "#2a3f5f"
            },
            "type": "carpet"
           }
          ],
          "choropleth": [
           {
            "colorbar": {
             "outlinewidth": 0,
             "ticks": ""
            },
            "type": "choropleth"
           }
          ],
          "contour": [
           {
            "colorbar": {
             "outlinewidth": 0,
             "ticks": ""
            },
            "colorscale": [
             [
              0,
              "#0d0887"
             ],
             [
              0.1111111111111111,
              "#46039f"
             ],
             [
              0.2222222222222222,
              "#7201a8"
             ],
             [
              0.3333333333333333,
              "#9c179e"
             ],
             [
              0.4444444444444444,
              "#bd3786"
             ],
             [
              0.5555555555555556,
              "#d8576b"
             ],
             [
              0.6666666666666666,
              "#ed7953"
             ],
             [
              0.7777777777777778,
              "#fb9f3a"
             ],
             [
              0.8888888888888888,
              "#fdca26"
             ],
             [
              1,
              "#f0f921"
             ]
            ],
            "type": "contour"
           }
          ],
          "contourcarpet": [
           {
            "colorbar": {
             "outlinewidth": 0,
             "ticks": ""
            },
            "type": "contourcarpet"
           }
          ],
          "heatmap": [
           {
            "colorbar": {
             "outlinewidth": 0,
             "ticks": ""
            },
            "colorscale": [
             [
              0,
              "#0d0887"
             ],
             [
              0.1111111111111111,
              "#46039f"
             ],
             [
              0.2222222222222222,
              "#7201a8"
             ],
             [
              0.3333333333333333,
              "#9c179e"
             ],
             [
              0.4444444444444444,
              "#bd3786"
             ],
             [
              0.5555555555555556,
              "#d8576b"
             ],
             [
              0.6666666666666666,
              "#ed7953"
             ],
             [
              0.7777777777777778,
              "#fb9f3a"
             ],
             [
              0.8888888888888888,
              "#fdca26"
             ],
             [
              1,
              "#f0f921"
             ]
            ],
            "type": "heatmap"
           }
          ],
          "heatmapgl": [
           {
            "colorbar": {
             "outlinewidth": 0,
             "ticks": ""
            },
            "colorscale": [
             [
              0,
              "#0d0887"
             ],
             [
              0.1111111111111111,
              "#46039f"
             ],
             [
              0.2222222222222222,
              "#7201a8"
             ],
             [
              0.3333333333333333,
              "#9c179e"
             ],
             [
              0.4444444444444444,
              "#bd3786"
             ],
             [
              0.5555555555555556,
              "#d8576b"
             ],
             [
              0.6666666666666666,
              "#ed7953"
             ],
             [
              0.7777777777777778,
              "#fb9f3a"
             ],
             [
              0.8888888888888888,
              "#fdca26"
             ],
             [
              1,
              "#f0f921"
             ]
            ],
            "type": "heatmapgl"
           }
          ],
          "histogram": [
           {
            "marker": {
             "colorbar": {
              "outlinewidth": 0,
              "ticks": ""
             }
            },
            "type": "histogram"
           }
          ],
          "histogram2d": [
           {
            "colorbar": {
             "outlinewidth": 0,
             "ticks": ""
            },
            "colorscale": [
             [
              0,
              "#0d0887"
             ],
             [
              0.1111111111111111,
              "#46039f"
             ],
             [
              0.2222222222222222,
              "#7201a8"
             ],
             [
              0.3333333333333333,
              "#9c179e"
             ],
             [
              0.4444444444444444,
              "#bd3786"
             ],
             [
              0.5555555555555556,
              "#d8576b"
             ],
             [
              0.6666666666666666,
              "#ed7953"
             ],
             [
              0.7777777777777778,
              "#fb9f3a"
             ],
             [
              0.8888888888888888,
              "#fdca26"
             ],
             [
              1,
              "#f0f921"
             ]
            ],
            "type": "histogram2d"
           }
          ],
          "histogram2dcontour": [
           {
            "colorbar": {
             "outlinewidth": 0,
             "ticks": ""
            },
            "colorscale": [
             [
              0,
              "#0d0887"
             ],
             [
              0.1111111111111111,
              "#46039f"
             ],
             [
              0.2222222222222222,
              "#7201a8"
             ],
             [
              0.3333333333333333,
              "#9c179e"
             ],
             [
              0.4444444444444444,
              "#bd3786"
             ],
             [
              0.5555555555555556,
              "#d8576b"
             ],
             [
              0.6666666666666666,
              "#ed7953"
             ],
             [
              0.7777777777777778,
              "#fb9f3a"
             ],
             [
              0.8888888888888888,
              "#fdca26"
             ],
             [
              1,
              "#f0f921"
             ]
            ],
            "type": "histogram2dcontour"
           }
          ],
          "mesh3d": [
           {
            "colorbar": {
             "outlinewidth": 0,
             "ticks": ""
            },
            "type": "mesh3d"
           }
          ],
          "parcoords": [
           {
            "line": {
             "colorbar": {
              "outlinewidth": 0,
              "ticks": ""
             }
            },
            "type": "parcoords"
           }
          ],
          "pie": [
           {
            "automargin": true,
            "type": "pie"
           }
          ],
          "scatter": [
           {
            "marker": {
             "colorbar": {
              "outlinewidth": 0,
              "ticks": ""
             }
            },
            "type": "scatter"
           }
          ],
          "scatter3d": [
           {
            "line": {
             "colorbar": {
              "outlinewidth": 0,
              "ticks": ""
             }
            },
            "marker": {
             "colorbar": {
              "outlinewidth": 0,
              "ticks": ""
             }
            },
            "type": "scatter3d"
           }
          ],
          "scattercarpet": [
           {
            "marker": {
             "colorbar": {
              "outlinewidth": 0,
              "ticks": ""
             }
            },
            "type": "scattercarpet"
           }
          ],
          "scattergeo": [
           {
            "marker": {
             "colorbar": {
              "outlinewidth": 0,
              "ticks": ""
             }
            },
            "type": "scattergeo"
           }
          ],
          "scattergl": [
           {
            "marker": {
             "colorbar": {
              "outlinewidth": 0,
              "ticks": ""
             }
            },
            "type": "scattergl"
           }
          ],
          "scattermapbox": [
           {
            "marker": {
             "colorbar": {
              "outlinewidth": 0,
              "ticks": ""
             }
            },
            "type": "scattermapbox"
           }
          ],
          "scatterpolar": [
           {
            "marker": {
             "colorbar": {
              "outlinewidth": 0,
              "ticks": ""
             }
            },
            "type": "scatterpolar"
           }
          ],
          "scatterpolargl": [
           {
            "marker": {
             "colorbar": {
              "outlinewidth": 0,
              "ticks": ""
             }
            },
            "type": "scatterpolargl"
           }
          ],
          "scatterternary": [
           {
            "marker": {
             "colorbar": {
              "outlinewidth": 0,
              "ticks": ""
             }
            },
            "type": "scatterternary"
           }
          ],
          "surface": [
           {
            "colorbar": {
             "outlinewidth": 0,
             "ticks": ""
            },
            "colorscale": [
             [
              0,
              "#0d0887"
             ],
             [
              0.1111111111111111,
              "#46039f"
             ],
             [
              0.2222222222222222,
              "#7201a8"
             ],
             [
              0.3333333333333333,
              "#9c179e"
             ],
             [
              0.4444444444444444,
              "#bd3786"
             ],
             [
              0.5555555555555556,
              "#d8576b"
             ],
             [
              0.6666666666666666,
              "#ed7953"
             ],
             [
              0.7777777777777778,
              "#fb9f3a"
             ],
             [
              0.8888888888888888,
              "#fdca26"
             ],
             [
              1,
              "#f0f921"
             ]
            ],
            "type": "surface"
           }
          ],
          "table": [
           {
            "cells": {
             "fill": {
              "color": "#EBF0F8"
             },
             "line": {
              "color": "white"
             }
            },
            "header": {
             "fill": {
              "color": "#C8D4E3"
             },
             "line": {
              "color": "white"
             }
            },
            "type": "table"
           }
          ]
         },
         "layout": {
          "annotationdefaults": {
           "arrowcolor": "#2a3f5f",
           "arrowhead": 0,
           "arrowwidth": 1
          },
          "coloraxis": {
           "colorbar": {
            "outlinewidth": 0,
            "ticks": ""
           }
          },
          "colorscale": {
           "diverging": [
            [
             0,
             "#8e0152"
            ],
            [
             0.1,
             "#c51b7d"
            ],
            [
             0.2,
             "#de77ae"
            ],
            [
             0.3,
             "#f1b6da"
            ],
            [
             0.4,
             "#fde0ef"
            ],
            [
             0.5,
             "#f7f7f7"
            ],
            [
             0.6,
             "#e6f5d0"
            ],
            [
             0.7,
             "#b8e186"
            ],
            [
             0.8,
             "#7fbc41"
            ],
            [
             0.9,
             "#4d9221"
            ],
            [
             1,
             "#276419"
            ]
           ],
           "sequential": [
            [
             0,
             "#0d0887"
            ],
            [
             0.1111111111111111,
             "#46039f"
            ],
            [
             0.2222222222222222,
             "#7201a8"
            ],
            [
             0.3333333333333333,
             "#9c179e"
            ],
            [
             0.4444444444444444,
             "#bd3786"
            ],
            [
             0.5555555555555556,
             "#d8576b"
            ],
            [
             0.6666666666666666,
             "#ed7953"
            ],
            [
             0.7777777777777778,
             "#fb9f3a"
            ],
            [
             0.8888888888888888,
             "#fdca26"
            ],
            [
             1,
             "#f0f921"
            ]
           ],
           "sequentialminus": [
            [
             0,
             "#0d0887"
            ],
            [
             0.1111111111111111,
             "#46039f"
            ],
            [
             0.2222222222222222,
             "#7201a8"
            ],
            [
             0.3333333333333333,
             "#9c179e"
            ],
            [
             0.4444444444444444,
             "#bd3786"
            ],
            [
             0.5555555555555556,
             "#d8576b"
            ],
            [
             0.6666666666666666,
             "#ed7953"
            ],
            [
             0.7777777777777778,
             "#fb9f3a"
            ],
            [
             0.8888888888888888,
             "#fdca26"
            ],
            [
             1,
             "#f0f921"
            ]
           ]
          },
          "colorway": [
           "#636efa",
           "#EF553B",
           "#00cc96",
           "#ab63fa",
           "#FFA15A",
           "#19d3f3",
           "#FF6692",
           "#B6E880",
           "#FF97FF",
           "#FECB52"
          ],
          "font": {
           "color": "#2a3f5f"
          },
          "geo": {
           "bgcolor": "white",
           "lakecolor": "white",
           "landcolor": "#E5ECF6",
           "showlakes": true,
           "showland": true,
           "subunitcolor": "white"
          },
          "hoverlabel": {
           "align": "left"
          },
          "hovermode": "closest",
          "mapbox": {
           "style": "light"
          },
          "paper_bgcolor": "white",
          "plot_bgcolor": "#E5ECF6",
          "polar": {
           "angularaxis": {
            "gridcolor": "white",
            "linecolor": "white",
            "ticks": ""
           },
           "bgcolor": "#E5ECF6",
           "radialaxis": {
            "gridcolor": "white",
            "linecolor": "white",
            "ticks": ""
           }
          },
          "scene": {
           "xaxis": {
            "backgroundcolor": "#E5ECF6",
            "gridcolor": "white",
            "gridwidth": 2,
            "linecolor": "white",
            "showbackground": true,
            "ticks": "",
            "zerolinecolor": "white"
           },
           "yaxis": {
            "backgroundcolor": "#E5ECF6",
            "gridcolor": "white",
            "gridwidth": 2,
            "linecolor": "white",
            "showbackground": true,
            "ticks": "",
            "zerolinecolor": "white"
           },
           "zaxis": {
            "backgroundcolor": "#E5ECF6",
            "gridcolor": "white",
            "gridwidth": 2,
            "linecolor": "white",
            "showbackground": true,
            "ticks": "",
            "zerolinecolor": "white"
           }
          },
          "shapedefaults": {
           "line": {
            "color": "#2a3f5f"
           }
          },
          "ternary": {
           "aaxis": {
            "gridcolor": "white",
            "linecolor": "white",
            "ticks": ""
           },
           "baxis": {
            "gridcolor": "white",
            "linecolor": "white",
            "ticks": ""
           },
           "bgcolor": "#E5ECF6",
           "caxis": {
            "gridcolor": "white",
            "linecolor": "white",
            "ticks": ""
           }
          },
          "title": {
           "x": 0.05
          },
          "xaxis": {
           "automargin": true,
           "gridcolor": "white",
           "linecolor": "white",
           "ticks": "",
           "title": {
            "standoff": 15
           },
           "zerolinecolor": "white",
           "zerolinewidth": 2
          },
          "yaxis": {
           "automargin": true,
           "gridcolor": "white",
           "linecolor": "white",
           "ticks": "",
           "title": {
            "standoff": 15
           },
           "zerolinecolor": "white",
           "zerolinewidth": 2
          }
         }
        },
        "xaxis": {
         "anchor": "y",
         "domain": [
          0,
          1
         ],
         "title": {
          "text": "State"
         }
        },
        "yaxis": {
         "anchor": "x",
         "domain": [
          0,
          1
         ],
         "title": {
          "text": "Recovered"
         }
        }
       }
      },
      "text/html": [
       "<div>\n",
       "        \n",
       "        \n",
       "            <div id=\"f07b403a-c0aa-46c1-8743-aa6987a48d67\" class=\"plotly-graph-div\" style=\"height:525px; width:100%;\"></div>\n",
       "            <script type=\"text/javascript\">\n",
       "                require([\"plotly\"], function(Plotly) {\n",
       "                    window.PLOTLYENV=window.PLOTLYENV || {};\n",
       "                    \n",
       "                if (document.getElementById(\"f07b403a-c0aa-46c1-8743-aa6987a48d67\")) {\n",
       "                    Plotly.newPlot(\n",
       "                        'f07b403a-c0aa-46c1-8743-aa6987a48d67',\n",
       "                        [{\"alignmentgroup\": \"True\", \"hovertemplate\": \"State=%{x}<br>Recovered=%{y}<extra></extra>\", \"legendgroup\": \"\", \"marker\": {\"color\": \"#636efa\"}, \"name\": \"\", \"offsetgroup\": \"\", \"orientation\": \"v\", \"showlegend\": false, \"textposition\": \"auto\", \"type\": \"bar\", \"x\": [\"Maharashtra\", \"Tamil Nadu\", \"Delhi\", \"Karnataka\", \"Andhra Pradesh\", \"Uttar Pradesh\", \"Gujarat\", \"West Bengal\", \"Telangana\", \"Rajasthan\", \"Bihar\", \"Haryana\", \"Assam\", \"Madhya Pradesh\", \"Odisha\", \"Jammu and Kashmir\", \"Kerala\", \"Punjab\", \"Jharkhand\", \"Chhattisgarh\", \"Uttarakhand\", \"Goa\", \"Tripura\", \"Puducherry\", \"Manipur\", \"Himachal Pradesh\", \"Ladakh\", \"Nagaland\", \"Arunachal Pradesh\", \"Chandigarh\", \"Dadra and Nagar Haveli and Daman and Diu\", \"Meghalaya\", \"Sikkim\", \"Mizoram\", \"Andaman and Nicobar Islands\", \"Lakshadweep\"], \"xaxis\": \"x\", \"y\": [327281, 227575, 128232, 84232, 120464, 66834, 51894, 63060, 54330, 36310, 46265, 33444, 38810, 27621, 28698, 16218, 19147, 14040, 7503, 8319, 5731, 5595, 4084, 3054, 1926, 2008, 1194, 824, 1326, 820, 1038, 423, 406, 289, 425, 0], \"yaxis\": \"y\"}],\n",
       "                        {\"barmode\": \"relative\", \"legend\": {\"tracegroupgap\": 0}, \"margin\": {\"t\": 60}, \"template\": {\"data\": {\"bar\": [{\"error_x\": {\"color\": \"#2a3f5f\"}, \"error_y\": {\"color\": \"#2a3f5f\"}, \"marker\": {\"line\": {\"color\": \"#E5ECF6\", \"width\": 0.5}}, \"type\": \"bar\"}], \"barpolar\": [{\"marker\": {\"line\": {\"color\": \"#E5ECF6\", \"width\": 0.5}}, \"type\": \"barpolar\"}], \"carpet\": [{\"aaxis\": {\"endlinecolor\": \"#2a3f5f\", \"gridcolor\": \"white\", \"linecolor\": \"white\", \"minorgridcolor\": \"white\", \"startlinecolor\": \"#2a3f5f\"}, \"baxis\": {\"endlinecolor\": \"#2a3f5f\", \"gridcolor\": \"white\", \"linecolor\": \"white\", \"minorgridcolor\": \"white\", \"startlinecolor\": \"#2a3f5f\"}, \"type\": \"carpet\"}], \"choropleth\": [{\"colorbar\": {\"outlinewidth\": 0, \"ticks\": \"\"}, \"type\": \"choropleth\"}], \"contour\": [{\"colorbar\": {\"outlinewidth\": 0, \"ticks\": \"\"}, \"colorscale\": [[0.0, \"#0d0887\"], [0.1111111111111111, \"#46039f\"], [0.2222222222222222, \"#7201a8\"], [0.3333333333333333, \"#9c179e\"], [0.4444444444444444, \"#bd3786\"], [0.5555555555555556, \"#d8576b\"], [0.6666666666666666, \"#ed7953\"], [0.7777777777777778, \"#fb9f3a\"], [0.8888888888888888, \"#fdca26\"], [1.0, \"#f0f921\"]], \"type\": \"contour\"}], \"contourcarpet\": [{\"colorbar\": {\"outlinewidth\": 0, \"ticks\": \"\"}, \"type\": \"contourcarpet\"}], \"heatmap\": [{\"colorbar\": {\"outlinewidth\": 0, \"ticks\": \"\"}, \"colorscale\": [[0.0, \"#0d0887\"], [0.1111111111111111, \"#46039f\"], [0.2222222222222222, \"#7201a8\"], [0.3333333333333333, \"#9c179e\"], [0.4444444444444444, \"#bd3786\"], [0.5555555555555556, \"#d8576b\"], [0.6666666666666666, \"#ed7953\"], [0.7777777777777778, \"#fb9f3a\"], [0.8888888888888888, \"#fdca26\"], [1.0, \"#f0f921\"]], \"type\": \"heatmap\"}], \"heatmapgl\": [{\"colorbar\": {\"outlinewidth\": 0, \"ticks\": \"\"}, \"colorscale\": [[0.0, \"#0d0887\"], [0.1111111111111111, \"#46039f\"], [0.2222222222222222, \"#7201a8\"], [0.3333333333333333, \"#9c179e\"], [0.4444444444444444, \"#bd3786\"], [0.5555555555555556, \"#d8576b\"], [0.6666666666666666, \"#ed7953\"], [0.7777777777777778, \"#fb9f3a\"], [0.8888888888888888, \"#fdca26\"], [1.0, \"#f0f921\"]], \"type\": \"heatmapgl\"}], \"histogram\": [{\"marker\": {\"colorbar\": {\"outlinewidth\": 0, \"ticks\": \"\"}}, \"type\": \"histogram\"}], \"histogram2d\": [{\"colorbar\": {\"outlinewidth\": 0, \"ticks\": \"\"}, \"colorscale\": [[0.0, \"#0d0887\"], [0.1111111111111111, \"#46039f\"], [0.2222222222222222, \"#7201a8\"], [0.3333333333333333, \"#9c179e\"], [0.4444444444444444, \"#bd3786\"], [0.5555555555555556, \"#d8576b\"], [0.6666666666666666, \"#ed7953\"], [0.7777777777777778, \"#fb9f3a\"], [0.8888888888888888, \"#fdca26\"], [1.0, \"#f0f921\"]], \"type\": \"histogram2d\"}], \"histogram2dcontour\": [{\"colorbar\": {\"outlinewidth\": 0, \"ticks\": \"\"}, \"colorscale\": [[0.0, \"#0d0887\"], [0.1111111111111111, \"#46039f\"], [0.2222222222222222, \"#7201a8\"], [0.3333333333333333, \"#9c179e\"], [0.4444444444444444, \"#bd3786\"], [0.5555555555555556, \"#d8576b\"], [0.6666666666666666, \"#ed7953\"], [0.7777777777777778, \"#fb9f3a\"], [0.8888888888888888, \"#fdca26\"], [1.0, \"#f0f921\"]], \"type\": \"histogram2dcontour\"}], \"mesh3d\": [{\"colorbar\": {\"outlinewidth\": 0, \"ticks\": \"\"}, \"type\": \"mesh3d\"}], \"parcoords\": [{\"line\": {\"colorbar\": {\"outlinewidth\": 0, \"ticks\": \"\"}}, \"type\": \"parcoords\"}], \"pie\": [{\"automargin\": true, \"type\": \"pie\"}], \"scatter\": [{\"marker\": {\"colorbar\": {\"outlinewidth\": 0, \"ticks\": \"\"}}, \"type\": \"scatter\"}], \"scatter3d\": [{\"line\": {\"colorbar\": {\"outlinewidth\": 0, \"ticks\": \"\"}}, \"marker\": {\"colorbar\": {\"outlinewidth\": 0, \"ticks\": \"\"}}, \"type\": \"scatter3d\"}], \"scattercarpet\": [{\"marker\": {\"colorbar\": {\"outlinewidth\": 0, \"ticks\": \"\"}}, \"type\": \"scattercarpet\"}], \"scattergeo\": [{\"marker\": {\"colorbar\": {\"outlinewidth\": 0, \"ticks\": \"\"}}, \"type\": \"scattergeo\"}], \"scattergl\": [{\"marker\": {\"colorbar\": {\"outlinewidth\": 0, \"ticks\": \"\"}}, \"type\": \"scattergl\"}], \"scattermapbox\": [{\"marker\": {\"colorbar\": {\"outlinewidth\": 0, \"ticks\": \"\"}}, \"type\": \"scattermapbox\"}], \"scatterpolar\": [{\"marker\": {\"colorbar\": {\"outlinewidth\": 0, \"ticks\": \"\"}}, \"type\": \"scatterpolar\"}], \"scatterpolargl\": [{\"marker\": {\"colorbar\": {\"outlinewidth\": 0, \"ticks\": \"\"}}, \"type\": \"scatterpolargl\"}], \"scatterternary\": [{\"marker\": {\"colorbar\": {\"outlinewidth\": 0, \"ticks\": \"\"}}, \"type\": \"scatterternary\"}], \"surface\": [{\"colorbar\": {\"outlinewidth\": 0, \"ticks\": \"\"}, \"colorscale\": [[0.0, \"#0d0887\"], [0.1111111111111111, \"#46039f\"], [0.2222222222222222, \"#7201a8\"], [0.3333333333333333, \"#9c179e\"], [0.4444444444444444, \"#bd3786\"], [0.5555555555555556, \"#d8576b\"], [0.6666666666666666, \"#ed7953\"], [0.7777777777777778, \"#fb9f3a\"], [0.8888888888888888, \"#fdca26\"], [1.0, \"#f0f921\"]], \"type\": \"surface\"}], \"table\": [{\"cells\": {\"fill\": {\"color\": \"#EBF0F8\"}, \"line\": {\"color\": \"white\"}}, \"header\": {\"fill\": {\"color\": \"#C8D4E3\"}, \"line\": {\"color\": \"white\"}}, \"type\": \"table\"}]}, \"layout\": {\"annotationdefaults\": {\"arrowcolor\": \"#2a3f5f\", \"arrowhead\": 0, \"arrowwidth\": 1}, \"coloraxis\": {\"colorbar\": {\"outlinewidth\": 0, \"ticks\": \"\"}}, \"colorscale\": {\"diverging\": [[0, \"#8e0152\"], [0.1, \"#c51b7d\"], [0.2, \"#de77ae\"], [0.3, \"#f1b6da\"], [0.4, \"#fde0ef\"], [0.5, \"#f7f7f7\"], [0.6, \"#e6f5d0\"], [0.7, \"#b8e186\"], [0.8, \"#7fbc41\"], [0.9, \"#4d9221\"], [1, \"#276419\"]], \"sequential\": [[0.0, \"#0d0887\"], [0.1111111111111111, \"#46039f\"], [0.2222222222222222, \"#7201a8\"], [0.3333333333333333, \"#9c179e\"], [0.4444444444444444, \"#bd3786\"], [0.5555555555555556, \"#d8576b\"], [0.6666666666666666, \"#ed7953\"], [0.7777777777777778, \"#fb9f3a\"], [0.8888888888888888, \"#fdca26\"], [1.0, \"#f0f921\"]], \"sequentialminus\": [[0.0, \"#0d0887\"], [0.1111111111111111, \"#46039f\"], [0.2222222222222222, \"#7201a8\"], [0.3333333333333333, \"#9c179e\"], [0.4444444444444444, \"#bd3786\"], [0.5555555555555556, \"#d8576b\"], [0.6666666666666666, \"#ed7953\"], [0.7777777777777778, \"#fb9f3a\"], [0.8888888888888888, \"#fdca26\"], [1.0, \"#f0f921\"]]}, \"colorway\": [\"#636efa\", \"#EF553B\", \"#00cc96\", \"#ab63fa\", \"#FFA15A\", \"#19d3f3\", \"#FF6692\", \"#B6E880\", \"#FF97FF\", \"#FECB52\"], \"font\": {\"color\": \"#2a3f5f\"}, \"geo\": {\"bgcolor\": \"white\", \"lakecolor\": \"white\", \"landcolor\": \"#E5ECF6\", \"showlakes\": true, \"showland\": true, \"subunitcolor\": \"white\"}, \"hoverlabel\": {\"align\": \"left\"}, \"hovermode\": \"closest\", \"mapbox\": {\"style\": \"light\"}, \"paper_bgcolor\": \"white\", \"plot_bgcolor\": \"#E5ECF6\", \"polar\": {\"angularaxis\": {\"gridcolor\": \"white\", \"linecolor\": \"white\", \"ticks\": \"\"}, \"bgcolor\": \"#E5ECF6\", \"radialaxis\": {\"gridcolor\": \"white\", \"linecolor\": \"white\", \"ticks\": \"\"}}, \"scene\": {\"xaxis\": {\"backgroundcolor\": \"#E5ECF6\", \"gridcolor\": \"white\", \"gridwidth\": 2, \"linecolor\": \"white\", \"showbackground\": true, \"ticks\": \"\", \"zerolinecolor\": \"white\"}, \"yaxis\": {\"backgroundcolor\": \"#E5ECF6\", \"gridcolor\": \"white\", \"gridwidth\": 2, \"linecolor\": \"white\", \"showbackground\": true, \"ticks\": \"\", \"zerolinecolor\": \"white\"}, \"zaxis\": {\"backgroundcolor\": \"#E5ECF6\", \"gridcolor\": \"white\", \"gridwidth\": 2, \"linecolor\": \"white\", \"showbackground\": true, \"ticks\": \"\", \"zerolinecolor\": \"white\"}}, \"shapedefaults\": {\"line\": {\"color\": \"#2a3f5f\"}}, \"ternary\": {\"aaxis\": {\"gridcolor\": \"white\", \"linecolor\": \"white\", \"ticks\": \"\"}, \"baxis\": {\"gridcolor\": \"white\", \"linecolor\": \"white\", \"ticks\": \"\"}, \"bgcolor\": \"#E5ECF6\", \"caxis\": {\"gridcolor\": \"white\", \"linecolor\": \"white\", \"ticks\": \"\"}}, \"title\": {\"x\": 0.05}, \"xaxis\": {\"automargin\": true, \"gridcolor\": \"white\", \"linecolor\": \"white\", \"ticks\": \"\", \"title\": {\"standoff\": 15}, \"zerolinecolor\": \"white\", \"zerolinewidth\": 2}, \"yaxis\": {\"automargin\": true, \"gridcolor\": \"white\", \"linecolor\": \"white\", \"ticks\": \"\", \"title\": {\"standoff\": 15}, \"zerolinecolor\": \"white\", \"zerolinewidth\": 2}}}, \"xaxis\": {\"anchor\": \"y\", \"domain\": [0.0, 1.0], \"title\": {\"text\": \"State\"}}, \"yaxis\": {\"anchor\": \"x\", \"domain\": [0.0, 1.0], \"title\": {\"text\": \"Recovered\"}}},\n",
       "                        {\"responsive\": true}\n",
       "                    ).then(function(){\n",
       "                            \n",
       "var gd = document.getElementById('f07b403a-c0aa-46c1-8743-aa6987a48d67');\n",
       "var x = new MutationObserver(function (mutations, observer) {{\n",
       "        var display = window.getComputedStyle(gd).display;\n",
       "        if (!display || display === 'none') {{\n",
       "            console.log([gd, 'removed!']);\n",
       "            Plotly.purge(gd);\n",
       "            observer.disconnect();\n",
       "        }}\n",
       "}});\n",
       "\n",
       "// Listen for the removal of the full notebook cells\n",
       "var notebookContainer = gd.closest('#notebook-container');\n",
       "if (notebookContainer) {{\n",
       "    x.observe(notebookContainer, {childList: true});\n",
       "}}\n",
       "\n",
       "// Listen for the clearing of the current output cell\n",
       "var outputEl = gd.closest('.output');\n",
       "if (outputEl) {{\n",
       "    x.observe(outputEl, {childList: true});\n",
       "}}\n",
       "\n",
       "                        })\n",
       "                };\n",
       "                });\n",
       "            </script>\n",
       "        </div>"
      ]
     },
     "metadata": {},
     "output_type": "display_data"
    }
   ],
   "source": [
    "#Bar Plot for Recovered \n",
    "px.bar(Data,x='State',y='Recovered')"
   ]
  },
  {
   "cell_type": "code",
   "execution_count": 34,
   "metadata": {},
   "outputs": [],
   "source": [
    "Avg_Confirmed_cases = Data['Confirmed'].mean()"
   ]
  },
  {
   "cell_type": "code",
   "execution_count": 35,
   "metadata": {},
   "outputs": [],
   "source": [
    "Avg_Recovery = Data['Recovered'].mean()"
   ]
  },
  {
   "cell_type": "code",
   "execution_count": 36,
   "metadata": {},
   "outputs": [],
   "source": [
    "Avg_Death = Data['Deaths'].mean()"
   ]
  },
  {
   "cell_type": "code",
   "execution_count": 37,
   "metadata": {},
   "outputs": [
    {
     "name": "stdout",
     "output_type": "stream",
     "text": [
      "Average Confirmed Cases 58105.833333333336\n"
     ]
    }
   ],
   "source": [
    "print('Average Confirmed Cases',Avg_Confirmed_cases)"
   ]
  },
  {
   "cell_type": "code",
   "execution_count": 38,
   "metadata": {},
   "outputs": [
    {
     "name": "stdout",
     "output_type": "stream",
     "text": [
      "Average Recovery 39706.11111111111\n"
     ]
    }
   ],
   "source": [
    "print('Average Recovery',Avg_Recovery)"
   ]
  },
  {
   "cell_type": "code",
   "execution_count": 39,
   "metadata": {},
   "outputs": [
    {
     "name": "stdout",
     "output_type": "stream",
     "text": [
      "Average Death 1183.9722222222222\n"
     ]
    }
   ],
   "source": [
    "print('Average Death',Avg_Death)"
   ]
  },
  {
   "cell_type": "code",
   "execution_count": 40,
   "metadata": {},
   "outputs": [],
   "source": [
    "Indian_coord = pd.read_excel(r'C:\\Users\\prateekj\\Downloads\\Indian Coordinates.xlsx')"
   ]
  },
  {
   "cell_type": "code",
   "execution_count": 41,
   "metadata": {},
   "outputs": [
    {
     "data": {
      "text/html": [
       "<div>\n",
       "<style scoped>\n",
       "    .dataframe tbody tr th:only-of-type {\n",
       "        vertical-align: middle;\n",
       "    }\n",
       "\n",
       "    .dataframe tbody tr th {\n",
       "        vertical-align: top;\n",
       "    }\n",
       "\n",
       "    .dataframe thead th {\n",
       "        text-align: right;\n",
       "    }\n",
       "</style>\n",
       "<table border=\"1\" class=\"dataframe\">\n",
       "  <thead>\n",
       "    <tr style=\"text-align: right;\">\n",
       "      <th></th>\n",
       "      <th>Name of State / UT</th>\n",
       "      <th>Latitude</th>\n",
       "      <th>Longitude</th>\n",
       "    </tr>\n",
       "  </thead>\n",
       "  <tbody>\n",
       "    <tr>\n",
       "      <th>0</th>\n",
       "      <td>Andaman And Nicobar</td>\n",
       "      <td>11.667026</td>\n",
       "      <td>92.735983</td>\n",
       "    </tr>\n",
       "    <tr>\n",
       "      <th>1</th>\n",
       "      <td>Andhra Pradesh</td>\n",
       "      <td>14.750429</td>\n",
       "      <td>78.570026</td>\n",
       "    </tr>\n",
       "    <tr>\n",
       "      <th>2</th>\n",
       "      <td>Arunachal Pradesh</td>\n",
       "      <td>27.100399</td>\n",
       "      <td>93.616601</td>\n",
       "    </tr>\n",
       "    <tr>\n",
       "      <th>3</th>\n",
       "      <td>Assam</td>\n",
       "      <td>26.749981</td>\n",
       "      <td>94.216667</td>\n",
       "    </tr>\n",
       "    <tr>\n",
       "      <th>4</th>\n",
       "      <td>Bihar</td>\n",
       "      <td>25.785414</td>\n",
       "      <td>87.479973</td>\n",
       "    </tr>\n",
       "    <tr>\n",
       "      <th>5</th>\n",
       "      <td>Chandigarh</td>\n",
       "      <td>30.719997</td>\n",
       "      <td>76.780006</td>\n",
       "    </tr>\n",
       "    <tr>\n",
       "      <th>6</th>\n",
       "      <td>Chhattisgarh</td>\n",
       "      <td>22.090420</td>\n",
       "      <td>82.159987</td>\n",
       "    </tr>\n",
       "    <tr>\n",
       "      <th>7</th>\n",
       "      <td>Dadra And Nagar Haveli</td>\n",
       "      <td>20.266578</td>\n",
       "      <td>73.016618</td>\n",
       "    </tr>\n",
       "    <tr>\n",
       "      <th>8</th>\n",
       "      <td>Delhi</td>\n",
       "      <td>28.669993</td>\n",
       "      <td>77.230004</td>\n",
       "    </tr>\n",
       "    <tr>\n",
       "      <th>9</th>\n",
       "      <td>Goa</td>\n",
       "      <td>15.491997</td>\n",
       "      <td>73.818001</td>\n",
       "    </tr>\n",
       "    <tr>\n",
       "      <th>10</th>\n",
       "      <td>Haryana</td>\n",
       "      <td>28.450006</td>\n",
       "      <td>77.019991</td>\n",
       "    </tr>\n",
       "    <tr>\n",
       "      <th>11</th>\n",
       "      <td>Himachal Pradesh</td>\n",
       "      <td>31.100025</td>\n",
       "      <td>77.166597</td>\n",
       "    </tr>\n",
       "    <tr>\n",
       "      <th>12</th>\n",
       "      <td>Union Territory of Jammu and Kashmir</td>\n",
       "      <td>33.450000</td>\n",
       "      <td>76.240000</td>\n",
       "    </tr>\n",
       "    <tr>\n",
       "      <th>13</th>\n",
       "      <td>Jharkhand</td>\n",
       "      <td>23.800393</td>\n",
       "      <td>86.419986</td>\n",
       "    </tr>\n",
       "    <tr>\n",
       "      <th>14</th>\n",
       "      <td>Karnataka</td>\n",
       "      <td>12.570381</td>\n",
       "      <td>76.919997</td>\n",
       "    </tr>\n",
       "    <tr>\n",
       "      <th>15</th>\n",
       "      <td>Kerala</td>\n",
       "      <td>8.900373</td>\n",
       "      <td>76.569993</td>\n",
       "    </tr>\n",
       "    <tr>\n",
       "      <th>16</th>\n",
       "      <td>Lakshadweep</td>\n",
       "      <td>10.562573</td>\n",
       "      <td>72.636867</td>\n",
       "    </tr>\n",
       "    <tr>\n",
       "      <th>17</th>\n",
       "      <td>Madhya Pradesh</td>\n",
       "      <td>21.300391</td>\n",
       "      <td>76.130019</td>\n",
       "    </tr>\n",
       "    <tr>\n",
       "      <th>18</th>\n",
       "      <td>Maharashtra</td>\n",
       "      <td>19.250232</td>\n",
       "      <td>73.160175</td>\n",
       "    </tr>\n",
       "    <tr>\n",
       "      <th>19</th>\n",
       "      <td>Manipur</td>\n",
       "      <td>24.799971</td>\n",
       "      <td>93.950017</td>\n",
       "    </tr>\n",
       "    <tr>\n",
       "      <th>20</th>\n",
       "      <td>Meghalaya</td>\n",
       "      <td>25.570492</td>\n",
       "      <td>91.880014</td>\n",
       "    </tr>\n",
       "    <tr>\n",
       "      <th>21</th>\n",
       "      <td>Mizoram</td>\n",
       "      <td>23.710399</td>\n",
       "      <td>92.720015</td>\n",
       "    </tr>\n",
       "    <tr>\n",
       "      <th>22</th>\n",
       "      <td>Nagaland</td>\n",
       "      <td>25.666998</td>\n",
       "      <td>94.116570</td>\n",
       "    </tr>\n",
       "    <tr>\n",
       "      <th>23</th>\n",
       "      <td>Orissa</td>\n",
       "      <td>19.820430</td>\n",
       "      <td>85.900017</td>\n",
       "    </tr>\n",
       "    <tr>\n",
       "      <th>24</th>\n",
       "      <td>Puducherry</td>\n",
       "      <td>11.934994</td>\n",
       "      <td>79.830000</td>\n",
       "    </tr>\n",
       "    <tr>\n",
       "      <th>25</th>\n",
       "      <td>Punjab</td>\n",
       "      <td>31.519974</td>\n",
       "      <td>75.980003</td>\n",
       "    </tr>\n",
       "    <tr>\n",
       "      <th>26</th>\n",
       "      <td>Rajasthan</td>\n",
       "      <td>26.449999</td>\n",
       "      <td>74.639981</td>\n",
       "    </tr>\n",
       "    <tr>\n",
       "      <th>27</th>\n",
       "      <td>Sikkim</td>\n",
       "      <td>27.333330</td>\n",
       "      <td>88.616647</td>\n",
       "    </tr>\n",
       "    <tr>\n",
       "      <th>28</th>\n",
       "      <td>Telengana</td>\n",
       "      <td>18.112400</td>\n",
       "      <td>79.019300</td>\n",
       "    </tr>\n",
       "    <tr>\n",
       "      <th>29</th>\n",
       "      <td>Tamil Nadu</td>\n",
       "      <td>12.920386</td>\n",
       "      <td>79.150042</td>\n",
       "    </tr>\n",
       "    <tr>\n",
       "      <th>30</th>\n",
       "      <td>Tripura</td>\n",
       "      <td>23.835404</td>\n",
       "      <td>91.279999</td>\n",
       "    </tr>\n",
       "    <tr>\n",
       "      <th>31</th>\n",
       "      <td>Uttar Pradesh</td>\n",
       "      <td>27.599981</td>\n",
       "      <td>78.050006</td>\n",
       "    </tr>\n",
       "    <tr>\n",
       "      <th>32</th>\n",
       "      <td>Uttarakhand</td>\n",
       "      <td>30.320409</td>\n",
       "      <td>78.050006</td>\n",
       "    </tr>\n",
       "    <tr>\n",
       "      <th>33</th>\n",
       "      <td>West Bengal</td>\n",
       "      <td>22.580390</td>\n",
       "      <td>88.329947</td>\n",
       "    </tr>\n",
       "    <tr>\n",
       "      <th>34</th>\n",
       "      <td>Union Territory of Ladakh</td>\n",
       "      <td>34.100000</td>\n",
       "      <td>77.340000</td>\n",
       "    </tr>\n",
       "  </tbody>\n",
       "</table>\n",
       "</div>"
      ],
      "text/plain": [
       "                      Name of State / UT   Latitude  Longitude\n",
       "0                   Andaman And Nicobar   11.667026  92.735983\n",
       "1                         Andhra Pradesh  14.750429  78.570026\n",
       "2                     Arunachal Pradesh   27.100399  93.616601\n",
       "3                                 Assam   26.749981  94.216667\n",
       "4                                 Bihar   25.785414  87.479973\n",
       "5                            Chandigarh   30.719997  76.780006\n",
       "6                          Chhattisgarh   22.090420  82.159987\n",
       "7                Dadra And Nagar Haveli   20.266578  73.016618\n",
       "8                                  Delhi  28.669993  77.230004\n",
       "9                                   Goa   15.491997  73.818001\n",
       "10                               Haryana  28.450006  77.019991\n",
       "11                     Himachal Pradesh   31.100025  77.166597\n",
       "12  Union Territory of Jammu and Kashmir  33.450000  76.240000\n",
       "13                            Jharkhand   23.800393  86.419986\n",
       "14                             Karnataka  12.570381  76.919997\n",
       "15                                Kerala   8.900373  76.569993\n",
       "16                          Lakshadweep   10.562573  72.636867\n",
       "17                       Madhya Pradesh   21.300391  76.130019\n",
       "18                           Maharashtra  19.250232  73.160175\n",
       "19                              Manipur   24.799971  93.950017\n",
       "20                            Meghalaya   25.570492  91.880014\n",
       "21                              Mizoram   23.710399  92.720015\n",
       "22                             Nagaland   25.666998  94.116570\n",
       "23                               Orissa   19.820430  85.900017\n",
       "24                           Puducherry   11.934994  79.830000\n",
       "25                                Punjab  31.519974  75.980003\n",
       "26                             Rajasthan  26.449999  74.639981\n",
       "27                               Sikkim   27.333330  88.616647\n",
       "28                             Telengana  18.112400  79.019300\n",
       "29                            Tamil Nadu  12.920386  79.150042\n",
       "30                              Tripura   23.835404  91.279999\n",
       "31                         Uttar Pradesh  27.599981  78.050006\n",
       "32                           Uttarakhand  30.320409  78.050006\n",
       "33                          West Bengal   22.580390  88.329947\n",
       "34             Union Territory of Ladakh  34.100000  77.340000"
      ]
     },
     "execution_count": 41,
     "metadata": {},
     "output_type": "execute_result"
    }
   ],
   "source": [
    "Indian_coord"
   ]
  },
  {
   "cell_type": "code",
   "execution_count": 42,
   "metadata": {},
   "outputs": [],
   "source": [
    "Indian_coord.rename(columns = {'Name of State / UT':'State'},inplace=True)"
   ]
  },
  {
   "cell_type": "code",
   "execution_count": 43,
   "metadata": {},
   "outputs": [
    {
     "data": {
      "text/html": [
       "<div>\n",
       "<style scoped>\n",
       "    .dataframe tbody tr th:only-of-type {\n",
       "        vertical-align: middle;\n",
       "    }\n",
       "\n",
       "    .dataframe tbody tr th {\n",
       "        vertical-align: top;\n",
       "    }\n",
       "\n",
       "    .dataframe thead th {\n",
       "        text-align: right;\n",
       "    }\n",
       "</style>\n",
       "<table border=\"1\" class=\"dataframe\">\n",
       "  <thead>\n",
       "    <tr style=\"text-align: right;\">\n",
       "      <th></th>\n",
       "      <th>State</th>\n",
       "      <th>Latitude</th>\n",
       "      <th>Longitude</th>\n",
       "    </tr>\n",
       "  </thead>\n",
       "  <tbody>\n",
       "    <tr>\n",
       "      <th>0</th>\n",
       "      <td>Andaman And Nicobar</td>\n",
       "      <td>11.667026</td>\n",
       "      <td>92.735983</td>\n",
       "    </tr>\n",
       "    <tr>\n",
       "      <th>1</th>\n",
       "      <td>Andhra Pradesh</td>\n",
       "      <td>14.750429</td>\n",
       "      <td>78.570026</td>\n",
       "    </tr>\n",
       "    <tr>\n",
       "      <th>2</th>\n",
       "      <td>Arunachal Pradesh</td>\n",
       "      <td>27.100399</td>\n",
       "      <td>93.616601</td>\n",
       "    </tr>\n",
       "    <tr>\n",
       "      <th>3</th>\n",
       "      <td>Assam</td>\n",
       "      <td>26.749981</td>\n",
       "      <td>94.216667</td>\n",
       "    </tr>\n",
       "    <tr>\n",
       "      <th>4</th>\n",
       "      <td>Bihar</td>\n",
       "      <td>25.785414</td>\n",
       "      <td>87.479973</td>\n",
       "    </tr>\n",
       "    <tr>\n",
       "      <th>5</th>\n",
       "      <td>Chandigarh</td>\n",
       "      <td>30.719997</td>\n",
       "      <td>76.780006</td>\n",
       "    </tr>\n",
       "    <tr>\n",
       "      <th>6</th>\n",
       "      <td>Chhattisgarh</td>\n",
       "      <td>22.090420</td>\n",
       "      <td>82.159987</td>\n",
       "    </tr>\n",
       "    <tr>\n",
       "      <th>7</th>\n",
       "      <td>Dadra And Nagar Haveli</td>\n",
       "      <td>20.266578</td>\n",
       "      <td>73.016618</td>\n",
       "    </tr>\n",
       "    <tr>\n",
       "      <th>8</th>\n",
       "      <td>Delhi</td>\n",
       "      <td>28.669993</td>\n",
       "      <td>77.230004</td>\n",
       "    </tr>\n",
       "    <tr>\n",
       "      <th>9</th>\n",
       "      <td>Goa</td>\n",
       "      <td>15.491997</td>\n",
       "      <td>73.818001</td>\n",
       "    </tr>\n",
       "    <tr>\n",
       "      <th>10</th>\n",
       "      <td>Haryana</td>\n",
       "      <td>28.450006</td>\n",
       "      <td>77.019991</td>\n",
       "    </tr>\n",
       "    <tr>\n",
       "      <th>11</th>\n",
       "      <td>Himachal Pradesh</td>\n",
       "      <td>31.100025</td>\n",
       "      <td>77.166597</td>\n",
       "    </tr>\n",
       "    <tr>\n",
       "      <th>12</th>\n",
       "      <td>Union Territory of Jammu and Kashmir</td>\n",
       "      <td>33.450000</td>\n",
       "      <td>76.240000</td>\n",
       "    </tr>\n",
       "    <tr>\n",
       "      <th>13</th>\n",
       "      <td>Jharkhand</td>\n",
       "      <td>23.800393</td>\n",
       "      <td>86.419986</td>\n",
       "    </tr>\n",
       "    <tr>\n",
       "      <th>14</th>\n",
       "      <td>Karnataka</td>\n",
       "      <td>12.570381</td>\n",
       "      <td>76.919997</td>\n",
       "    </tr>\n",
       "    <tr>\n",
       "      <th>15</th>\n",
       "      <td>Kerala</td>\n",
       "      <td>8.900373</td>\n",
       "      <td>76.569993</td>\n",
       "    </tr>\n",
       "    <tr>\n",
       "      <th>16</th>\n",
       "      <td>Lakshadweep</td>\n",
       "      <td>10.562573</td>\n",
       "      <td>72.636867</td>\n",
       "    </tr>\n",
       "    <tr>\n",
       "      <th>17</th>\n",
       "      <td>Madhya Pradesh</td>\n",
       "      <td>21.300391</td>\n",
       "      <td>76.130019</td>\n",
       "    </tr>\n",
       "    <tr>\n",
       "      <th>18</th>\n",
       "      <td>Maharashtra</td>\n",
       "      <td>19.250232</td>\n",
       "      <td>73.160175</td>\n",
       "    </tr>\n",
       "    <tr>\n",
       "      <th>19</th>\n",
       "      <td>Manipur</td>\n",
       "      <td>24.799971</td>\n",
       "      <td>93.950017</td>\n",
       "    </tr>\n",
       "    <tr>\n",
       "      <th>20</th>\n",
       "      <td>Meghalaya</td>\n",
       "      <td>25.570492</td>\n",
       "      <td>91.880014</td>\n",
       "    </tr>\n",
       "    <tr>\n",
       "      <th>21</th>\n",
       "      <td>Mizoram</td>\n",
       "      <td>23.710399</td>\n",
       "      <td>92.720015</td>\n",
       "    </tr>\n",
       "    <tr>\n",
       "      <th>22</th>\n",
       "      <td>Nagaland</td>\n",
       "      <td>25.666998</td>\n",
       "      <td>94.116570</td>\n",
       "    </tr>\n",
       "    <tr>\n",
       "      <th>23</th>\n",
       "      <td>Orissa</td>\n",
       "      <td>19.820430</td>\n",
       "      <td>85.900017</td>\n",
       "    </tr>\n",
       "    <tr>\n",
       "      <th>24</th>\n",
       "      <td>Puducherry</td>\n",
       "      <td>11.934994</td>\n",
       "      <td>79.830000</td>\n",
       "    </tr>\n",
       "    <tr>\n",
       "      <th>25</th>\n",
       "      <td>Punjab</td>\n",
       "      <td>31.519974</td>\n",
       "      <td>75.980003</td>\n",
       "    </tr>\n",
       "    <tr>\n",
       "      <th>26</th>\n",
       "      <td>Rajasthan</td>\n",
       "      <td>26.449999</td>\n",
       "      <td>74.639981</td>\n",
       "    </tr>\n",
       "    <tr>\n",
       "      <th>27</th>\n",
       "      <td>Sikkim</td>\n",
       "      <td>27.333330</td>\n",
       "      <td>88.616647</td>\n",
       "    </tr>\n",
       "    <tr>\n",
       "      <th>28</th>\n",
       "      <td>Telengana</td>\n",
       "      <td>18.112400</td>\n",
       "      <td>79.019300</td>\n",
       "    </tr>\n",
       "    <tr>\n",
       "      <th>29</th>\n",
       "      <td>Tamil Nadu</td>\n",
       "      <td>12.920386</td>\n",
       "      <td>79.150042</td>\n",
       "    </tr>\n",
       "    <tr>\n",
       "      <th>30</th>\n",
       "      <td>Tripura</td>\n",
       "      <td>23.835404</td>\n",
       "      <td>91.279999</td>\n",
       "    </tr>\n",
       "    <tr>\n",
       "      <th>31</th>\n",
       "      <td>Uttar Pradesh</td>\n",
       "      <td>27.599981</td>\n",
       "      <td>78.050006</td>\n",
       "    </tr>\n",
       "    <tr>\n",
       "      <th>32</th>\n",
       "      <td>Uttarakhand</td>\n",
       "      <td>30.320409</td>\n",
       "      <td>78.050006</td>\n",
       "    </tr>\n",
       "    <tr>\n",
       "      <th>33</th>\n",
       "      <td>West Bengal</td>\n",
       "      <td>22.580390</td>\n",
       "      <td>88.329947</td>\n",
       "    </tr>\n",
       "    <tr>\n",
       "      <th>34</th>\n",
       "      <td>Union Territory of Ladakh</td>\n",
       "      <td>34.100000</td>\n",
       "      <td>77.340000</td>\n",
       "    </tr>\n",
       "  </tbody>\n",
       "</table>\n",
       "</div>"
      ],
      "text/plain": [
       "                                   State   Latitude  Longitude\n",
       "0                   Andaman And Nicobar   11.667026  92.735983\n",
       "1                         Andhra Pradesh  14.750429  78.570026\n",
       "2                     Arunachal Pradesh   27.100399  93.616601\n",
       "3                                 Assam   26.749981  94.216667\n",
       "4                                 Bihar   25.785414  87.479973\n",
       "5                            Chandigarh   30.719997  76.780006\n",
       "6                          Chhattisgarh   22.090420  82.159987\n",
       "7                Dadra And Nagar Haveli   20.266578  73.016618\n",
       "8                                  Delhi  28.669993  77.230004\n",
       "9                                   Goa   15.491997  73.818001\n",
       "10                               Haryana  28.450006  77.019991\n",
       "11                     Himachal Pradesh   31.100025  77.166597\n",
       "12  Union Territory of Jammu and Kashmir  33.450000  76.240000\n",
       "13                            Jharkhand   23.800393  86.419986\n",
       "14                             Karnataka  12.570381  76.919997\n",
       "15                                Kerala   8.900373  76.569993\n",
       "16                          Lakshadweep   10.562573  72.636867\n",
       "17                       Madhya Pradesh   21.300391  76.130019\n",
       "18                           Maharashtra  19.250232  73.160175\n",
       "19                              Manipur   24.799971  93.950017\n",
       "20                            Meghalaya   25.570492  91.880014\n",
       "21                              Mizoram   23.710399  92.720015\n",
       "22                             Nagaland   25.666998  94.116570\n",
       "23                               Orissa   19.820430  85.900017\n",
       "24                           Puducherry   11.934994  79.830000\n",
       "25                                Punjab  31.519974  75.980003\n",
       "26                             Rajasthan  26.449999  74.639981\n",
       "27                               Sikkim   27.333330  88.616647\n",
       "28                             Telengana  18.112400  79.019300\n",
       "29                            Tamil Nadu  12.920386  79.150042\n",
       "30                              Tripura   23.835404  91.279999\n",
       "31                         Uttar Pradesh  27.599981  78.050006\n",
       "32                           Uttarakhand  30.320409  78.050006\n",
       "33                          West Bengal   22.580390  88.329947\n",
       "34             Union Territory of Ladakh  34.100000  77.340000"
      ]
     },
     "execution_count": 43,
     "metadata": {},
     "output_type": "execute_result"
    }
   ],
   "source": [
    "Indian_coord"
   ]
  },
  {
   "cell_type": "code",
   "execution_count": 44,
   "metadata": {},
   "outputs": [],
   "source": [
    "Data_cord = pd.merge(Indian_coord,Data,on='State')"
   ]
  },
  {
   "cell_type": "code",
   "execution_count": 45,
   "metadata": {},
   "outputs": [
    {
     "data": {
      "text/html": [
       "<div>\n",
       "<style scoped>\n",
       "    .dataframe tbody tr th:only-of-type {\n",
       "        vertical-align: middle;\n",
       "    }\n",
       "\n",
       "    .dataframe tbody tr th {\n",
       "        vertical-align: top;\n",
       "    }\n",
       "\n",
       "    .dataframe thead th {\n",
       "        text-align: right;\n",
       "    }\n",
       "</style>\n",
       "<table border=\"1\" class=\"dataframe\">\n",
       "  <thead>\n",
       "    <tr style=\"text-align: right;\">\n",
       "      <th></th>\n",
       "      <th>State</th>\n",
       "      <th>Latitude</th>\n",
       "      <th>Longitude</th>\n",
       "      <th>Confirmed</th>\n",
       "      <th>Recovered</th>\n",
       "      <th>Deaths</th>\n",
       "      <th>Active</th>\n",
       "    </tr>\n",
       "  </thead>\n",
       "  <tbody>\n",
       "    <tr>\n",
       "      <th>0</th>\n",
       "      <td>Andhra Pradesh</td>\n",
       "      <td>14.750429</td>\n",
       "      <td>78.570026</td>\n",
       "      <td>206960</td>\n",
       "      <td>120464</td>\n",
       "      <td>1842</td>\n",
       "      <td>84654</td>\n",
       "    </tr>\n",
       "    <tr>\n",
       "      <th>1</th>\n",
       "      <td>Delhi</td>\n",
       "      <td>28.669993</td>\n",
       "      <td>77.230004</td>\n",
       "      <td>142723</td>\n",
       "      <td>128232</td>\n",
       "      <td>4082</td>\n",
       "      <td>10409</td>\n",
       "    </tr>\n",
       "    <tr>\n",
       "      <th>2</th>\n",
       "      <td>Haryana</td>\n",
       "      <td>28.450006</td>\n",
       "      <td>77.019991</td>\n",
       "      <td>40054</td>\n",
       "      <td>33444</td>\n",
       "      <td>467</td>\n",
       "      <td>6143</td>\n",
       "    </tr>\n",
       "    <tr>\n",
       "      <th>3</th>\n",
       "      <td>Karnataka</td>\n",
       "      <td>12.570381</td>\n",
       "      <td>76.919997</td>\n",
       "      <td>164924</td>\n",
       "      <td>84232</td>\n",
       "      <td>2998</td>\n",
       "      <td>77685</td>\n",
       "    </tr>\n",
       "    <tr>\n",
       "      <th>4</th>\n",
       "      <td>Kerala</td>\n",
       "      <td>8.900373</td>\n",
       "      <td>76.569993</td>\n",
       "      <td>31700</td>\n",
       "      <td>19147</td>\n",
       "      <td>103</td>\n",
       "      <td>12411</td>\n",
       "    </tr>\n",
       "    <tr>\n",
       "      <th>5</th>\n",
       "      <td>Maharashtra</td>\n",
       "      <td>19.250232</td>\n",
       "      <td>73.160175</td>\n",
       "      <td>490262</td>\n",
       "      <td>327281</td>\n",
       "      <td>17092</td>\n",
       "      <td>145582</td>\n",
       "    </tr>\n",
       "    <tr>\n",
       "      <th>6</th>\n",
       "      <td>Punjab</td>\n",
       "      <td>31.519974</td>\n",
       "      <td>75.980003</td>\n",
       "      <td>21930</td>\n",
       "      <td>14040</td>\n",
       "      <td>539</td>\n",
       "      <td>7351</td>\n",
       "    </tr>\n",
       "    <tr>\n",
       "      <th>7</th>\n",
       "      <td>Rajasthan</td>\n",
       "      <td>26.449999</td>\n",
       "      <td>74.639981</td>\n",
       "      <td>50656</td>\n",
       "      <td>36310</td>\n",
       "      <td>776</td>\n",
       "      <td>13570</td>\n",
       "    </tr>\n",
       "    <tr>\n",
       "      <th>8</th>\n",
       "      <td>Tamil Nadu</td>\n",
       "      <td>12.920386</td>\n",
       "      <td>79.150042</td>\n",
       "      <td>285024</td>\n",
       "      <td>227575</td>\n",
       "      <td>4690</td>\n",
       "      <td>52759</td>\n",
       "    </tr>\n",
       "    <tr>\n",
       "      <th>9</th>\n",
       "      <td>Uttar Pradesh</td>\n",
       "      <td>27.599981</td>\n",
       "      <td>78.050006</td>\n",
       "      <td>113378</td>\n",
       "      <td>66834</td>\n",
       "      <td>1981</td>\n",
       "      <td>44563</td>\n",
       "    </tr>\n",
       "    <tr>\n",
       "      <th>10</th>\n",
       "      <td>Uttarakhand</td>\n",
       "      <td>30.320409</td>\n",
       "      <td>78.050006</td>\n",
       "      <td>8901</td>\n",
       "      <td>5731</td>\n",
       "      <td>112</td>\n",
       "      <td>3020</td>\n",
       "    </tr>\n",
       "  </tbody>\n",
       "</table>\n",
       "</div>"
      ],
      "text/plain": [
       "             State   Latitude  Longitude  Confirmed  Recovered  Deaths  Active\n",
       "0   Andhra Pradesh  14.750429  78.570026     206960     120464    1842   84654\n",
       "1            Delhi  28.669993  77.230004     142723     128232    4082   10409\n",
       "2          Haryana  28.450006  77.019991      40054      33444     467    6143\n",
       "3        Karnataka  12.570381  76.919997     164924      84232    2998   77685\n",
       "4           Kerala   8.900373  76.569993      31700      19147     103   12411\n",
       "5      Maharashtra  19.250232  73.160175     490262     327281   17092  145582\n",
       "6           Punjab  31.519974  75.980003      21930      14040     539    7351\n",
       "7        Rajasthan  26.449999  74.639981      50656      36310     776   13570\n",
       "8       Tamil Nadu  12.920386  79.150042     285024     227575    4690   52759\n",
       "9    Uttar Pradesh  27.599981  78.050006     113378      66834    1981   44563\n",
       "10     Uttarakhand  30.320409  78.050006       8901       5731     112    3020"
      ]
     },
     "execution_count": 45,
     "metadata": {},
     "output_type": "execute_result"
    }
   ],
   "source": [
    "Data_cord"
   ]
  },
  {
   "cell_type": "code",
   "execution_count": 49,
   "metadata": {},
   "outputs": [],
   "source": [
    "map=folium.Map(location=[20,70],zoom_start=1,tiles='StamenToner')\n",
    "\n",
    "for lat,long,value, name in zip(Data_cord['Latitude'],Data_cord['Longitude'],Data_cord['Confirmed'],Data_cord['State']):\n",
    "    folium.CircleMarker([lat,long],radius=value*0.4,popup=('<strong>State</strong>: '+str(name).capitalize()+'<br>''<strong>Total Cases</strong>: ' + str(value)+ '<br>'),color='black',fill_color='red',fill_opacity=0.3).add_to(map)"
   ]
  },
  {
   "cell_type": "code",
   "execution_count": 50,
   "metadata": {},
   "outputs": [
    {
     "data": {
      "text/html": [
       "<div style=\"width:100%;\"><div style=\"position:relative;width:100%;height:0;padding-bottom:60%;\"><span style=\"color:#565656\">Make this Notebook Trusted to load map: File -> Trust Notebook</span><iframe src=\"about:blank\" style=\"position:absolute;width:100%;height:100%;left:0;top:0;border:none !important;\" data-html=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 onload=\"this.contentDocument.open();this.contentDocument.write(atob(this.getAttribute('data-html')));this.contentDocument.close();\" allowfullscreen webkitallowfullscreen mozallowfullscreen></iframe></div></div>"
      ],
      "text/plain": [
       "<folium.folium.Map at 0x19794be0f98>"
      ]
     },
     "execution_count": 50,
     "metadata": {},
     "output_type": "execute_result"
    }
   ],
   "source": [
    "map"
   ]
  }
 ],
 "metadata": {
  "kernelspec": {
   "display_name": "Python 3",
   "language": "python",
   "name": "python3"
  },
  "language_info": {
   "codemirror_mode": {
    "name": "ipython",
    "version": 3
   },
   "file_extension": ".py",
   "mimetype": "text/x-python",
   "name": "python",
   "nbconvert_exporter": "python",
   "pygments_lexer": "ipython3",
   "version": "3.7.3"
  }
 },
 "nbformat": 4,
 "nbformat_minor": 2
}
